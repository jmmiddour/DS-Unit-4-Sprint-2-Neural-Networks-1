{
  "nbformat": 4,
  "nbformat_minor": 0,
  "metadata": {
    "colab": {
      "name": "LS_DS_432_Train_Assignment.ipynb",
      "provenance": [],
      "collapsed_sections": [],
      "include_colab_link": true
    },
    "kernelspec": {
      "display_name": "Python 3",
      "language": "python",
      "name": "python3"
    },
    "language_info": {
      "codemirror_mode": {
        "name": "ipython",
        "version": 3
      },
      "file_extension": ".py",
      "mimetype": "text/x-python",
      "name": "python",
      "nbconvert_exporter": "python",
      "pygments_lexer": "ipython3",
      "version": "3.7.3"
    },
    "nteract": {
      "version": "0.22.4"
    }
  },
  "cells": [
    {
      "cell_type": "markdown",
      "metadata": {
        "id": "view-in-github",
        "colab_type": "text"
      },
      "source": [
        "<a href=\"https://colab.research.google.com/github/jmmiddour/DS-Unit-4-Sprint-2-Neural-Networks-1/blob/main/module2-Train/LS_DS_422_Train_Assignment.ipynb\" target=\"_parent\"><img src=\"https://colab.research.google.com/assets/colab-badge.svg\" alt=\"Open In Colab\"/></a>"
      ]
    },
    {
      "cell_type": "markdown",
      "metadata": {
        "id": "NGGrt9EYlCqY"
      },
      "source": [
        "<img align=\"left\" src=\"https://lever-client-logos.s3.amazonaws.com/864372b1-534c-480e-acd5-9711f850815c-1524247202159.png\" width=200>\n",
        "<br></br>\n",
        "<br></br>\n",
        "\n",
        "# Train Practice\n",
        "\n",
        "## *Data Science Unit 4 Sprint 2 Assignment 2*\n",
        "\n",
        "Continue to use TensorFlow Keras & a sample of the [Quickdraw dataset](https://github.com/googlecreativelab/quickdraw-dataset) to build a sketch classification model. The dataset has been sampled to only 10 classes and 10000 observations per class. Please build a baseline classification model then run a few experiments with different optimizers and learning rates. \n",
        "\n",
        "*Don't forgot to switch to GPU on Colab!*"
      ]
    },
    {
      "cell_type": "markdown",
      "metadata": {
        "id": "ptJ2b3wk62Ud"
      },
      "source": [
        "### Write a function to load your data\n",
        "\n",
        "Wrap yesterday's preprocessing steps into a function that returns four items:\n",
        "* X_train\n",
        "* y_train\n",
        "* X_test\n",
        "* y_test\n",
        "\n",
        "Your function should accept a `path` to the data as a argument."
      ]
    },
    {
      "cell_type": "code",
      "metadata": {
        "id": "0hSb2EGy9bWK"
      },
      "source": [
        "# Imports \n",
        "import io\n",
        "import requests\n",
        "import numpy as np\n",
        "import pandas as pd\n",
        "from sklearn.model_selection import train_test_split\n",
        "\n",
        "# Tensorflow\n",
        "import tensorflow as tf \n",
        "from tensorflow.keras import Sequential\n",
        "from tensorflow.keras.layers import Dense\n",
        "from tensorflow.keras.optimizers import Adam, Adamax, Ftrl, Nadam, RMSprop, SGD\n",
        "\n",
        "# Plotting\n",
        "import seaborn as sns\n",
        "sns.set()\n",
        "import matplotlib.pyplot as plt\n",
        "%matplotlib inline"
      ],
      "execution_count": 1,
      "outputs": []
    },
    {
      "cell_type": "code",
      "metadata": {
        "id": "nJsIsrvp7O3e"
      },
      "source": [
        "def load_quickdraw10(path):\n",
        "  '''\n",
        "  Function to load dataset\n",
        "  '''\n",
        "  response = requests.get(path)\n",
        "  response.raise_for_status()\n",
        "  data = np.load(io.BytesIO(response.content))\n",
        "\n",
        "  X = data['arr_0']\n",
        "  y = data['arr_1']\n",
        "\n",
        "  X = X / 255\n",
        "\n",
        "  # Split 20% test, stratified on y\n",
        "  X_train, X_test, y_train, y_test = train_test_split(X, y, test_size=0.2, \n",
        "                                                      stratify=y, \n",
        "                                                      random_state=42)\n",
        "\n",
        "  return X_train, y_train, X_test, y_test"
      ],
      "execution_count": 2,
      "outputs": []
    },
    {
      "cell_type": "code",
      "metadata": {
        "id": "pRFGQRjf_bX-",
        "outputId": "6281a599-ff53-44ac-e26d-1cdb6301ce01",
        "colab": {
          "base_uri": "https://localhost:8080/"
        }
      },
      "source": [
        "X_train, y_train, X_test, y_test = load_quickdraw10(\n",
        "    'https://github.com/lukiepookieofficial/DS-Unit-4-Sprint-2-Neural-Networks/blob/main/quickdraw10.npz?raw=true')\n",
        "\n",
        "# Look at the size of all my data now\n",
        "print('X_train: ', X_train.shape)\n",
        "print('y_train: ', y_train.shape)\n",
        "print('X_test: ', X_test.shape)\n",
        "print('y_test: ', y_test.shape)"
      ],
      "execution_count": 3,
      "outputs": [
        {
          "output_type": "stream",
          "text": [
            "X_train:  (80000, 784)\n",
            "y_train:  (80000,)\n",
            "X_test:  (20000, 784)\n",
            "y_test:  (20000,)\n"
          ],
          "name": "stdout"
        }
      ]
    },
    {
      "cell_type": "markdown",
      "metadata": {
        "id": "l-6PxI6H5__2"
      },
      "source": [
        "### Write a Model Function\n",
        "Using your model from yesterday, write a function called `create_model` which returns a compiled TensorFlow Keras Sequential Model suitable for classifying the QuickDraw-10 dataset. Include parameters for the following: \n",
        "* Learning Rate\n",
        "* Optimizer"
      ]
    },
    {
      "cell_type": "code",
      "metadata": {
        "id": "nEREYT-3wI1f",
        "outputId": "253b9409-5a42-47d8-ef04-23a4817e3aba",
        "colab": {
          "base_uri": "https://localhost:8080/"
        }
      },
      "source": [
        "def create_model(act, lr, opt):\n",
        "  '''\n",
        "  Function to return a compiled TensorFlow Keras Sequential\n",
        "    model for classifying the QuickDraw-10 dataset.\n",
        "\n",
        "  Args:\n",
        "    act : string : Activator for the hidden layers of the model\n",
        "    lr  : int    : Learning rate for the optimizer\n",
        "    opt : class  : Optimizer to run on the model\n",
        "  '''\n",
        "  # Instantiate the model\n",
        "  model = Sequential([\n",
        "                      Dense(128, activation=act, input_dim=784),\n",
        "                      Dense(64, activation=act),\n",
        "                      Dense(32, activation=act),\n",
        "                      Dense(10, activation='softmax')\n",
        "  ])\n",
        "\n",
        "  model.compile(loss='sparse_categorical_crossentropy',\n",
        "                optimizer=opt(learning_rate=lr),\n",
        "                metrics=['accuracy'])\n",
        "  \n",
        "  return model\n",
        "\n",
        "# Use function to create a default model\n",
        "model = create_model('relu', 0.01, SGD)\n",
        "\n",
        "# Look at the model summary\n",
        "model.summary()"
      ],
      "execution_count": 4,
      "outputs": [
        {
          "output_type": "stream",
          "text": [
            "Model: \"sequential\"\n",
            "_________________________________________________________________\n",
            "Layer (type)                 Output Shape              Param #   \n",
            "=================================================================\n",
            "dense (Dense)                (None, 128)               100480    \n",
            "_________________________________________________________________\n",
            "dense_1 (Dense)              (None, 64)                8256      \n",
            "_________________________________________________________________\n",
            "dense_2 (Dense)              (None, 32)                2080      \n",
            "_________________________________________________________________\n",
            "dense_3 (Dense)              (None, 10)                330       \n",
            "=================================================================\n",
            "Total params: 111,146\n",
            "Trainable params: 111,146\n",
            "Non-trainable params: 0\n",
            "_________________________________________________________________\n"
          ],
          "name": "stdout"
        }
      ]
    },
    {
      "cell_type": "markdown",
      "metadata": {
        "id": "f0pCkh8C7eGL"
      },
      "source": [
        "### Experiment with Batch Size\n",
        "* Run 5 experiments with various batch sizes of your choice. \n",
        "* Visualize the results\n",
        "* Write up an analysis of the experiments and select the \"best\" performing model among your experiments. Make sure to compare against your model's performance yesterday. "
      ]
    },
    {
      "cell_type": "code",
      "metadata": {
        "id": "USXjs7Hk71Hy",
        "outputId": "a084e8b1-7dbb-45d5-c24f-5ef68bcbda74",
        "colab": {
          "base_uri": "https://localhost:8080/"
        }
      },
      "source": [
        "# Use function to create a default model\n",
        "model = create_model('relu', 0.01, SGD)\n",
        "\n",
        "# Batch size experiment #1\n",
        "bs32 = model.fit(\n",
        "  X_train, y_train,\n",
        "  epochs=25,\n",
        "  batch_size=32,\n",
        "  validation_data=(X_test, y_test)\n",
        ")"
      ],
      "execution_count": 5,
      "outputs": [
        {
          "output_type": "stream",
          "text": [
            "Epoch 1/25\n",
            "2500/2500 [==============================] - 5s 2ms/step - loss: 1.0816 - accuracy: 0.6679 - val_loss: 0.7699 - val_accuracy: 0.7746\n",
            "Epoch 2/25\n",
            "2500/2500 [==============================] - 5s 2ms/step - loss: 0.7206 - accuracy: 0.7875 - val_loss: 0.6585 - val_accuracy: 0.8027\n",
            "Epoch 3/25\n",
            "2500/2500 [==============================] - 5s 2ms/step - loss: 0.6246 - accuracy: 0.8154 - val_loss: 0.5927 - val_accuracy: 0.8220\n",
            "Epoch 4/25\n",
            "2500/2500 [==============================] - 4s 2ms/step - loss: 0.5647 - accuracy: 0.8323 - val_loss: 0.5489 - val_accuracy: 0.8356\n",
            "Epoch 5/25\n",
            "2500/2500 [==============================] - 4s 2ms/step - loss: 0.5230 - accuracy: 0.8442 - val_loss: 0.5336 - val_accuracy: 0.8408\n",
            "Epoch 6/25\n",
            "2500/2500 [==============================] - 5s 2ms/step - loss: 0.4902 - accuracy: 0.8541 - val_loss: 0.5128 - val_accuracy: 0.8481\n",
            "Epoch 7/25\n",
            "2500/2500 [==============================] - 5s 2ms/step - loss: 0.4633 - accuracy: 0.8624 - val_loss: 0.5005 - val_accuracy: 0.8515\n",
            "Epoch 8/25\n",
            "2500/2500 [==============================] - 4s 2ms/step - loss: 0.4404 - accuracy: 0.8699 - val_loss: 0.4779 - val_accuracy: 0.8600\n",
            "Epoch 9/25\n",
            "2500/2500 [==============================] - 4s 2ms/step - loss: 0.4202 - accuracy: 0.8763 - val_loss: 0.4679 - val_accuracy: 0.8619\n",
            "Epoch 10/25\n",
            "2500/2500 [==============================] - 4s 2ms/step - loss: 0.4034 - accuracy: 0.8814 - val_loss: 0.4694 - val_accuracy: 0.8610\n",
            "Epoch 11/25\n",
            "2500/2500 [==============================] - 4s 2ms/step - loss: 0.3866 - accuracy: 0.8863 - val_loss: 0.4582 - val_accuracy: 0.8666\n",
            "Epoch 12/25\n",
            "2500/2500 [==============================] - 4s 2ms/step - loss: 0.3723 - accuracy: 0.8901 - val_loss: 0.4591 - val_accuracy: 0.8648\n",
            "Epoch 13/25\n",
            "2500/2500 [==============================] - 4s 2ms/step - loss: 0.3576 - accuracy: 0.8947 - val_loss: 0.4537 - val_accuracy: 0.8669\n",
            "Epoch 14/25\n",
            "2500/2500 [==============================] - 4s 2ms/step - loss: 0.3454 - accuracy: 0.8991 - val_loss: 0.4567 - val_accuracy: 0.8651\n",
            "Epoch 15/25\n",
            "2500/2500 [==============================] - 4s 2ms/step - loss: 0.3340 - accuracy: 0.9023 - val_loss: 0.4586 - val_accuracy: 0.8659\n",
            "Epoch 16/25\n",
            "2500/2500 [==============================] - 4s 2ms/step - loss: 0.3213 - accuracy: 0.9056 - val_loss: 0.4594 - val_accuracy: 0.8666\n",
            "Epoch 17/25\n",
            "2500/2500 [==============================] - 4s 2ms/step - loss: 0.3113 - accuracy: 0.9085 - val_loss: 0.4629 - val_accuracy: 0.8679\n",
            "Epoch 18/25\n",
            "2500/2500 [==============================] - 4s 2ms/step - loss: 0.2997 - accuracy: 0.9119 - val_loss: 0.4693 - val_accuracy: 0.8641\n",
            "Epoch 19/25\n",
            "2500/2500 [==============================] - 4s 2ms/step - loss: 0.2903 - accuracy: 0.9148 - val_loss: 0.4740 - val_accuracy: 0.8669\n",
            "Epoch 20/25\n",
            "2500/2500 [==============================] - 4s 2ms/step - loss: 0.2811 - accuracy: 0.9168 - val_loss: 0.4951 - val_accuracy: 0.8612\n",
            "Epoch 21/25\n",
            "2500/2500 [==============================] - 4s 2ms/step - loss: 0.2722 - accuracy: 0.9206 - val_loss: 0.4870 - val_accuracy: 0.8619\n",
            "Epoch 22/25\n",
            "2500/2500 [==============================] - 4s 2ms/step - loss: 0.2628 - accuracy: 0.9230 - val_loss: 0.4845 - val_accuracy: 0.8684\n",
            "Epoch 23/25\n",
            "2500/2500 [==============================] - 4s 2ms/step - loss: 0.2547 - accuracy: 0.9250 - val_loss: 0.4922 - val_accuracy: 0.8637\n",
            "Epoch 24/25\n",
            "2500/2500 [==============================] - 4s 2ms/step - loss: 0.2465 - accuracy: 0.9272 - val_loss: 0.5106 - val_accuracy: 0.8609\n",
            "Epoch 25/25\n",
            "2500/2500 [==============================] - 4s 2ms/step - loss: 0.2381 - accuracy: 0.9299 - val_loss: 0.5085 - val_accuracy: 0.8634\n"
          ],
          "name": "stdout"
        }
      ]
    },
    {
      "cell_type": "code",
      "metadata": {
        "id": "VYv9kGH-pWEF",
        "outputId": "41cf0ecf-73f1-4679-a53c-622395908ced",
        "colab": {
          "base_uri": "https://localhost:8080/"
        }
      },
      "source": [
        "# Use function to create a default model\n",
        "model = create_model('relu', 0.01, SGD)\n",
        "\n",
        "# Batch size experiment #2\n",
        "bs256 = model.fit(\n",
        "  X_train, y_train,\n",
        "  epochs=25,\n",
        "  batch_size=256,\n",
        "  validation_data=(X_test, y_test)\n",
        ")"
      ],
      "execution_count": 6,
      "outputs": [
        {
          "output_type": "stream",
          "text": [
            "Epoch 1/25\n",
            "313/313 [==============================] - 2s 5ms/step - loss: 1.9503 - accuracy: 0.3776 - val_loss: 1.4715 - val_accuracy: 0.5483\n",
            "Epoch 2/25\n",
            "313/313 [==============================] - 2s 5ms/step - loss: 1.2510 - accuracy: 0.6144 - val_loss: 1.0939 - val_accuracy: 0.6596\n",
            "Epoch 3/25\n",
            "313/313 [==============================] - 2s 5ms/step - loss: 1.0291 - accuracy: 0.6922 - val_loss: 0.9514 - val_accuracy: 0.7139\n",
            "Epoch 4/25\n",
            "313/313 [==============================] - 2s 5ms/step - loss: 0.9229 - accuracy: 0.7300 - val_loss: 0.8766 - val_accuracy: 0.7439\n",
            "Epoch 5/25\n",
            "313/313 [==============================] - 2s 5ms/step - loss: 0.8647 - accuracy: 0.7480 - val_loss: 0.8340 - val_accuracy: 0.7579\n",
            "Epoch 6/25\n",
            "313/313 [==============================] - 2s 5ms/step - loss: 0.8266 - accuracy: 0.7591 - val_loss: 0.8014 - val_accuracy: 0.7655\n",
            "Epoch 7/25\n",
            "313/313 [==============================] - 2s 5ms/step - loss: 0.7969 - accuracy: 0.7678 - val_loss: 0.7785 - val_accuracy: 0.7749\n",
            "Epoch 8/25\n",
            "313/313 [==============================] - 2s 5ms/step - loss: 0.7720 - accuracy: 0.7746 - val_loss: 0.7598 - val_accuracy: 0.7746\n",
            "Epoch 9/25\n",
            "313/313 [==============================] - 2s 5ms/step - loss: 0.7511 - accuracy: 0.7813 - val_loss: 0.7364 - val_accuracy: 0.7857\n",
            "Epoch 10/25\n",
            "313/313 [==============================] - 2s 5ms/step - loss: 0.7314 - accuracy: 0.7872 - val_loss: 0.7225 - val_accuracy: 0.7903\n",
            "Epoch 11/25\n",
            "313/313 [==============================] - 2s 5ms/step - loss: 0.7136 - accuracy: 0.7923 - val_loss: 0.7008 - val_accuracy: 0.7958\n",
            "Epoch 12/25\n",
            "313/313 [==============================] - 2s 5ms/step - loss: 0.6970 - accuracy: 0.7974 - val_loss: 0.6862 - val_accuracy: 0.7976\n",
            "Epoch 13/25\n",
            "313/313 [==============================] - 2s 6ms/step - loss: 0.6816 - accuracy: 0.8018 - val_loss: 0.6757 - val_accuracy: 0.8026\n",
            "Epoch 14/25\n",
            "313/313 [==============================] - 2s 6ms/step - loss: 0.6675 - accuracy: 0.8059 - val_loss: 0.6683 - val_accuracy: 0.8023\n",
            "Epoch 15/25\n",
            "313/313 [==============================] - 2s 5ms/step - loss: 0.6537 - accuracy: 0.8099 - val_loss: 0.6513 - val_accuracy: 0.8090\n",
            "Epoch 16/25\n",
            "313/313 [==============================] - 2s 5ms/step - loss: 0.6411 - accuracy: 0.8131 - val_loss: 0.6370 - val_accuracy: 0.8127\n",
            "Epoch 17/25\n",
            "313/313 [==============================] - 2s 5ms/step - loss: 0.6297 - accuracy: 0.8165 - val_loss: 0.6282 - val_accuracy: 0.8136\n",
            "Epoch 18/25\n",
            "313/313 [==============================] - 2s 5ms/step - loss: 0.6180 - accuracy: 0.8191 - val_loss: 0.6211 - val_accuracy: 0.8154\n",
            "Epoch 19/25\n",
            "313/313 [==============================] - 2s 5ms/step - loss: 0.6078 - accuracy: 0.8226 - val_loss: 0.6123 - val_accuracy: 0.8185\n",
            "Epoch 20/25\n",
            "313/313 [==============================] - 2s 5ms/step - loss: 0.5980 - accuracy: 0.8251 - val_loss: 0.6033 - val_accuracy: 0.8219\n",
            "Epoch 21/25\n",
            "313/313 [==============================] - 2s 5ms/step - loss: 0.5885 - accuracy: 0.8277 - val_loss: 0.5957 - val_accuracy: 0.8231\n",
            "Epoch 22/25\n",
            "313/313 [==============================] - 2s 5ms/step - loss: 0.5795 - accuracy: 0.8306 - val_loss: 0.5861 - val_accuracy: 0.8271\n",
            "Epoch 23/25\n",
            "313/313 [==============================] - 2s 5ms/step - loss: 0.5713 - accuracy: 0.8322 - val_loss: 0.5816 - val_accuracy: 0.8279\n",
            "Epoch 24/25\n",
            "313/313 [==============================] - 2s 5ms/step - loss: 0.5639 - accuracy: 0.8351 - val_loss: 0.5753 - val_accuracy: 0.8293\n",
            "Epoch 25/25\n",
            "313/313 [==============================] - 2s 5ms/step - loss: 0.5565 - accuracy: 0.8363 - val_loss: 0.5660 - val_accuracy: 0.8332\n"
          ],
          "name": "stdout"
        }
      ]
    },
    {
      "cell_type": "code",
      "metadata": {
        "id": "2-iTvwE8pigr",
        "outputId": "6b0cf6c5-57da-4f8c-9f3c-48798eecf9a3",
        "colab": {
          "base_uri": "https://localhost:8080/"
        }
      },
      "source": [
        "# Use function to create a default model\n",
        "model = create_model('relu', 0.01, SGD)\n",
        "\n",
        "# Batch size experiment #3\n",
        "bs512 = model.fit(\n",
        "  X_train, y_train,\n",
        "  epochs=25,\n",
        "  batch_size=512,\n",
        "  validation_data=(X_test, y_test)\n",
        ")"
      ],
      "execution_count": 7,
      "outputs": [
        {
          "output_type": "stream",
          "text": [
            "Epoch 1/25\n",
            "157/157 [==============================] - 1s 9ms/step - loss: 2.1700 - accuracy: 0.2230 - val_loss: 2.0155 - val_accuracy: 0.3243\n",
            "Epoch 2/25\n",
            "157/157 [==============================] - 1s 8ms/step - loss: 1.8371 - accuracy: 0.4039 - val_loss: 1.6246 - val_accuracy: 0.5128\n",
            "Epoch 3/25\n",
            "157/157 [==============================] - 1s 8ms/step - loss: 1.4499 - accuracy: 0.5695 - val_loss: 1.2838 - val_accuracy: 0.6123\n",
            "Epoch 4/25\n",
            "157/157 [==============================] - 1s 8ms/step - loss: 1.2074 - accuracy: 0.6366 - val_loss: 1.1172 - val_accuracy: 0.6596\n",
            "Epoch 5/25\n",
            "157/157 [==============================] - 1s 8ms/step - loss: 1.0851 - accuracy: 0.6742 - val_loss: 1.0258 - val_accuracy: 0.6884\n",
            "Epoch 6/25\n",
            "157/157 [==============================] - 1s 8ms/step - loss: 1.0104 - accuracy: 0.6995 - val_loss: 0.9677 - val_accuracy: 0.7064\n",
            "Epoch 7/25\n",
            "157/157 [==============================] - 1s 8ms/step - loss: 0.9589 - accuracy: 0.7162 - val_loss: 0.9213 - val_accuracy: 0.7232\n",
            "Epoch 8/25\n",
            "157/157 [==============================] - 1s 8ms/step - loss: 0.9212 - accuracy: 0.7281 - val_loss: 0.8878 - val_accuracy: 0.7344\n",
            "Epoch 9/25\n",
            "157/157 [==============================] - 1s 8ms/step - loss: 0.8918 - accuracy: 0.7381 - val_loss: 0.8629 - val_accuracy: 0.7437\n",
            "Epoch 10/25\n",
            "157/157 [==============================] - 1s 8ms/step - loss: 0.8678 - accuracy: 0.7457 - val_loss: 0.8435 - val_accuracy: 0.7497\n",
            "Epoch 11/25\n",
            "157/157 [==============================] - 1s 8ms/step - loss: 0.8481 - accuracy: 0.7522 - val_loss: 0.8232 - val_accuracy: 0.7556\n",
            "Epoch 12/25\n",
            "157/157 [==============================] - 1s 8ms/step - loss: 0.8303 - accuracy: 0.7578 - val_loss: 0.8087 - val_accuracy: 0.7595\n",
            "Epoch 13/25\n",
            "157/157 [==============================] - 1s 8ms/step - loss: 0.8144 - accuracy: 0.7630 - val_loss: 0.7955 - val_accuracy: 0.7631\n",
            "Epoch 14/25\n",
            "157/157 [==============================] - 1s 8ms/step - loss: 0.7999 - accuracy: 0.7675 - val_loss: 0.7859 - val_accuracy: 0.7678\n",
            "Epoch 15/25\n",
            "157/157 [==============================] - 1s 8ms/step - loss: 0.7868 - accuracy: 0.7710 - val_loss: 0.7719 - val_accuracy: 0.7714\n",
            "Epoch 16/25\n",
            "157/157 [==============================] - 1s 8ms/step - loss: 0.7740 - accuracy: 0.7751 - val_loss: 0.7590 - val_accuracy: 0.7761\n",
            "Epoch 17/25\n",
            "157/157 [==============================] - 1s 8ms/step - loss: 0.7621 - accuracy: 0.7786 - val_loss: 0.7503 - val_accuracy: 0.7769\n",
            "Epoch 18/25\n",
            "157/157 [==============================] - 1s 8ms/step - loss: 0.7507 - accuracy: 0.7824 - val_loss: 0.7378 - val_accuracy: 0.7825\n",
            "Epoch 19/25\n",
            "157/157 [==============================] - 1s 8ms/step - loss: 0.7397 - accuracy: 0.7855 - val_loss: 0.7314 - val_accuracy: 0.7861\n",
            "Epoch 20/25\n",
            "157/157 [==============================] - 1s 8ms/step - loss: 0.7297 - accuracy: 0.7876 - val_loss: 0.7217 - val_accuracy: 0.7899\n",
            "Epoch 21/25\n",
            "157/157 [==============================] - 1s 8ms/step - loss: 0.7200 - accuracy: 0.7916 - val_loss: 0.7126 - val_accuracy: 0.7896\n",
            "Epoch 22/25\n",
            "157/157 [==============================] - 1s 8ms/step - loss: 0.7106 - accuracy: 0.7929 - val_loss: 0.7032 - val_accuracy: 0.7938\n",
            "Epoch 23/25\n",
            "157/157 [==============================] - 1s 8ms/step - loss: 0.7022 - accuracy: 0.7961 - val_loss: 0.6945 - val_accuracy: 0.7946\n",
            "Epoch 24/25\n",
            "157/157 [==============================] - 1s 8ms/step - loss: 0.6935 - accuracy: 0.7987 - val_loss: 0.6864 - val_accuracy: 0.7995\n",
            "Epoch 25/25\n",
            "157/157 [==============================] - 1s 8ms/step - loss: 0.6855 - accuracy: 0.8009 - val_loss: 0.6804 - val_accuracy: 0.8001\n"
          ],
          "name": "stdout"
        }
      ]
    },
    {
      "cell_type": "code",
      "metadata": {
        "id": "sWXfZrdcpi9V",
        "outputId": "685bf345-b1bb-4cf9-bdd7-1d910c67802f",
        "colab": {
          "base_uri": "https://localhost:8080/"
        }
      },
      "source": [
        "# Use function to create a default model\n",
        "model = create_model('relu', 0.01, SGD)\n",
        "\n",
        "# Batch size experiment #4\n",
        "bs64 = model.fit(\n",
        "  X_train, y_train,\n",
        "  epochs=25,\n",
        "  batch_size=64,\n",
        "  validation_data=(X_test, y_test)\n",
        ")"
      ],
      "execution_count": 8,
      "outputs": [
        {
          "output_type": "stream",
          "text": [
            "Epoch 1/25\n",
            "1250/1250 [==============================] - 3s 2ms/step - loss: 1.3161 - accuracy: 0.5857 - val_loss: 0.9192 - val_accuracy: 0.7254\n",
            "Epoch 2/25\n",
            "1250/1250 [==============================] - 3s 2ms/step - loss: 0.8539 - accuracy: 0.7502 - val_loss: 0.7819 - val_accuracy: 0.7703\n",
            "Epoch 3/25\n",
            "1250/1250 [==============================] - 3s 2ms/step - loss: 0.7585 - accuracy: 0.7793 - val_loss: 0.7213 - val_accuracy: 0.7883\n",
            "Epoch 4/25\n",
            "1250/1250 [==============================] - 3s 2ms/step - loss: 0.6988 - accuracy: 0.7958 - val_loss: 0.6677 - val_accuracy: 0.8046\n",
            "Epoch 5/25\n",
            "1250/1250 [==============================] - 3s 2ms/step - loss: 0.6511 - accuracy: 0.8096 - val_loss: 0.6358 - val_accuracy: 0.8122\n",
            "Epoch 6/25\n",
            "1250/1250 [==============================] - 3s 2ms/step - loss: 0.6119 - accuracy: 0.8205 - val_loss: 0.5937 - val_accuracy: 0.8260\n",
            "Epoch 7/25\n",
            "1250/1250 [==============================] - 3s 2ms/step - loss: 0.5780 - accuracy: 0.8303 - val_loss: 0.5730 - val_accuracy: 0.8316\n",
            "Epoch 8/25\n",
            "1250/1250 [==============================] - 3s 2ms/step - loss: 0.5497 - accuracy: 0.8385 - val_loss: 0.5611 - val_accuracy: 0.8351\n",
            "Epoch 9/25\n",
            "1250/1250 [==============================] - 3s 2ms/step - loss: 0.5248 - accuracy: 0.8462 - val_loss: 0.5334 - val_accuracy: 0.8443\n",
            "Epoch 10/25\n",
            "1250/1250 [==============================] - 3s 2ms/step - loss: 0.5039 - accuracy: 0.8520 - val_loss: 0.5262 - val_accuracy: 0.8466\n",
            "Epoch 11/25\n",
            "1250/1250 [==============================] - 3s 2ms/step - loss: 0.4855 - accuracy: 0.8569 - val_loss: 0.5048 - val_accuracy: 0.8522\n",
            "Epoch 12/25\n",
            "1250/1250 [==============================] - 3s 2ms/step - loss: 0.4695 - accuracy: 0.8625 - val_loss: 0.5040 - val_accuracy: 0.8517\n",
            "Epoch 13/25\n",
            "1250/1250 [==============================] - 3s 2ms/step - loss: 0.4544 - accuracy: 0.8668 - val_loss: 0.4869 - val_accuracy: 0.8587\n",
            "Epoch 14/25\n",
            "1250/1250 [==============================] - 3s 2ms/step - loss: 0.4411 - accuracy: 0.8703 - val_loss: 0.4783 - val_accuracy: 0.8623\n",
            "Epoch 15/25\n",
            "1250/1250 [==============================] - 3s 2ms/step - loss: 0.4286 - accuracy: 0.8742 - val_loss: 0.4742 - val_accuracy: 0.8631\n",
            "Epoch 16/25\n",
            "1250/1250 [==============================] - 3s 2ms/step - loss: 0.4172 - accuracy: 0.8777 - val_loss: 0.4745 - val_accuracy: 0.8609\n",
            "Epoch 17/25\n",
            "1250/1250 [==============================] - 3s 2ms/step - loss: 0.4062 - accuracy: 0.8807 - val_loss: 0.4658 - val_accuracy: 0.8645\n",
            "Epoch 18/25\n",
            "1250/1250 [==============================] - 3s 2ms/step - loss: 0.3961 - accuracy: 0.8843 - val_loss: 0.4655 - val_accuracy: 0.8640\n",
            "Epoch 19/25\n",
            "1250/1250 [==============================] - 3s 2ms/step - loss: 0.3868 - accuracy: 0.8870 - val_loss: 0.4698 - val_accuracy: 0.8629\n",
            "Epoch 20/25\n",
            "1250/1250 [==============================] - 3s 3ms/step - loss: 0.3775 - accuracy: 0.8900 - val_loss: 0.4663 - val_accuracy: 0.8659\n",
            "Epoch 21/25\n",
            "1250/1250 [==============================] - 3s 2ms/step - loss: 0.3684 - accuracy: 0.8926 - val_loss: 0.4622 - val_accuracy: 0.8663\n",
            "Epoch 22/25\n",
            "1250/1250 [==============================] - 3s 2ms/step - loss: 0.3602 - accuracy: 0.8952 - val_loss: 0.4560 - val_accuracy: 0.8676\n",
            "Epoch 23/25\n",
            "1250/1250 [==============================] - 3s 2ms/step - loss: 0.3526 - accuracy: 0.8977 - val_loss: 0.4552 - val_accuracy: 0.8667\n",
            "Epoch 24/25\n",
            "1250/1250 [==============================] - 3s 2ms/step - loss: 0.3449 - accuracy: 0.8993 - val_loss: 0.4539 - val_accuracy: 0.8681\n",
            "Epoch 25/25\n",
            "1250/1250 [==============================] - 3s 2ms/step - loss: 0.3368 - accuracy: 0.9019 - val_loss: 0.4690 - val_accuracy: 0.8647\n"
          ],
          "name": "stdout"
        }
      ]
    },
    {
      "cell_type": "code",
      "metadata": {
        "id": "LSLmvQD5pjy7",
        "outputId": "3f1a7d6c-1f9c-4f91-8503-c090ef4c8d81",
        "colab": {
          "base_uri": "https://localhost:8080/"
        }
      },
      "source": [
        "# Use function to create a default model\n",
        "model = create_model('relu', 0.01, SGD)\n",
        "\n",
        "# Batch size experiment #5\n",
        "bs8 = model.fit(\n",
        "  X_train, y_train,\n",
        "  epochs=25,\n",
        "  batch_size=8,\n",
        "  validation_data=(X_test, y_test)\n",
        ")"
      ],
      "execution_count": 9,
      "outputs": [
        {
          "output_type": "stream",
          "text": [
            "Epoch 1/25\n",
            "10000/10000 [==============================] - 16s 2ms/step - loss: 0.8087 - accuracy: 0.7517 - val_loss: 0.5893 - val_accuracy: 0.8224\n",
            "Epoch 2/25\n",
            "10000/10000 [==============================] - 15s 1ms/step - loss: 0.5434 - accuracy: 0.8375 - val_loss: 0.5123 - val_accuracy: 0.8442\n",
            "Epoch 3/25\n",
            "10000/10000 [==============================] - 16s 2ms/step - loss: 0.4701 - accuracy: 0.8573 - val_loss: 0.4878 - val_accuracy: 0.8552\n",
            "Epoch 4/25\n",
            "10000/10000 [==============================] - 18s 2ms/step - loss: 0.4227 - accuracy: 0.8712 - val_loss: 0.4646 - val_accuracy: 0.8599\n",
            "Epoch 5/25\n",
            "10000/10000 [==============================] - 21s 2ms/step - loss: 0.3875 - accuracy: 0.8823 - val_loss: 0.4488 - val_accuracy: 0.8662\n",
            "Epoch 6/25\n",
            "10000/10000 [==============================] - 20s 2ms/step - loss: 0.3588 - accuracy: 0.8909 - val_loss: 0.4401 - val_accuracy: 0.8685\n",
            "Epoch 7/25\n",
            "10000/10000 [==============================] - 19s 2ms/step - loss: 0.3343 - accuracy: 0.8997 - val_loss: 0.4435 - val_accuracy: 0.8681\n",
            "Epoch 8/25\n",
            "10000/10000 [==============================] - 17s 2ms/step - loss: 0.3131 - accuracy: 0.9048 - val_loss: 0.4628 - val_accuracy: 0.8656\n",
            "Epoch 9/25\n",
            "10000/10000 [==============================] - 17s 2ms/step - loss: 0.2936 - accuracy: 0.9113 - val_loss: 0.4535 - val_accuracy: 0.8698\n",
            "Epoch 10/25\n",
            "10000/10000 [==============================] - 19s 2ms/step - loss: 0.2773 - accuracy: 0.9165 - val_loss: 0.4766 - val_accuracy: 0.8651\n",
            "Epoch 11/25\n",
            "10000/10000 [==============================] - 18s 2ms/step - loss: 0.2607 - accuracy: 0.9201 - val_loss: 0.4865 - val_accuracy: 0.8632\n",
            "Epoch 12/25\n",
            "10000/10000 [==============================] - 18s 2ms/step - loss: 0.2469 - accuracy: 0.9244 - val_loss: 0.4938 - val_accuracy: 0.8655\n",
            "Epoch 13/25\n",
            "10000/10000 [==============================] - 17s 2ms/step - loss: 0.2349 - accuracy: 0.9272 - val_loss: 0.4929 - val_accuracy: 0.8655\n",
            "Epoch 14/25\n",
            "10000/10000 [==============================] - 18s 2ms/step - loss: 0.2223 - accuracy: 0.9312 - val_loss: 0.5077 - val_accuracy: 0.8624\n",
            "Epoch 15/25\n",
            "10000/10000 [==============================] - 17s 2ms/step - loss: 0.2101 - accuracy: 0.9349 - val_loss: 0.5202 - val_accuracy: 0.8640\n",
            "Epoch 16/25\n",
            "10000/10000 [==============================] - 16s 2ms/step - loss: 0.2014 - accuracy: 0.9374 - val_loss: 0.5380 - val_accuracy: 0.8641\n",
            "Epoch 17/25\n",
            "10000/10000 [==============================] - 20s 2ms/step - loss: 0.1901 - accuracy: 0.9415 - val_loss: 0.5635 - val_accuracy: 0.8612\n",
            "Epoch 18/25\n",
            "10000/10000 [==============================] - 17s 2ms/step - loss: 0.1822 - accuracy: 0.9433 - val_loss: 0.5621 - val_accuracy: 0.8602\n",
            "Epoch 19/25\n",
            "10000/10000 [==============================] - 16s 2ms/step - loss: 0.1723 - accuracy: 0.9464 - val_loss: 0.5854 - val_accuracy: 0.8615\n",
            "Epoch 20/25\n",
            "10000/10000 [==============================] - 16s 2ms/step - loss: 0.1654 - accuracy: 0.9486 - val_loss: 0.6239 - val_accuracy: 0.8594\n",
            "Epoch 21/25\n",
            "10000/10000 [==============================] - 16s 2ms/step - loss: 0.1604 - accuracy: 0.9486 - val_loss: 0.6271 - val_accuracy: 0.8579\n",
            "Epoch 22/25\n",
            "10000/10000 [==============================] - 21s 2ms/step - loss: 0.1521 - accuracy: 0.9527 - val_loss: 0.6466 - val_accuracy: 0.8554\n",
            "Epoch 23/25\n",
            "10000/10000 [==============================] - 16s 2ms/step - loss: 0.1439 - accuracy: 0.9548 - val_loss: 0.6603 - val_accuracy: 0.8565\n",
            "Epoch 24/25\n",
            "10000/10000 [==============================] - 16s 2ms/step - loss: 0.1404 - accuracy: 0.9554 - val_loss: 0.7101 - val_accuracy: 0.8561\n",
            "Epoch 25/25\n",
            "10000/10000 [==============================] - 16s 2ms/step - loss: 0.1334 - accuracy: 0.9576 - val_loss: 0.7212 - val_accuracy: 0.8525\n"
          ],
          "name": "stdout"
        }
      ]
    },
    {
      "cell_type": "code",
      "metadata": {
        "id": "yO1bSRl8ufFH",
        "outputId": "1cea633d-8984-4f9f-edb1-e0ff447b0d6e",
        "colab": {
          "base_uri": "https://localhost:8080/"
        }
      },
      "source": [
        "# Use function to create a default model\n",
        "model = create_model('relu', 0.01, SGD)\n",
        "\n",
        "# Batch size experiment #6\n",
        "bs128 = model.fit(\n",
        "  X_train, y_train,\n",
        "  epochs=25,\n",
        "  batch_size=128,\n",
        "  validation_data=(X_test, y_test)\n",
        ")"
      ],
      "execution_count": 10,
      "outputs": [
        {
          "output_type": "stream",
          "text": [
            "Epoch 1/25\n",
            "625/625 [==============================] - 3s 4ms/step - loss: 1.5867 - accuracy: 0.4883 - val_loss: 1.0808 - val_accuracy: 0.6777\n",
            "Epoch 2/25\n",
            "625/625 [==============================] - 2s 4ms/step - loss: 0.9657 - accuracy: 0.7146 - val_loss: 0.8734 - val_accuracy: 0.7389\n",
            "Epoch 3/25\n",
            "625/625 [==============================] - 3s 4ms/step - loss: 0.8484 - accuracy: 0.7502 - val_loss: 0.8057 - val_accuracy: 0.7591\n",
            "Epoch 4/25\n",
            "625/625 [==============================] - 2s 4ms/step - loss: 0.7935 - accuracy: 0.7657 - val_loss: 0.7658 - val_accuracy: 0.7729\n",
            "Epoch 5/25\n",
            "625/625 [==============================] - 2s 4ms/step - loss: 0.7535 - accuracy: 0.7776 - val_loss: 0.7315 - val_accuracy: 0.7839\n",
            "Epoch 6/25\n",
            "625/625 [==============================] - 2s 4ms/step - loss: 0.7209 - accuracy: 0.7883 - val_loss: 0.7128 - val_accuracy: 0.7873\n",
            "Epoch 7/25\n",
            "625/625 [==============================] - 2s 4ms/step - loss: 0.6923 - accuracy: 0.7969 - val_loss: 0.6780 - val_accuracy: 0.7994\n",
            "Epoch 8/25\n",
            "625/625 [==============================] - 2s 4ms/step - loss: 0.6669 - accuracy: 0.8045 - val_loss: 0.6538 - val_accuracy: 0.8062\n",
            "Epoch 9/25\n",
            "625/625 [==============================] - 2s 4ms/step - loss: 0.6435 - accuracy: 0.8111 - val_loss: 0.6345 - val_accuracy: 0.8112\n",
            "Epoch 10/25\n",
            "625/625 [==============================] - 2s 4ms/step - loss: 0.6224 - accuracy: 0.8175 - val_loss: 0.6188 - val_accuracy: 0.8165\n",
            "Epoch 11/25\n",
            "625/625 [==============================] - 2s 4ms/step - loss: 0.6036 - accuracy: 0.8239 - val_loss: 0.6061 - val_accuracy: 0.8171\n",
            "Epoch 12/25\n",
            "625/625 [==============================] - 3s 4ms/step - loss: 0.5855 - accuracy: 0.8281 - val_loss: 0.5892 - val_accuracy: 0.8244\n",
            "Epoch 13/25\n",
            "625/625 [==============================] - 2s 4ms/step - loss: 0.5699 - accuracy: 0.8317 - val_loss: 0.5748 - val_accuracy: 0.8291\n",
            "Epoch 14/25\n",
            "625/625 [==============================] - 2s 4ms/step - loss: 0.5552 - accuracy: 0.8375 - val_loss: 0.5642 - val_accuracy: 0.8308\n",
            "Epoch 15/25\n",
            "625/625 [==============================] - 2s 4ms/step - loss: 0.5416 - accuracy: 0.8409 - val_loss: 0.5567 - val_accuracy: 0.8334\n",
            "Epoch 16/25\n",
            "625/625 [==============================] - 2s 4ms/step - loss: 0.5296 - accuracy: 0.8444 - val_loss: 0.5493 - val_accuracy: 0.8358\n",
            "Epoch 17/25\n",
            "625/625 [==============================] - 2s 4ms/step - loss: 0.5178 - accuracy: 0.8472 - val_loss: 0.5353 - val_accuracy: 0.8414\n",
            "Epoch 18/25\n",
            "625/625 [==============================] - 2s 4ms/step - loss: 0.5074 - accuracy: 0.8506 - val_loss: 0.5348 - val_accuracy: 0.8428\n",
            "Epoch 19/25\n",
            "625/625 [==============================] - 2s 4ms/step - loss: 0.4968 - accuracy: 0.8540 - val_loss: 0.5227 - val_accuracy: 0.8438\n",
            "Epoch 20/25\n",
            "625/625 [==============================] - 3s 4ms/step - loss: 0.4870 - accuracy: 0.8569 - val_loss: 0.5173 - val_accuracy: 0.8464\n",
            "Epoch 21/25\n",
            "625/625 [==============================] - 2s 4ms/step - loss: 0.4781 - accuracy: 0.8588 - val_loss: 0.5132 - val_accuracy: 0.8464\n",
            "Epoch 22/25\n",
            "625/625 [==============================] - 2s 4ms/step - loss: 0.4690 - accuracy: 0.8624 - val_loss: 0.5078 - val_accuracy: 0.8503\n",
            "Epoch 23/25\n",
            "625/625 [==============================] - 2s 4ms/step - loss: 0.4605 - accuracy: 0.8643 - val_loss: 0.5023 - val_accuracy: 0.8516\n",
            "Epoch 24/25\n",
            "625/625 [==============================] - 2s 4ms/step - loss: 0.4527 - accuracy: 0.8670 - val_loss: 0.4973 - val_accuracy: 0.8512\n",
            "Epoch 25/25\n",
            "625/625 [==============================] - 2s 4ms/step - loss: 0.4451 - accuracy: 0.8688 - val_loss: 0.4991 - val_accuracy: 0.8512\n"
          ],
          "name": "stdout"
        }
      ]
    },
    {
      "cell_type": "code",
      "metadata": {
        "id": "M-ND3EanpjZi",
        "outputId": "674191d5-9fb8-4725-8f89-d36d2e0cfa16",
        "colab": {
          "base_uri": "https://localhost:8080/",
          "height": 204
        }
      },
      "source": [
        "batch_sizes = []\n",
        "\n",
        "for exp, result in zip([bs8, bs32, bs64, bs128, bs256, bs512], \n",
        "                       [\"8_\", \"32_\", \"64_\", \"128_\", \"256_\", \"512_\"]):\n",
        "    df = pd.DataFrame.from_dict(exp.history)\n",
        "    df['epoch'] = df.index.values\n",
        "    df['Batch Size'] = result\n",
        "    batch_sizes.append(df)\n",
        "\n",
        "df = pd.concat(batch_sizes)\n",
        "df['Batch Size'] = df['Batch Size'].astype('str')\n",
        "df.head()"
      ],
      "execution_count": 11,
      "outputs": [
        {
          "output_type": "execute_result",
          "data": {
            "text/html": [
              "<div>\n",
              "<style scoped>\n",
              "    .dataframe tbody tr th:only-of-type {\n",
              "        vertical-align: middle;\n",
              "    }\n",
              "\n",
              "    .dataframe tbody tr th {\n",
              "        vertical-align: top;\n",
              "    }\n",
              "\n",
              "    .dataframe thead th {\n",
              "        text-align: right;\n",
              "    }\n",
              "</style>\n",
              "<table border=\"1\" class=\"dataframe\">\n",
              "  <thead>\n",
              "    <tr style=\"text-align: right;\">\n",
              "      <th></th>\n",
              "      <th>loss</th>\n",
              "      <th>accuracy</th>\n",
              "      <th>val_loss</th>\n",
              "      <th>val_accuracy</th>\n",
              "      <th>epoch</th>\n",
              "      <th>Batch Size</th>\n",
              "    </tr>\n",
              "  </thead>\n",
              "  <tbody>\n",
              "    <tr>\n",
              "      <th>0</th>\n",
              "      <td>0.808702</td>\n",
              "      <td>0.751675</td>\n",
              "      <td>0.589292</td>\n",
              "      <td>0.82245</td>\n",
              "      <td>0</td>\n",
              "      <td>8_</td>\n",
              "    </tr>\n",
              "    <tr>\n",
              "      <th>1</th>\n",
              "      <td>0.543390</td>\n",
              "      <td>0.837500</td>\n",
              "      <td>0.512314</td>\n",
              "      <td>0.84420</td>\n",
              "      <td>1</td>\n",
              "      <td>8_</td>\n",
              "    </tr>\n",
              "    <tr>\n",
              "      <th>2</th>\n",
              "      <td>0.470080</td>\n",
              "      <td>0.857313</td>\n",
              "      <td>0.487800</td>\n",
              "      <td>0.85520</td>\n",
              "      <td>2</td>\n",
              "      <td>8_</td>\n",
              "    </tr>\n",
              "    <tr>\n",
              "      <th>3</th>\n",
              "      <td>0.422669</td>\n",
              "      <td>0.871225</td>\n",
              "      <td>0.464552</td>\n",
              "      <td>0.85990</td>\n",
              "      <td>3</td>\n",
              "      <td>8_</td>\n",
              "    </tr>\n",
              "    <tr>\n",
              "      <th>4</th>\n",
              "      <td>0.387503</td>\n",
              "      <td>0.882338</td>\n",
              "      <td>0.448755</td>\n",
              "      <td>0.86620</td>\n",
              "      <td>4</td>\n",
              "      <td>8_</td>\n",
              "    </tr>\n",
              "  </tbody>\n",
              "</table>\n",
              "</div>"
            ],
            "text/plain": [
              "       loss  accuracy  val_loss  val_accuracy  epoch Batch Size\n",
              "0  0.808702  0.751675  0.589292       0.82245      0         8_\n",
              "1  0.543390  0.837500  0.512314       0.84420      1         8_\n",
              "2  0.470080  0.857313  0.487800       0.85520      2         8_\n",
              "3  0.422669  0.871225  0.464552       0.85990      3         8_\n",
              "4  0.387503  0.882338  0.448755       0.86620      4         8_"
            ]
          },
          "metadata": {
            "tags": []
          },
          "execution_count": 11
        }
      ]
    },
    {
      "cell_type": "code",
      "metadata": {
        "id": "u0boB96apiyf",
        "outputId": "56999623-a7d2-460f-adae-6d9ee6fda5de",
        "colab": {
          "base_uri": "https://localhost:8080/",
          "height": 285
        }
      },
      "source": [
        "sns.lineplot(x='epoch', y='val_accuracy', hue='Batch Size', data=df);"
      ],
      "execution_count": 12,
      "outputs": [
        {
          "output_type": "display_data",
          "data": {
            "image/png": "[encoded data removed]",
            "text/plain": [
              "<Figure size 432x288 with 1 Axes>"
            ]
          },
          "metadata": {
            "tags": [],
            "needs_background": "light"
          }
        }
      ]
    },
    {
      "cell_type": "code",
      "metadata": {
        "id": "ttL6an-6piVj",
        "outputId": "79f1475c-d818-477a-9a8b-112943c19770",
        "colab": {
          "base_uri": "https://localhost:8080/",
          "height": 442
        }
      },
      "source": [
        "sns.lineplot(x='Batch Size', y='val_accuracy', data=df, c='b')\n",
        "sns.lineplot(x='Batch Size', y='accuracy', data=df, c='g');"
      ],
      "execution_count": 13,
      "outputs": [
        {
          "output_type": "stream",
          "text": [
            "/usr/local/lib/python3.6/dist-packages/seaborn/relational.py:507: MatplotlibDeprecationWarning: Saw kwargs ['c', 'color'] which are all aliases for 'color'.  Kept value from 'color'.  Passing multiple aliases for the same property will raise a TypeError in 3.3.\n",
            "  line, = ax.plot([], [], **kws)\n",
            "/usr/local/lib/python3.6/dist-packages/seaborn/relational.py:522: MatplotlibDeprecationWarning: Saw kwargs ['c', 'color'] which are all aliases for 'color'.  Kept value from 'color'.  Passing multiple aliases for the same property will raise a TypeError in 3.3.\n",
            "  line, = ax.plot(x, y, **kws)\n",
            "/usr/local/lib/python3.6/dist-packages/seaborn/relational.py:507: MatplotlibDeprecationWarning: Saw kwargs ['c', 'color'] which are all aliases for 'color'.  Kept value from 'color'.  Passing multiple aliases for the same property will raise a TypeError in 3.3.\n",
            "  line, = ax.plot([], [], **kws)\n",
            "/usr/local/lib/python3.6/dist-packages/seaborn/relational.py:522: MatplotlibDeprecationWarning: Saw kwargs ['c', 'color'] which are all aliases for 'color'.  Kept value from 'color'.  Passing multiple aliases for the same property will raise a TypeError in 3.3.\n",
            "  line, = ax.plot(x, y, **kws)\n"
          ],
          "name": "stderr"
        },
        {
          "output_type": "display_data",
          "data": {
            "image/png": "[encoded data removed]",
            "text/plain": [
              "<Figure size 432x288 with 1 Axes>"
            ]
          },
          "metadata": {
            "tags": [],
            "needs_background": "light"
          }
        }
      ]
    },
    {
      "cell_type": "markdown",
      "metadata": {
        "id": "8b-r70o8p2Dm"
      },
      "source": [
        "### Experiment with Learning Rate\n",
        "* Run 5 experiments with various learning rate magnitudes: 1, .1, .01, .001, .0001.\n",
        "* Use the \"best\" batch size from the previous experiment\n",
        "* Visualize the results\n",
        "* Write up an analysis of the experiments and select the \"best\" performing model among your experiments. Make sure to compare against the previous experiments and your model's performance yesterday. "
      ]
    },
    {
      "cell_type": "code",
      "metadata": {
        "id": "cXq69q_eEOOB",
        "outputId": "96dc1689-840c-4cc1-fd27-84a4cfef4602",
        "colab": {
          "base_uri": "https://localhost:8080/"
        }
      },
      "source": [
        "# Use function to create a default model\n",
        "model = create_model('relu', 0.1, SGD)\n",
        "\n",
        "# Learning Rate experiment #1\n",
        "bs64_1 = model.fit(\n",
        "  X_train, y_train,\n",
        "  epochs=20,\n",
        "  batch_size=64,\n",
        "  validation_data=(X_test, y_test)\n",
        ")"
      ],
      "execution_count": 14,
      "outputs": [
        {
          "output_type": "stream",
          "text": [
            "Epoch 1/20\n",
            "1250/1250 [==============================] - 4s 3ms/step - loss: 0.7801 - accuracy: 0.7575 - val_loss: 0.5615 - val_accuracy: 0.8316\n",
            "Epoch 2/20\n",
            "1250/1250 [==============================] - 4s 3ms/step - loss: 0.5320 - accuracy: 0.8380 - val_loss: 0.4938 - val_accuracy: 0.8498\n",
            "Epoch 3/20\n",
            "1250/1250 [==============================] - 3s 3ms/step - loss: 0.4620 - accuracy: 0.8595 - val_loss: 0.4614 - val_accuracy: 0.8611\n",
            "Epoch 4/20\n",
            "1250/1250 [==============================] - 3s 3ms/step - loss: 0.4147 - accuracy: 0.8730 - val_loss: 0.4503 - val_accuracy: 0.8635\n",
            "Epoch 5/20\n",
            "1250/1250 [==============================] - 3s 3ms/step - loss: 0.3812 - accuracy: 0.8827 - val_loss: 0.4388 - val_accuracy: 0.8688\n",
            "Epoch 6/20\n",
            "1250/1250 [==============================] - 3s 3ms/step - loss: 0.3545 - accuracy: 0.8909 - val_loss: 0.4388 - val_accuracy: 0.8694\n",
            "Epoch 7/20\n",
            "1250/1250 [==============================] - 3s 3ms/step - loss: 0.3291 - accuracy: 0.8995 - val_loss: 0.4637 - val_accuracy: 0.8634\n",
            "Epoch 8/20\n",
            "1250/1250 [==============================] - 3s 3ms/step - loss: 0.3085 - accuracy: 0.9047 - val_loss: 0.4555 - val_accuracy: 0.8661\n",
            "Epoch 9/20\n",
            "1250/1250 [==============================] - 3s 3ms/step - loss: 0.2914 - accuracy: 0.9099 - val_loss: 0.4574 - val_accuracy: 0.8680\n",
            "Epoch 10/20\n",
            "1250/1250 [==============================] - 3s 3ms/step - loss: 0.2734 - accuracy: 0.9141 - val_loss: 0.4597 - val_accuracy: 0.8702\n",
            "Epoch 11/20\n",
            "1250/1250 [==============================] - 3s 3ms/step - loss: 0.2579 - accuracy: 0.9202 - val_loss: 0.4746 - val_accuracy: 0.8703\n",
            "Epoch 12/20\n",
            "1250/1250 [==============================] - 3s 3ms/step - loss: 0.2447 - accuracy: 0.9228 - val_loss: 0.4820 - val_accuracy: 0.8663\n",
            "Epoch 13/20\n",
            "1250/1250 [==============================] - 3s 3ms/step - loss: 0.2333 - accuracy: 0.9269 - val_loss: 0.5092 - val_accuracy: 0.8651\n",
            "Epoch 14/20\n",
            "1250/1250 [==============================] - 3s 3ms/step - loss: 0.2204 - accuracy: 0.9307 - val_loss: 0.5089 - val_accuracy: 0.8665\n",
            "Epoch 15/20\n",
            "1250/1250 [==============================] - 3s 3ms/step - loss: 0.2115 - accuracy: 0.9318 - val_loss: 0.5396 - val_accuracy: 0.8633\n",
            "Epoch 16/20\n",
            "1250/1250 [==============================] - 3s 3ms/step - loss: 0.2024 - accuracy: 0.9359 - val_loss: 0.5424 - val_accuracy: 0.8637\n",
            "Epoch 17/20\n",
            "1250/1250 [==============================] - 3s 3ms/step - loss: 0.1927 - accuracy: 0.9387 - val_loss: 0.5434 - val_accuracy: 0.8682\n",
            "Epoch 18/20\n",
            "1250/1250 [==============================] - 3s 3ms/step - loss: 0.1841 - accuracy: 0.9417 - val_loss: 0.5493 - val_accuracy: 0.8673\n",
            "Epoch 19/20\n",
            "1250/1250 [==============================] - 3s 3ms/step - loss: 0.1746 - accuracy: 0.9438 - val_loss: 0.6287 - val_accuracy: 0.8609\n",
            "Epoch 20/20\n",
            "1250/1250 [==============================] - 3s 3ms/step - loss: 0.1703 - accuracy: 0.9449 - val_loss: 0.5987 - val_accuracy: 0.8613\n"
          ],
          "name": "stdout"
        }
      ]
    },
    {
      "cell_type": "code",
      "metadata": {
        "id": "EeNn0_0xEOwL",
        "outputId": "2786b030-34d7-4ae3-f71d-ecd22911f05d",
        "colab": {
          "base_uri": "https://localhost:8080/"
        }
      },
      "source": [
        "# Use function to create a default model\n",
        "model = create_model('relu', 0.25, SGD)\n",
        "\n",
        "# Learning Rate experiment #2\n",
        "bs64_25 = model.fit(\n",
        "  X_train, y_train,\n",
        "  epochs=20,\n",
        "  batch_size=64,\n",
        "  validation_data=(X_test, y_test)\n",
        ")"
      ],
      "execution_count": 15,
      "outputs": [
        {
          "output_type": "stream",
          "text": [
            "Epoch 1/20\n",
            "1250/1250 [==============================] - 3s 3ms/step - loss: 0.7152 - accuracy: 0.7767 - val_loss: 0.5182 - val_accuracy: 0.8418\n",
            "Epoch 2/20\n",
            "1250/1250 [==============================] - 3s 3ms/step - loss: 0.4954 - accuracy: 0.8480 - val_loss: 0.4926 - val_accuracy: 0.8495\n",
            "Epoch 3/20\n",
            "1250/1250 [==============================] - 3s 3ms/step - loss: 0.4323 - accuracy: 0.8666 - val_loss: 0.4779 - val_accuracy: 0.8571\n",
            "Epoch 4/20\n",
            "1250/1250 [==============================] - 3s 2ms/step - loss: 0.3904 - accuracy: 0.8789 - val_loss: 0.4678 - val_accuracy: 0.8590\n",
            "Epoch 5/20\n",
            "1250/1250 [==============================] - 3s 3ms/step - loss: 0.3593 - accuracy: 0.8882 - val_loss: 0.4407 - val_accuracy: 0.8677\n",
            "Epoch 6/20\n",
            "1250/1250 [==============================] - 3s 3ms/step - loss: 0.3345 - accuracy: 0.8968 - val_loss: 0.4428 - val_accuracy: 0.8687\n",
            "Epoch 7/20\n",
            "1250/1250 [==============================] - 3s 3ms/step - loss: 0.3152 - accuracy: 0.9016 - val_loss: 0.4584 - val_accuracy: 0.8691\n",
            "Epoch 8/20\n",
            "1250/1250 [==============================] - 3s 3ms/step - loss: 0.2971 - accuracy: 0.9077 - val_loss: 0.4526 - val_accuracy: 0.8698\n",
            "Epoch 9/20\n",
            "1250/1250 [==============================] - 3s 3ms/step - loss: 0.2823 - accuracy: 0.9119 - val_loss: 0.4805 - val_accuracy: 0.8706\n",
            "Epoch 10/20\n",
            "1250/1250 [==============================] - 3s 3ms/step - loss: 0.2672 - accuracy: 0.9171 - val_loss: 0.4776 - val_accuracy: 0.8674\n",
            "Epoch 11/20\n",
            "1250/1250 [==============================] - 3s 3ms/step - loss: 0.2536 - accuracy: 0.9206 - val_loss: 0.4821 - val_accuracy: 0.8720\n",
            "Epoch 12/20\n",
            "1250/1250 [==============================] - 3s 3ms/step - loss: 0.2414 - accuracy: 0.9238 - val_loss: 0.4896 - val_accuracy: 0.8730\n",
            "Epoch 13/20\n",
            "1250/1250 [==============================] - 3s 3ms/step - loss: 0.2330 - accuracy: 0.9274 - val_loss: 0.5114 - val_accuracy: 0.8666\n",
            "Epoch 14/20\n",
            "1250/1250 [==============================] - 3s 3ms/step - loss: 0.2233 - accuracy: 0.9292 - val_loss: 0.5030 - val_accuracy: 0.8714\n",
            "Epoch 15/20\n",
            "1250/1250 [==============================] - 3s 3ms/step - loss: 0.2157 - accuracy: 0.9319 - val_loss: 0.5258 - val_accuracy: 0.8666\n",
            "Epoch 16/20\n",
            "1250/1250 [==============================] - 3s 3ms/step - loss: 0.2055 - accuracy: 0.9350 - val_loss: 0.5543 - val_accuracy: 0.8655\n",
            "Epoch 17/20\n",
            "1250/1250 [==============================] - 3s 3ms/step - loss: 0.1994 - accuracy: 0.9374 - val_loss: 0.5486 - val_accuracy: 0.8683\n",
            "Epoch 18/20\n",
            "1250/1250 [==============================] - 3s 3ms/step - loss: 0.1916 - accuracy: 0.9390 - val_loss: 0.5747 - val_accuracy: 0.8655\n",
            "Epoch 19/20\n",
            "1250/1250 [==============================] - 3s 3ms/step - loss: 0.1857 - accuracy: 0.9404 - val_loss: 0.6032 - val_accuracy: 0.8662\n",
            "Epoch 20/20\n",
            "1250/1250 [==============================] - 3s 3ms/step - loss: 0.1798 - accuracy: 0.9427 - val_loss: 0.6015 - val_accuracy: 0.8677\n"
          ],
          "name": "stdout"
        }
      ]
    },
    {
      "cell_type": "code",
      "metadata": {
        "id": "8Vx4RM6KEOmB",
        "outputId": "86840f61-74bd-4bfe-b604-3b8fc253d769",
        "colab": {
          "base_uri": "https://localhost:8080/"
        }
      },
      "source": [
        "# Use function to create a default model\n",
        "model = create_model('relu', 0.3, SGD)\n",
        "\n",
        "# Learning Rate experiment #3\n",
        "bs64_3 = model.fit(\n",
        "  X_train, y_train,\n",
        "  epochs=20,\n",
        "  batch_size=64,\n",
        "  validation_data=(X_test, y_test)\n",
        ")"
      ],
      "execution_count": 16,
      "outputs": [
        {
          "output_type": "stream",
          "text": [
            "Epoch 1/20\n",
            "1250/1250 [==============================] - 3s 3ms/step - loss: 0.7290 - accuracy: 0.7696 - val_loss: 0.5243 - val_accuracy: 0.8390\n",
            "Epoch 2/20\n",
            "1250/1250 [==============================] - 3s 3ms/step - loss: 0.4952 - accuracy: 0.8475 - val_loss: 0.4970 - val_accuracy: 0.8467\n",
            "Epoch 3/20\n",
            "1250/1250 [==============================] - 3s 2ms/step - loss: 0.4314 - accuracy: 0.8661 - val_loss: 0.4835 - val_accuracy: 0.8504\n",
            "Epoch 4/20\n",
            "1250/1250 [==============================] - 3s 3ms/step - loss: 0.3898 - accuracy: 0.8791 - val_loss: 0.4526 - val_accuracy: 0.8635\n",
            "Epoch 5/20\n",
            "1250/1250 [==============================] - 3s 3ms/step - loss: 0.3624 - accuracy: 0.8870 - val_loss: 0.4426 - val_accuracy: 0.8662\n",
            "Epoch 6/20\n",
            "1250/1250 [==============================] - 3s 3ms/step - loss: 0.3356 - accuracy: 0.8959 - val_loss: 0.4450 - val_accuracy: 0.8689\n",
            "Epoch 7/20\n",
            "1250/1250 [==============================] - 3s 3ms/step - loss: 0.3162 - accuracy: 0.9008 - val_loss: 0.4432 - val_accuracy: 0.8695\n",
            "Epoch 8/20\n",
            "1250/1250 [==============================] - 3s 3ms/step - loss: 0.2983 - accuracy: 0.9075 - val_loss: 0.4415 - val_accuracy: 0.8745\n",
            "Epoch 9/20\n",
            "1250/1250 [==============================] - 3s 3ms/step - loss: 0.2832 - accuracy: 0.9118 - val_loss: 0.4763 - val_accuracy: 0.8625\n",
            "Epoch 10/20\n",
            "1250/1250 [==============================] - 3s 3ms/step - loss: 0.2695 - accuracy: 0.9148 - val_loss: 0.4711 - val_accuracy: 0.8674\n",
            "Epoch 11/20\n",
            "1250/1250 [==============================] - 3s 3ms/step - loss: 0.2556 - accuracy: 0.9193 - val_loss: 0.5040 - val_accuracy: 0.8666\n",
            "Epoch 12/20\n",
            "1250/1250 [==============================] - 3s 3ms/step - loss: 0.2463 - accuracy: 0.9213 - val_loss: 0.5078 - val_accuracy: 0.8570\n",
            "Epoch 13/20\n",
            "1250/1250 [==============================] - 3s 3ms/step - loss: 0.2353 - accuracy: 0.9247 - val_loss: 0.5040 - val_accuracy: 0.8692\n",
            "Epoch 14/20\n",
            "1250/1250 [==============================] - 3s 3ms/step - loss: 0.2279 - accuracy: 0.9280 - val_loss: 0.5385 - val_accuracy: 0.8612\n",
            "Epoch 15/20\n",
            "1250/1250 [==============================] - 3s 2ms/step - loss: 0.2168 - accuracy: 0.9302 - val_loss: 0.5602 - val_accuracy: 0.8656\n",
            "Epoch 16/20\n",
            "1250/1250 [==============================] - 4s 3ms/step - loss: 0.2107 - accuracy: 0.9338 - val_loss: 0.5732 - val_accuracy: 0.8653\n",
            "Epoch 17/20\n",
            "1250/1250 [==============================] - 4s 3ms/step - loss: 0.2036 - accuracy: 0.9341 - val_loss: 0.5725 - val_accuracy: 0.8647\n",
            "Epoch 18/20\n",
            "1250/1250 [==============================] - 5s 4ms/step - loss: 0.1926 - accuracy: 0.9387 - val_loss: 0.6050 - val_accuracy: 0.8633\n",
            "Epoch 19/20\n",
            "1250/1250 [==============================] - 4s 3ms/step - loss: 0.1925 - accuracy: 0.9386 - val_loss: 0.6381 - val_accuracy: 0.8582\n",
            "Epoch 20/20\n",
            "1250/1250 [==============================] - 3s 3ms/step - loss: 0.1832 - accuracy: 0.9412 - val_loss: 0.6108 - val_accuracy: 0.8630\n"
          ],
          "name": "stdout"
        }
      ]
    },
    {
      "cell_type": "code",
      "metadata": {
        "id": "_SA144xx8Luf",
        "outputId": "73ea6459-056c-4f6d-cc77-fba319ac822d",
        "colab": {
          "base_uri": "https://localhost:8080/"
        }
      },
      "source": [
        "# Use function to create a default model\n",
        "model = create_model('relu', 0.001, SGD)\n",
        "\n",
        "# Learning Rate experiment #4\n",
        "bs64_001 = model.fit(\n",
        "  X_train, y_train,\n",
        "  epochs=20,\n",
        "  batch_size=64,\n",
        "  validation_data=(X_test, y_test)\n",
        ")"
      ],
      "execution_count": 17,
      "outputs": [
        {
          "output_type": "stream",
          "text": [
            "Epoch 1/20\n",
            "1250/1250 [==============================] - 3s 3ms/step - loss: 2.2344 - accuracy: 0.1467 - val_loss: 2.1226 - val_accuracy: 0.2066\n",
            "Epoch 2/20\n",
            "1250/1250 [==============================] - 3s 3ms/step - loss: 1.9682 - accuracy: 0.3298 - val_loss: 1.7820 - val_accuracy: 0.4338\n",
            "Epoch 3/20\n",
            "1250/1250 [==============================] - 3s 3ms/step - loss: 1.6068 - accuracy: 0.4873 - val_loss: 1.4464 - val_accuracy: 0.5361\n",
            "Epoch 4/20\n",
            "1250/1250 [==============================] - 3s 3ms/step - loss: 1.3577 - accuracy: 0.5676 - val_loss: 1.2654 - val_accuracy: 0.6030\n",
            "Epoch 5/20\n",
            "1250/1250 [==============================] - 3s 3ms/step - loss: 1.2175 - accuracy: 0.6224 - val_loss: 1.1498 - val_accuracy: 0.6483\n",
            "Epoch 6/20\n",
            "1250/1250 [==============================] - 3s 3ms/step - loss: 1.1189 - accuracy: 0.6606 - val_loss: 1.0631 - val_accuracy: 0.6790\n",
            "Epoch 7/20\n",
            "1250/1250 [==============================] - 3s 3ms/step - loss: 1.0435 - accuracy: 0.6891 - val_loss: 0.9971 - val_accuracy: 0.7020\n",
            "Epoch 8/20\n",
            "1250/1250 [==============================] - 3s 3ms/step - loss: 0.9866 - accuracy: 0.7102 - val_loss: 0.9496 - val_accuracy: 0.7179\n",
            "Epoch 9/20\n",
            "1250/1250 [==============================] - 3s 3ms/step - loss: 0.9451 - accuracy: 0.7231 - val_loss: 0.9141 - val_accuracy: 0.7296\n",
            "Epoch 10/20\n",
            "1250/1250 [==============================] - 4s 3ms/step - loss: 0.9139 - accuracy: 0.7337 - val_loss: 0.8871 - val_accuracy: 0.7363\n",
            "Epoch 11/20\n",
            "1250/1250 [==============================] - 3s 3ms/step - loss: 0.8894 - accuracy: 0.7418 - val_loss: 0.8658 - val_accuracy: 0.7425\n",
            "Epoch 12/20\n",
            "1250/1250 [==============================] - 3s 3ms/step - loss: 0.8694 - accuracy: 0.7477 - val_loss: 0.8487 - val_accuracy: 0.7491\n",
            "Epoch 13/20\n",
            "1250/1250 [==============================] - 3s 3ms/step - loss: 0.8523 - accuracy: 0.7534 - val_loss: 0.8335 - val_accuracy: 0.7524\n",
            "Epoch 14/20\n",
            "1250/1250 [==============================] - 3s 3ms/step - loss: 0.8371 - accuracy: 0.7577 - val_loss: 0.8195 - val_accuracy: 0.7570\n",
            "Epoch 15/20\n",
            "1250/1250 [==============================] - 3s 3ms/step - loss: 0.8237 - accuracy: 0.7627 - val_loss: 0.8079 - val_accuracy: 0.7592\n",
            "Epoch 16/20\n",
            "1250/1250 [==============================] - 3s 3ms/step - loss: 0.8114 - accuracy: 0.7662 - val_loss: 0.7964 - val_accuracy: 0.7631\n",
            "Epoch 17/20\n",
            "1250/1250 [==============================] - 3s 3ms/step - loss: 0.7999 - accuracy: 0.7695 - val_loss: 0.7861 - val_accuracy: 0.7669\n",
            "Epoch 18/20\n",
            "1250/1250 [==============================] - 3s 3ms/step - loss: 0.7893 - accuracy: 0.7732 - val_loss: 0.7777 - val_accuracy: 0.7694\n",
            "Epoch 19/20\n",
            "1250/1250 [==============================] - 3s 3ms/step - loss: 0.7793 - accuracy: 0.7759 - val_loss: 0.7671 - val_accuracy: 0.7746\n",
            "Epoch 20/20\n",
            "1250/1250 [==============================] - 4s 3ms/step - loss: 0.7699 - accuracy: 0.7782 - val_loss: 0.7589 - val_accuracy: 0.7753\n"
          ],
          "name": "stdout"
        }
      ]
    },
    {
      "cell_type": "code",
      "metadata": {
        "id": "iIh-t5PEENAR",
        "outputId": "4d7b47db-3f77-4866-b8cd-d25fe8aceba3",
        "colab": {
          "base_uri": "https://localhost:8080/"
        }
      },
      "source": [
        "# Use function to create a default model\n",
        "model = create_model('relu', 0.5, SGD)\n",
        "\n",
        "# Learning Rate experiment #5\n",
        "bs64_5 = model.fit(\n",
        "  X_train, y_train,\n",
        "  epochs=20,\n",
        "  batch_size=64,\n",
        "  validation_data=(X_test, y_test)\n",
        ")"
      ],
      "execution_count": 18,
      "outputs": [
        {
          "output_type": "stream",
          "text": [
            "Epoch 1/20\n",
            "1250/1250 [==============================] - 3s 3ms/step - loss: 0.7289 - accuracy: 0.7700 - val_loss: 0.5217 - val_accuracy: 0.8388\n",
            "Epoch 2/20\n",
            "1250/1250 [==============================] - 3s 3ms/step - loss: 0.5131 - accuracy: 0.8412 - val_loss: 0.4786 - val_accuracy: 0.8532\n",
            "Epoch 3/20\n",
            "1250/1250 [==============================] - 3s 3ms/step - loss: 0.4508 - accuracy: 0.8620 - val_loss: 0.5057 - val_accuracy: 0.8478\n",
            "Epoch 4/20\n",
            "1250/1250 [==============================] - 3s 3ms/step - loss: 0.4150 - accuracy: 0.8730 - val_loss: 0.4783 - val_accuracy: 0.8571\n",
            "Epoch 5/20\n",
            "1250/1250 [==============================] - 3s 3ms/step - loss: 0.3874 - accuracy: 0.8811 - val_loss: 0.4616 - val_accuracy: 0.8622\n",
            "Epoch 6/20\n",
            "1250/1250 [==============================] - 4s 3ms/step - loss: 0.3658 - accuracy: 0.8881 - val_loss: 0.4735 - val_accuracy: 0.8615\n",
            "Epoch 7/20\n",
            "1250/1250 [==============================] - 3s 3ms/step - loss: 0.3471 - accuracy: 0.8938 - val_loss: 0.4913 - val_accuracy: 0.8615\n",
            "Epoch 8/20\n",
            "1250/1250 [==============================] - 3s 3ms/step - loss: 0.3294 - accuracy: 0.8991 - val_loss: 0.5012 - val_accuracy: 0.8580\n",
            "Epoch 9/20\n",
            "1250/1250 [==============================] - 3s 3ms/step - loss: 0.3157 - accuracy: 0.9030 - val_loss: 0.4827 - val_accuracy: 0.8644\n",
            "Epoch 10/20\n",
            "1250/1250 [==============================] - 3s 3ms/step - loss: 0.3046 - accuracy: 0.9053 - val_loss: 0.4829 - val_accuracy: 0.8660\n",
            "Epoch 11/20\n",
            "1250/1250 [==============================] - 3s 3ms/step - loss: 0.2908 - accuracy: 0.9098 - val_loss: 0.4948 - val_accuracy: 0.8666\n",
            "Epoch 12/20\n",
            "1250/1250 [==============================] - 3s 3ms/step - loss: 0.2835 - accuracy: 0.9112 - val_loss: 0.5103 - val_accuracy: 0.8640\n",
            "Epoch 13/20\n",
            "1250/1250 [==============================] - 4s 3ms/step - loss: 0.2717 - accuracy: 0.9159 - val_loss: 0.5273 - val_accuracy: 0.8626\n",
            "Epoch 14/20\n",
            "1250/1250 [==============================] - 3s 3ms/step - loss: 0.2641 - accuracy: 0.9178 - val_loss: 0.5360 - val_accuracy: 0.8656\n",
            "Epoch 15/20\n",
            "1250/1250 [==============================] - 3s 3ms/step - loss: 0.2567 - accuracy: 0.9197 - val_loss: 0.5353 - val_accuracy: 0.8625\n",
            "Epoch 16/20\n",
            "1250/1250 [==============================] - 3s 3ms/step - loss: 0.2464 - accuracy: 0.9234 - val_loss: 0.5430 - val_accuracy: 0.8615\n",
            "Epoch 17/20\n",
            "1250/1250 [==============================] - 4s 3ms/step - loss: 0.2408 - accuracy: 0.9253 - val_loss: 0.5751 - val_accuracy: 0.8626\n",
            "Epoch 18/20\n",
            "1250/1250 [==============================] - 3s 3ms/step - loss: 0.2358 - accuracy: 0.9267 - val_loss: 0.5607 - val_accuracy: 0.8640\n",
            "Epoch 19/20\n",
            "1250/1250 [==============================] - 3s 3ms/step - loss: 0.2306 - accuracy: 0.9281 - val_loss: 0.6174 - val_accuracy: 0.8625\n",
            "Epoch 20/20\n",
            "1250/1250 [==============================] - 3s 3ms/step - loss: 0.2232 - accuracy: 0.9312 - val_loss: 0.6062 - val_accuracy: 0.8623\n"
          ],
          "name": "stdout"
        }
      ]
    },
    {
      "cell_type": "code",
      "metadata": {
        "id": "SX5_X5_JEMkV",
        "outputId": "fb3d3741-6c0d-4d93-9e79-3c1c63ee6a5f",
        "colab": {
          "base_uri": "https://localhost:8080/"
        }
      },
      "source": [
        "# Use function to create a default model\n",
        "model = create_model('relu', 0.75, SGD)\n",
        "\n",
        "# Learning Rate experiment #6\n",
        "bs64_75 = model.fit(\n",
        "  X_train, y_train,\n",
        "  epochs=20,\n",
        "  batch_size=64,\n",
        "  validation_data=(X_test, y_test)\n",
        ")"
      ],
      "execution_count": 19,
      "outputs": [
        {
          "output_type": "stream",
          "text": [
            "Epoch 1/20\n",
            "1250/1250 [==============================] - 3s 3ms/step - loss: 0.8112 - accuracy: 0.7398 - val_loss: 0.6103 - val_accuracy: 0.8065\n",
            "Epoch 2/20\n",
            "1250/1250 [==============================] - 3s 3ms/step - loss: 0.5515 - accuracy: 0.8325 - val_loss: 0.5464 - val_accuracy: 0.8349\n",
            "Epoch 3/20\n",
            "1250/1250 [==============================] - 3s 3ms/step - loss: 0.4926 - accuracy: 0.8513 - val_loss: 0.5184 - val_accuracy: 0.8476\n",
            "Epoch 4/20\n",
            "1250/1250 [==============================] - 3s 3ms/step - loss: 0.4544 - accuracy: 0.8629 - val_loss: 0.5436 - val_accuracy: 0.8451\n",
            "Epoch 5/20\n",
            "1250/1250 [==============================] - 3s 3ms/step - loss: 0.4321 - accuracy: 0.8704 - val_loss: 0.5254 - val_accuracy: 0.8472\n",
            "Epoch 6/20\n",
            "1250/1250 [==============================] - 3s 3ms/step - loss: 0.4107 - accuracy: 0.8768 - val_loss: 0.5014 - val_accuracy: 0.8543\n",
            "Epoch 7/20\n",
            "1250/1250 [==============================] - 3s 3ms/step - loss: 0.3910 - accuracy: 0.8821 - val_loss: 0.5157 - val_accuracy: 0.8541\n",
            "Epoch 8/20\n",
            "1250/1250 [==============================] - 3s 3ms/step - loss: 0.3751 - accuracy: 0.8870 - val_loss: 0.4901 - val_accuracy: 0.8594\n",
            "Epoch 9/20\n",
            "1250/1250 [==============================] - 4s 3ms/step - loss: 0.3601 - accuracy: 0.8915 - val_loss: 0.5018 - val_accuracy: 0.8594\n",
            "Epoch 10/20\n",
            "1250/1250 [==============================] - 3s 3ms/step - loss: 0.3511 - accuracy: 0.8938 - val_loss: 0.5130 - val_accuracy: 0.8587\n",
            "Epoch 11/20\n",
            "1250/1250 [==============================] - 3s 3ms/step - loss: 0.3364 - accuracy: 0.8988 - val_loss: 0.5373 - val_accuracy: 0.8541\n",
            "Epoch 12/20\n",
            "1250/1250 [==============================] - 3s 3ms/step - loss: 0.3302 - accuracy: 0.9010 - val_loss: 0.5697 - val_accuracy: 0.8464\n",
            "Epoch 13/20\n",
            "1250/1250 [==============================] - 3s 3ms/step - loss: 0.3206 - accuracy: 0.9035 - val_loss: 0.5529 - val_accuracy: 0.8535\n",
            "Epoch 14/20\n",
            "1250/1250 [==============================] - 3s 3ms/step - loss: 0.3093 - accuracy: 0.9068 - val_loss: 0.5389 - val_accuracy: 0.8594\n",
            "Epoch 15/20\n",
            "1250/1250 [==============================] - 4s 3ms/step - loss: 0.3070 - accuracy: 0.9069 - val_loss: 0.5688 - val_accuracy: 0.8585\n",
            "Epoch 16/20\n",
            "1250/1250 [==============================] - 3s 3ms/step - loss: 0.3050 - accuracy: 0.9079 - val_loss: 0.5594 - val_accuracy: 0.8558\n",
            "Epoch 17/20\n",
            "1250/1250 [==============================] - 3s 3ms/step - loss: 0.2928 - accuracy: 0.9119 - val_loss: 0.5750 - val_accuracy: 0.8558\n",
            "Epoch 18/20\n",
            "1250/1250 [==============================] - 3s 3ms/step - loss: 0.2852 - accuracy: 0.9145 - val_loss: 0.5728 - val_accuracy: 0.8554\n",
            "Epoch 19/20\n",
            "1250/1250 [==============================] - 3s 3ms/step - loss: 0.2853 - accuracy: 0.9144 - val_loss: 0.5826 - val_accuracy: 0.8580\n",
            "Epoch 20/20\n",
            "1250/1250 [==============================] - 4s 3ms/step - loss: 0.2785 - accuracy: 0.9168 - val_loss: 0.6102 - val_accuracy: 0.8532\n"
          ],
          "name": "stdout"
        }
      ]
    },
    {
      "cell_type": "code",
      "metadata": {
        "id": "KVUKFW6kEP4L",
        "outputId": "633fc79f-7f55-4eb1-947e-98f9db5e607c",
        "colab": {
          "base_uri": "https://localhost:8080/",
          "height": 204
        }
      },
      "source": [
        "learning_rate = []\n",
        "\n",
        "for exp, result in zip([bs64_001, bs64_1, bs64_25, bs64_3, bs64_5, bs64_75], \n",
        "                       [\".001\", \".1\", \".25\", \".3\", \".5\", \".75\"]):\n",
        "    df = pd.DataFrame.from_dict(exp.history)\n",
        "    df['epoch'] = df.index.values\n",
        "    df['Learning Rate'] = result\n",
        "    learning_rate.append(df)\n",
        "\n",
        "df = pd.concat(learning_rate)\n",
        "df['Learning Rate'] = df['Learning Rate'].astype('str')\n",
        "df.head()"
      ],
      "execution_count": 20,
      "outputs": [
        {
          "output_type": "execute_result",
          "data": {
            "text/html": [
              "<div>\n",
              "<style scoped>\n",
              "    .dataframe tbody tr th:only-of-type {\n",
              "        vertical-align: middle;\n",
              "    }\n",
              "\n",
              "    .dataframe tbody tr th {\n",
              "        vertical-align: top;\n",
              "    }\n",
              "\n",
              "    .dataframe thead th {\n",
              "        text-align: right;\n",
              "    }\n",
              "</style>\n",
              "<table border=\"1\" class=\"dataframe\">\n",
              "  <thead>\n",
              "    <tr style=\"text-align: right;\">\n",
              "      <th></th>\n",
              "      <th>loss</th>\n",
              "      <th>accuracy</th>\n",
              "      <th>val_loss</th>\n",
              "      <th>val_accuracy</th>\n",
              "      <th>epoch</th>\n",
              "      <th>Learning Rate</th>\n",
              "    </tr>\n",
              "  </thead>\n",
              "  <tbody>\n",
              "    <tr>\n",
              "      <th>0</th>\n",
              "      <td>2.234389</td>\n",
              "      <td>0.146675</td>\n",
              "      <td>2.122633</td>\n",
              "      <td>0.20660</td>\n",
              "      <td>0</td>\n",
              "      <td>.001</td>\n",
              "    </tr>\n",
              "    <tr>\n",
              "      <th>1</th>\n",
              "      <td>1.968167</td>\n",
              "      <td>0.329762</td>\n",
              "      <td>1.781990</td>\n",
              "      <td>0.43385</td>\n",
              "      <td>1</td>\n",
              "      <td>.001</td>\n",
              "    </tr>\n",
              "    <tr>\n",
              "      <th>2</th>\n",
              "      <td>1.606828</td>\n",
              "      <td>0.487275</td>\n",
              "      <td>1.446390</td>\n",
              "      <td>0.53615</td>\n",
              "      <td>2</td>\n",
              "      <td>.001</td>\n",
              "    </tr>\n",
              "    <tr>\n",
              "      <th>3</th>\n",
              "      <td>1.357705</td>\n",
              "      <td>0.567600</td>\n",
              "      <td>1.265361</td>\n",
              "      <td>0.60305</td>\n",
              "      <td>3</td>\n",
              "      <td>.001</td>\n",
              "    </tr>\n",
              "    <tr>\n",
              "      <th>4</th>\n",
              "      <td>1.217546</td>\n",
              "      <td>0.622362</td>\n",
              "      <td>1.149849</td>\n",
              "      <td>0.64830</td>\n",
              "      <td>4</td>\n",
              "      <td>.001</td>\n",
              "    </tr>\n",
              "  </tbody>\n",
              "</table>\n",
              "</div>"
            ],
            "text/plain": [
              "       loss  accuracy  val_loss  val_accuracy  epoch Learning Rate\n",
              "0  2.234389  0.146675  2.122633       0.20660      0          .001\n",
              "1  1.968167  0.329762  1.781990       0.43385      1          .001\n",
              "2  1.606828  0.487275  1.446390       0.53615      2          .001\n",
              "3  1.357705  0.567600  1.265361       0.60305      3          .001\n",
              "4  1.217546  0.622362  1.149849       0.64830      4          .001"
            ]
          },
          "metadata": {
            "tags": []
          },
          "execution_count": 20
        }
      ]
    },
    {
      "cell_type": "code",
      "metadata": {
        "id": "XKBUKA5G3Z8L",
        "outputId": "7640905c-af72-4a9e-a0b4-15964f57cec4",
        "colab": {
          "base_uri": "https://localhost:8080/",
          "height": 286
        }
      },
      "source": [
        "sns.lineplot(x='epoch', y='val_accuracy', hue='Learning Rate', data=df);"
      ],
      "execution_count": 21,
      "outputs": [
        {
          "output_type": "display_data",
          "data": {
            "image/png": "[encoded data removed]",
            "text/plain": [
              "<Figure size 432x288 with 1 Axes>"
            ]
          },
          "metadata": {
            "tags": [],
            "needs_background": "light"
          }
        }
      ]
    },
    {
      "cell_type": "code",
      "metadata": {
        "id": "jmHy1k1d6Qgi",
        "outputId": "56216895-5985-45d4-9ff0-5faeb0f4be5f",
        "colab": {
          "base_uri": "https://localhost:8080/",
          "height": 441
        }
      },
      "source": [
        "sns.lineplot(x='Learning Rate', y='val_accuracy', data=df, c='b')\n",
        "sns.lineplot(x='Learning Rate', y='accuracy', data=df, c='g');"
      ],
      "execution_count": 22,
      "outputs": [
        {
          "output_type": "stream",
          "text": [
            "/usr/local/lib/python3.6/dist-packages/seaborn/relational.py:507: MatplotlibDeprecationWarning: Saw kwargs ['c', 'color'] which are all aliases for 'color'.  Kept value from 'color'.  Passing multiple aliases for the same property will raise a TypeError in 3.3.\n",
            "  line, = ax.plot([], [], **kws)\n",
            "/usr/local/lib/python3.6/dist-packages/seaborn/relational.py:522: MatplotlibDeprecationWarning: Saw kwargs ['c', 'color'] which are all aliases for 'color'.  Kept value from 'color'.  Passing multiple aliases for the same property will raise a TypeError in 3.3.\n",
            "  line, = ax.plot(x, y, **kws)\n",
            "/usr/local/lib/python3.6/dist-packages/seaborn/relational.py:507: MatplotlibDeprecationWarning: Saw kwargs ['c', 'color'] which are all aliases for 'color'.  Kept value from 'color'.  Passing multiple aliases for the same property will raise a TypeError in 3.3.\n",
            "  line, = ax.plot([], [], **kws)\n",
            "/usr/local/lib/python3.6/dist-packages/seaborn/relational.py:522: MatplotlibDeprecationWarning: Saw kwargs ['c', 'color'] which are all aliases for 'color'.  Kept value from 'color'.  Passing multiple aliases for the same property will raise a TypeError in 3.3.\n",
            "  line, = ax.plot(x, y, **kws)\n"
          ],
          "name": "stderr"
        },
        {
          "output_type": "display_data",
          "data": {
            "image/png": "[encoded data removed]",
            "text/plain": [
              "<Figure size 432x288 with 1 Axes>"
            ]
          },
          "metadata": {
            "tags": [],
            "needs_background": "light"
          }
        }
      ]
    },
    {
      "cell_type": "markdown",
      "metadata": {
        "id": "gxMtSRhV9Q7I"
      },
      "source": [
        "### Experiment with different Optimizers\n",
        "* Run 5 experiments with various optimizers available in TensorFlow. See list [here](https://www.tensorflow.org/api_docs/python/tf/keras/optimizers)\n",
        "* Visualize the results\n",
        "* Write up an analysis of the experiments and select the \"best\" performing model among your experiments. Make sure to compare against the previous experiments and your model's performance yesterday.\n",
        "* Repeat the experiment combining Learning Rate and different optimizers. Does the best performing model change? "
      ]
    },
    {
      "cell_type": "code",
      "metadata": {
        "id": "ujLuzdNA91ip",
        "outputId": "190f0d5f-c165-4615-9d31-0fe66f563455",
        "colab": {
          "base_uri": "https://localhost:8080/"
        }
      },
      "source": [
        "# Use function to create a default model\n",
        "model = create_model('relu', 0.01, Adam)\n",
        "\n",
        "# Optimizer experiment #1\n",
        "bs64_Adam = model.fit(\n",
        "  X_train, y_train,\n",
        "  epochs=20,\n",
        "  batch_size=64,\n",
        "  validation_data=(X_test, y_test)\n",
        ")"
      ],
      "execution_count": 27,
      "outputs": [
        {
          "output_type": "stream",
          "text": [
            "Epoch 1/20\n",
            "1250/1250 [==============================] - 4s 3ms/step - loss: 0.6916 - accuracy: 0.7896 - val_loss: 0.5777 - val_accuracy: 0.8286\n",
            "Epoch 2/20\n",
            "1250/1250 [==============================] - 4s 3ms/step - loss: 0.5487 - accuracy: 0.8349 - val_loss: 0.5475 - val_accuracy: 0.8386\n",
            "Epoch 3/20\n",
            "1250/1250 [==============================] - 4s 3ms/step - loss: 0.5096 - accuracy: 0.8490 - val_loss: 0.5524 - val_accuracy: 0.8379\n",
            "Epoch 4/20\n",
            "1250/1250 [==============================] - 4s 3ms/step - loss: 0.4806 - accuracy: 0.8580 - val_loss: 0.5090 - val_accuracy: 0.8528\n",
            "Epoch 5/20\n",
            "1250/1250 [==============================] - 4s 3ms/step - loss: 0.4627 - accuracy: 0.8648 - val_loss: 0.5280 - val_accuracy: 0.8536\n",
            "Epoch 6/20\n",
            "1250/1250 [==============================] - 4s 3ms/step - loss: 0.4431 - accuracy: 0.8713 - val_loss: 0.5233 - val_accuracy: 0.8551\n",
            "Epoch 7/20\n",
            "1250/1250 [==============================] - 4s 3ms/step - loss: 0.4303 - accuracy: 0.8737 - val_loss: 0.5539 - val_accuracy: 0.8450\n",
            "Epoch 8/20\n",
            "1250/1250 [==============================] - 4s 3ms/step - loss: 0.4170 - accuracy: 0.8790 - val_loss: 0.5328 - val_accuracy: 0.8589\n",
            "Epoch 9/20\n",
            "1250/1250 [==============================] - 4s 3ms/step - loss: 0.4052 - accuracy: 0.8813 - val_loss: 0.5384 - val_accuracy: 0.8539\n",
            "Epoch 10/20\n",
            "1250/1250 [==============================] - 4s 3ms/step - loss: 0.3966 - accuracy: 0.8848 - val_loss: 0.5223 - val_accuracy: 0.8587\n",
            "Epoch 11/20\n",
            "1250/1250 [==============================] - 4s 3ms/step - loss: 0.3848 - accuracy: 0.8895 - val_loss: 0.5677 - val_accuracy: 0.8546\n",
            "Epoch 12/20\n",
            "1250/1250 [==============================] - 3s 3ms/step - loss: 0.3789 - accuracy: 0.8916 - val_loss: 0.5411 - val_accuracy: 0.8583\n",
            "Epoch 13/20\n",
            "1250/1250 [==============================] - 4s 3ms/step - loss: 0.3694 - accuracy: 0.8929 - val_loss: 0.5576 - val_accuracy: 0.8557\n",
            "Epoch 14/20\n",
            "1250/1250 [==============================] - 4s 3ms/step - loss: 0.3628 - accuracy: 0.8947 - val_loss: 0.5561 - val_accuracy: 0.8559\n",
            "Epoch 15/20\n",
            "1250/1250 [==============================] - 4s 3ms/step - loss: 0.3537 - accuracy: 0.8980 - val_loss: 0.5653 - val_accuracy: 0.8504\n",
            "Epoch 16/20\n",
            "1250/1250 [==============================] - 4s 3ms/step - loss: 0.3472 - accuracy: 0.9007 - val_loss: 0.5429 - val_accuracy: 0.8548\n",
            "Epoch 17/20\n",
            "1250/1250 [==============================] - 4s 3ms/step - loss: 0.3397 - accuracy: 0.9028 - val_loss: 0.5764 - val_accuracy: 0.8520\n",
            "Epoch 18/20\n",
            "1250/1250 [==============================] - 4s 3ms/step - loss: 0.3357 - accuracy: 0.9040 - val_loss: 0.5885 - val_accuracy: 0.8597\n",
            "Epoch 19/20\n",
            "1250/1250 [==============================] - 4s 3ms/step - loss: 0.3315 - accuracy: 0.9056 - val_loss: 0.5985 - val_accuracy: 0.8537\n",
            "Epoch 20/20\n",
            "1250/1250 [==============================] - 4s 3ms/step - loss: 0.3238 - accuracy: 0.9075 - val_loss: 0.6310 - val_accuracy: 0.8552\n"
          ],
          "name": "stdout"
        }
      ]
    },
    {
      "cell_type": "code",
      "metadata": {
        "id": "Fz-prLC56l2R",
        "outputId": "ae50c45f-526f-4cd5-f965-da680a703d4d",
        "colab": {
          "base_uri": "https://localhost:8080/"
        }
      },
      "source": [
        "# Use function to create a default model\n",
        "model = create_model('relu', 0.01, Adamax)\n",
        "\n",
        "# Optimizer experiment #2\n",
        "bs64_Adamax = model.fit(\n",
        "  X_train, y_train,\n",
        "  epochs=20,\n",
        "  batch_size=64,\n",
        "  validation_data=(X_test, y_test)\n",
        ")"
      ],
      "execution_count": 28,
      "outputs": [
        {
          "output_type": "stream",
          "text": [
            "Epoch 1/20\n",
            "1250/1250 [==============================] - 4s 3ms/step - loss: 0.6481 - accuracy: 0.8010 - val_loss: 0.5092 - val_accuracy: 0.8458\n",
            "Epoch 2/20\n",
            "1250/1250 [==============================] - 4s 3ms/step - loss: 0.4783 - accuracy: 0.8537 - val_loss: 0.4863 - val_accuracy: 0.8526\n",
            "Epoch 3/20\n",
            "1250/1250 [==============================] - 4s 3ms/step - loss: 0.4190 - accuracy: 0.8717 - val_loss: 0.4609 - val_accuracy: 0.8624\n",
            "Epoch 4/20\n",
            "1250/1250 [==============================] - 4s 3ms/step - loss: 0.3782 - accuracy: 0.8849 - val_loss: 0.4396 - val_accuracy: 0.8691\n",
            "Epoch 5/20\n",
            "1250/1250 [==============================] - 4s 3ms/step - loss: 0.3468 - accuracy: 0.8940 - val_loss: 0.4506 - val_accuracy: 0.8678\n",
            "Epoch 6/20\n",
            "1250/1250 [==============================] - 4s 3ms/step - loss: 0.3225 - accuracy: 0.9009 - val_loss: 0.4495 - val_accuracy: 0.8705\n",
            "Epoch 7/20\n",
            "1250/1250 [==============================] - 4s 3ms/step - loss: 0.3007 - accuracy: 0.9065 - val_loss: 0.4790 - val_accuracy: 0.8673\n",
            "Epoch 8/20\n",
            "1250/1250 [==============================] - 4s 3ms/step - loss: 0.2809 - accuracy: 0.9126 - val_loss: 0.4642 - val_accuracy: 0.8719\n",
            "Epoch 9/20\n",
            "1250/1250 [==============================] - 4s 3ms/step - loss: 0.2615 - accuracy: 0.9183 - val_loss: 0.5103 - val_accuracy: 0.8652\n",
            "Epoch 10/20\n",
            "1250/1250 [==============================] - 4s 3ms/step - loss: 0.2455 - accuracy: 0.9239 - val_loss: 0.5106 - val_accuracy: 0.8697\n",
            "Epoch 11/20\n",
            "1250/1250 [==============================] - 4s 3ms/step - loss: 0.2306 - accuracy: 0.9275 - val_loss: 0.5185 - val_accuracy: 0.8644\n",
            "Epoch 12/20\n",
            "1250/1250 [==============================] - 4s 3ms/step - loss: 0.2158 - accuracy: 0.9322 - val_loss: 0.5527 - val_accuracy: 0.8659\n",
            "Epoch 13/20\n",
            "1250/1250 [==============================] - 4s 3ms/step - loss: 0.2025 - accuracy: 0.9357 - val_loss: 0.5861 - val_accuracy: 0.8667\n",
            "Epoch 14/20\n",
            "1250/1250 [==============================] - 4s 3ms/step - loss: 0.1933 - accuracy: 0.9387 - val_loss: 0.5754 - val_accuracy: 0.8648\n",
            "Epoch 15/20\n",
            "1250/1250 [==============================] - 4s 3ms/step - loss: 0.1810 - accuracy: 0.9430 - val_loss: 0.6156 - val_accuracy: 0.8652\n",
            "Epoch 16/20\n",
            "1250/1250 [==============================] - 4s 3ms/step - loss: 0.1707 - accuracy: 0.9456 - val_loss: 0.6252 - val_accuracy: 0.8644\n",
            "Epoch 17/20\n",
            "1250/1250 [==============================] - 4s 3ms/step - loss: 0.1624 - accuracy: 0.9482 - val_loss: 0.6437 - val_accuracy: 0.8614\n",
            "Epoch 18/20\n",
            "1250/1250 [==============================] - 4s 3ms/step - loss: 0.1527 - accuracy: 0.9516 - val_loss: 0.6870 - val_accuracy: 0.8605\n",
            "Epoch 19/20\n",
            "1250/1250 [==============================] - 4s 3ms/step - loss: 0.1454 - accuracy: 0.9535 - val_loss: 0.6933 - val_accuracy: 0.8634\n",
            "Epoch 20/20\n",
            "1250/1250 [==============================] - 5s 4ms/step - loss: 0.1416 - accuracy: 0.9544 - val_loss: 0.7348 - val_accuracy: 0.8617\n"
          ],
          "name": "stdout"
        }
      ]
    },
    {
      "cell_type": "code",
      "metadata": {
        "id": "es1sigfa6mRP",
        "outputId": "e0da46a2-be78-41af-df94-fd86a840f07c",
        "colab": {
          "base_uri": "https://localhost:8080/"
        }
      },
      "source": [
        "# Use function to create a default model\n",
        "model = create_model('relu', 0.01, Ftrl)\n",
        "\n",
        "# Optimizer experiment #3\n",
        "bs64_Ftrl = model.fit(\n",
        "  X_train, y_train,\n",
        "  epochs=20,\n",
        "  batch_size=64,\n",
        "  validation_data=(X_test, y_test)\n",
        ")"
      ],
      "execution_count": 29,
      "outputs": [
        {
          "output_type": "stream",
          "text": [
            "Epoch 1/20\n",
            "1250/1250 [==============================] - 5s 4ms/step - loss: 2.3027 - accuracy: 0.0965 - val_loss: 2.3026 - val_accuracy: 0.1000\n",
            "Epoch 2/20\n",
            "1250/1250 [==============================] - 5s 4ms/step - loss: 2.3026 - accuracy: 0.0969 - val_loss: 2.3026 - val_accuracy: 0.1000\n",
            "Epoch 3/20\n",
            "1250/1250 [==============================] - 4s 4ms/step - loss: 2.3026 - accuracy: 0.0970 - val_loss: 2.3026 - val_accuracy: 0.1000\n",
            "Epoch 4/20\n",
            "1250/1250 [==============================] - 4s 3ms/step - loss: 2.3026 - accuracy: 0.0978 - val_loss: 2.3026 - val_accuracy: 0.1000\n",
            "Epoch 5/20\n",
            "1250/1250 [==============================] - 4s 3ms/step - loss: 2.3026 - accuracy: 0.0980 - val_loss: 2.3026 - val_accuracy: 0.1000\n",
            "Epoch 6/20\n",
            "1250/1250 [==============================] - 4s 4ms/step - loss: 2.3026 - accuracy: 0.0991 - val_loss: 2.3026 - val_accuracy: 0.1000\n",
            "Epoch 7/20\n",
            "1250/1250 [==============================] - 4s 3ms/step - loss: 2.3026 - accuracy: 0.0960 - val_loss: 2.3026 - val_accuracy: 0.1000\n",
            "Epoch 8/20\n",
            "1250/1250 [==============================] - 4s 3ms/step - loss: 2.3026 - accuracy: 0.0973 - val_loss: 2.3026 - val_accuracy: 0.1000\n",
            "Epoch 9/20\n",
            "1250/1250 [==============================] - 4s 3ms/step - loss: 2.3026 - accuracy: 0.0982 - val_loss: 2.3026 - val_accuracy: 0.1000\n",
            "Epoch 10/20\n",
            "1250/1250 [==============================] - 4s 3ms/step - loss: 2.3026 - accuracy: 0.0979 - val_loss: 2.3026 - val_accuracy: 0.1000\n",
            "Epoch 11/20\n",
            "1250/1250 [==============================] - 5s 4ms/step - loss: 2.3026 - accuracy: 0.0960 - val_loss: 2.3026 - val_accuracy: 0.1000\n",
            "Epoch 12/20\n",
            "1250/1250 [==============================] - 4s 4ms/step - loss: 2.3026 - accuracy: 0.0986 - val_loss: 2.3026 - val_accuracy: 0.1000\n",
            "Epoch 13/20\n",
            "1250/1250 [==============================] - 4s 3ms/step - loss: 2.3026 - accuracy: 0.0978 - val_loss: 2.3026 - val_accuracy: 0.1000\n",
            "Epoch 14/20\n",
            "1250/1250 [==============================] - 4s 4ms/step - loss: 2.3026 - accuracy: 0.0989 - val_loss: 2.3026 - val_accuracy: 0.1000\n",
            "Epoch 15/20\n",
            "1250/1250 [==============================] - 4s 4ms/step - loss: 2.3026 - accuracy: 0.0982 - val_loss: 2.3026 - val_accuracy: 0.1000\n",
            "Epoch 16/20\n",
            "1250/1250 [==============================] - 4s 3ms/step - loss: 2.3026 - accuracy: 0.0975 - val_loss: 2.3026 - val_accuracy: 0.1000\n",
            "Epoch 17/20\n",
            "1250/1250 [==============================] - 4s 4ms/step - loss: 2.3026 - accuracy: 0.0980 - val_loss: 2.3026 - val_accuracy: 0.1000\n",
            "Epoch 18/20\n",
            "1250/1250 [==============================] - 5s 4ms/step - loss: 2.3026 - accuracy: 0.0977 - val_loss: 2.3026 - val_accuracy: 0.1000\n",
            "Epoch 19/20\n",
            "1250/1250 [==============================] - 4s 4ms/step - loss: 2.3026 - accuracy: 0.0966 - val_loss: 2.3026 - val_accuracy: 0.1000\n",
            "Epoch 20/20\n",
            "1250/1250 [==============================] - 5s 4ms/step - loss: 2.3026 - accuracy: 0.0977 - val_loss: 2.3026 - val_accuracy: 0.1000\n"
          ],
          "name": "stdout"
        }
      ]
    },
    {
      "cell_type": "code",
      "metadata": {
        "id": "WPioD5YV6mx3",
        "outputId": "3f8dd1f0-2a37-437b-e2fd-702bbc191088",
        "colab": {
          "base_uri": "https://localhost:8080/"
        }
      },
      "source": [
        "# Use function to create a default model\n",
        "model = create_model('relu', 0.01, Nadam)\n",
        "\n",
        "# Optimizer experiment #4\n",
        "bs64_Nadam = model.fit(\n",
        "  X_train, y_train,\n",
        "  epochs=20,\n",
        "  batch_size=64,\n",
        "  validation_data=(X_test, y_test)\n",
        ")"
      ],
      "execution_count": 30,
      "outputs": [
        {
          "output_type": "stream",
          "text": [
            "Epoch 1/20\n",
            "1250/1250 [==============================] - 6s 5ms/step - loss: 0.6932 - accuracy: 0.7876 - val_loss: 0.5921 - val_accuracy: 0.8251\n",
            "Epoch 2/20\n",
            "1250/1250 [==============================] - 6s 5ms/step - loss: 0.5405 - accuracy: 0.8384 - val_loss: 0.5589 - val_accuracy: 0.8344\n",
            "Epoch 3/20\n",
            "1250/1250 [==============================] - 6s 4ms/step - loss: 0.5019 - accuracy: 0.8513 - val_loss: 0.5382 - val_accuracy: 0.8435\n",
            "Epoch 4/20\n",
            "1250/1250 [==============================] - 6s 5ms/step - loss: 0.4806 - accuracy: 0.8569 - val_loss: 0.5518 - val_accuracy: 0.8429\n",
            "Epoch 5/20\n",
            "1250/1250 [==============================] - 6s 5ms/step - loss: 0.4603 - accuracy: 0.8648 - val_loss: 0.5349 - val_accuracy: 0.8493\n",
            "Epoch 6/20\n",
            "1250/1250 [==============================] - 6s 5ms/step - loss: 0.4462 - accuracy: 0.8699 - val_loss: 0.5464 - val_accuracy: 0.8490\n",
            "Epoch 7/20\n",
            "1250/1250 [==============================] - 6s 5ms/step - loss: 0.4303 - accuracy: 0.8741 - val_loss: 0.5135 - val_accuracy: 0.8558\n",
            "Epoch 8/20\n",
            "1250/1250 [==============================] - 7s 5ms/step - loss: 0.4184 - accuracy: 0.8763 - val_loss: 0.5379 - val_accuracy: 0.8543\n",
            "Epoch 9/20\n",
            "1250/1250 [==============================] - 6s 5ms/step - loss: 0.4105 - accuracy: 0.8814 - val_loss: 0.5320 - val_accuracy: 0.8504\n",
            "Epoch 10/20\n",
            "1250/1250 [==============================] - 6s 5ms/step - loss: 0.3978 - accuracy: 0.8845 - val_loss: 0.5385 - val_accuracy: 0.8506\n",
            "Epoch 11/20\n",
            "1250/1250 [==============================] - 7s 6ms/step - loss: 0.3917 - accuracy: 0.8854 - val_loss: 0.5376 - val_accuracy: 0.8533\n",
            "Epoch 12/20\n",
            "1250/1250 [==============================] - 6s 5ms/step - loss: 0.3855 - accuracy: 0.8871 - val_loss: 0.5685 - val_accuracy: 0.8516\n",
            "Epoch 13/20\n",
            "1250/1250 [==============================] - 6s 4ms/step - loss: 0.3789 - accuracy: 0.8898 - val_loss: 0.5587 - val_accuracy: 0.8542\n",
            "Epoch 14/20\n",
            "1250/1250 [==============================] - 6s 5ms/step - loss: 0.3724 - accuracy: 0.8913 - val_loss: 0.5644 - val_accuracy: 0.8518\n",
            "Epoch 15/20\n",
            "1250/1250 [==============================] - 6s 5ms/step - loss: 0.3616 - accuracy: 0.8946 - val_loss: 0.6017 - val_accuracy: 0.8523\n",
            "Epoch 16/20\n",
            "1250/1250 [==============================] - 6s 5ms/step - loss: 0.3611 - accuracy: 0.8961 - val_loss: 0.5804 - val_accuracy: 0.8515\n",
            "Epoch 17/20\n",
            "1250/1250 [==============================] - 6s 5ms/step - loss: 0.3508 - accuracy: 0.8989 - val_loss: 0.5853 - val_accuracy: 0.8551\n",
            "Epoch 18/20\n",
            "1250/1250 [==============================] - 6s 5ms/step - loss: 0.3474 - accuracy: 0.8992 - val_loss: 0.6119 - val_accuracy: 0.8526\n",
            "Epoch 19/20\n",
            "1250/1250 [==============================] - 6s 5ms/step - loss: 0.3385 - accuracy: 0.9023 - val_loss: 0.6392 - val_accuracy: 0.8485\n",
            "Epoch 20/20\n",
            "1250/1250 [==============================] - 6s 5ms/step - loss: 0.3433 - accuracy: 0.9011 - val_loss: 0.6132 - val_accuracy: 0.8497\n"
          ],
          "name": "stdout"
        }
      ]
    },
    {
      "cell_type": "code",
      "metadata": {
        "id": "VdDwlx1D6mhZ",
        "outputId": "ea12c3cf-2d45-4713-99e8-7f2d28cc914b",
        "colab": {
          "base_uri": "https://localhost:8080/"
        }
      },
      "source": [
        "# Use function to create a default model\n",
        "model = create_model('relu', 0.01, RMSprop)\n",
        "\n",
        "# Optimizer experiment #5\n",
        "bs64_RMSprop = model.fit(\n",
        "  X_train, y_train,\n",
        "  epochs=20,\n",
        "  batch_size=64,\n",
        "  validation_data=(X_test, y_test)\n",
        ")"
      ],
      "execution_count": 31,
      "outputs": [
        {
          "output_type": "stream",
          "text": [
            "Epoch 1/20\n",
            "1250/1250 [==============================] - 5s 4ms/step - loss: 0.7830 - accuracy: 0.7655 - val_loss: 0.6713 - val_accuracy: 0.8026\n",
            "Epoch 2/20\n",
            "1250/1250 [==============================] - 4s 4ms/step - loss: 0.6530 - accuracy: 0.8152 - val_loss: 0.6331 - val_accuracy: 0.8200\n",
            "Epoch 3/20\n",
            "1250/1250 [==============================] - 5s 4ms/step - loss: 0.6397 - accuracy: 0.8241 - val_loss: 0.7613 - val_accuracy: 0.8213\n",
            "Epoch 4/20\n",
            "1250/1250 [==============================] - 4s 4ms/step - loss: 0.6328 - accuracy: 0.8281 - val_loss: 0.9388 - val_accuracy: 0.8144\n",
            "Epoch 5/20\n",
            "1250/1250 [==============================] - 4s 4ms/step - loss: 0.6691 - accuracy: 0.8230 - val_loss: 0.7349 - val_accuracy: 0.8284\n",
            "Epoch 6/20\n",
            "1250/1250 [==============================] - 5s 4ms/step - loss: 0.6785 - accuracy: 0.8285 - val_loss: 0.7345 - val_accuracy: 0.8317\n",
            "Epoch 7/20\n",
            "1250/1250 [==============================] - 4s 4ms/step - loss: 0.6931 - accuracy: 0.8286 - val_loss: 0.7478 - val_accuracy: 0.8324\n",
            "Epoch 8/20\n",
            "1250/1250 [==============================] - 4s 4ms/step - loss: 0.7045 - accuracy: 0.8280 - val_loss: 0.8367 - val_accuracy: 0.8387\n",
            "Epoch 9/20\n",
            "1250/1250 [==============================] - 4s 3ms/step - loss: 0.7224 - accuracy: 0.8282 - val_loss: 0.8995 - val_accuracy: 0.8062\n",
            "Epoch 10/20\n",
            "1250/1250 [==============================] - 4s 3ms/step - loss: 0.7058 - accuracy: 0.8290 - val_loss: 1.0537 - val_accuracy: 0.8173\n",
            "Epoch 11/20\n",
            "1250/1250 [==============================] - 4s 4ms/step - loss: 0.7411 - accuracy: 0.8275 - val_loss: 1.0407 - val_accuracy: 0.7456\n",
            "Epoch 12/20\n",
            "1250/1250 [==============================] - 4s 4ms/step - loss: 0.7621 - accuracy: 0.8236 - val_loss: 1.1140 - val_accuracy: 0.8153\n",
            "Epoch 13/20\n",
            "1250/1250 [==============================] - 4s 3ms/step - loss: 0.8041 - accuracy: 0.8179 - val_loss: 1.0353 - val_accuracy: 0.7702\n",
            "Epoch 14/20\n",
            "1250/1250 [==============================] - 4s 4ms/step - loss: 0.9051 - accuracy: 0.8079 - val_loss: 1.1116 - val_accuracy: 0.8279\n",
            "Epoch 15/20\n",
            "1250/1250 [==============================] - 4s 4ms/step - loss: 0.8639 - accuracy: 0.8022 - val_loss: 1.3692 - val_accuracy: 0.7156\n",
            "Epoch 16/20\n",
            "1250/1250 [==============================] - 4s 4ms/step - loss: 0.8869 - accuracy: 0.7951 - val_loss: 1.6770 - val_accuracy: 0.7571\n",
            "Epoch 17/20\n",
            "1250/1250 [==============================] - 4s 4ms/step - loss: 0.9491 - accuracy: 0.7719 - val_loss: 1.1999 - val_accuracy: 0.7414\n",
            "Epoch 18/20\n",
            "1250/1250 [==============================] - 4s 3ms/step - loss: 1.0853 - accuracy: 0.7272 - val_loss: 1.3691 - val_accuracy: 0.6172\n",
            "Epoch 19/20\n",
            "1250/1250 [==============================] - 4s 4ms/step - loss: 1.1979 - accuracy: 0.7018 - val_loss: 1.8340 - val_accuracy: 0.5525\n",
            "Epoch 20/20\n",
            "1250/1250 [==============================] - 5s 4ms/step - loss: 1.4296 - accuracy: 0.6324 - val_loss: 1.9792 - val_accuracy: 0.4985\n"
          ],
          "name": "stdout"
        }
      ]
    },
    {
      "cell_type": "code",
      "metadata": {
        "id": "DDH9AX956mJH",
        "outputId": "adc76981-a2c9-4804-b556-0cbf5346d3d6",
        "colab": {
          "base_uri": "https://localhost:8080/",
          "height": 204
        }
      },
      "source": [
        "optimize = []\n",
        "\n",
        "for exp, result in zip([bs64_Adam, bs64_Adamax, bs64_Ftrl, bs64_Nadam, \n",
        "                        bs64_RMSprop], ['Adam', 'Adamax', 'Ftrl', 'Nadam', \n",
        "                                        'RMSprop']):\n",
        "    df = pd.DataFrame.from_dict(exp.history)\n",
        "    df['epoch'] = df.index.values\n",
        "    df['Optimizer'] = result\n",
        "    optimize.append(df)\n",
        "\n",
        "df = pd.concat(optimize)\n",
        "df['Optimizer'] = df['Optimizer'].astype('str')\n",
        "df.head()"
      ],
      "execution_count": 32,
      "outputs": [
        {
          "output_type": "execute_result",
          "data": {
            "text/html": [
              "<div>\n",
              "<style scoped>\n",
              "    .dataframe tbody tr th:only-of-type {\n",
              "        vertical-align: middle;\n",
              "    }\n",
              "\n",
              "    .dataframe tbody tr th {\n",
              "        vertical-align: top;\n",
              "    }\n",
              "\n",
              "    .dataframe thead th {\n",
              "        text-align: right;\n",
              "    }\n",
              "</style>\n",
              "<table border=\"1\" class=\"dataframe\">\n",
              "  <thead>\n",
              "    <tr style=\"text-align: right;\">\n",
              "      <th></th>\n",
              "      <th>loss</th>\n",
              "      <th>accuracy</th>\n",
              "      <th>val_loss</th>\n",
              "      <th>val_accuracy</th>\n",
              "      <th>epoch</th>\n",
              "      <th>Optimizer</th>\n",
              "    </tr>\n",
              "  </thead>\n",
              "  <tbody>\n",
              "    <tr>\n",
              "      <th>0</th>\n",
              "      <td>0.691574</td>\n",
              "      <td>0.789563</td>\n",
              "      <td>0.577673</td>\n",
              "      <td>0.82865</td>\n",
              "      <td>0</td>\n",
              "      <td>Adam</td>\n",
              "    </tr>\n",
              "    <tr>\n",
              "      <th>1</th>\n",
              "      <td>0.548662</td>\n",
              "      <td>0.834888</td>\n",
              "      <td>0.547457</td>\n",
              "      <td>0.83860</td>\n",
              "      <td>1</td>\n",
              "      <td>Adam</td>\n",
              "    </tr>\n",
              "    <tr>\n",
              "      <th>2</th>\n",
              "      <td>0.509606</td>\n",
              "      <td>0.849050</td>\n",
              "      <td>0.552406</td>\n",
              "      <td>0.83790</td>\n",
              "      <td>2</td>\n",
              "      <td>Adam</td>\n",
              "    </tr>\n",
              "    <tr>\n",
              "      <th>3</th>\n",
              "      <td>0.480626</td>\n",
              "      <td>0.857962</td>\n",
              "      <td>0.508966</td>\n",
              "      <td>0.85280</td>\n",
              "      <td>3</td>\n",
              "      <td>Adam</td>\n",
              "    </tr>\n",
              "    <tr>\n",
              "      <th>4</th>\n",
              "      <td>0.462712</td>\n",
              "      <td>0.864788</td>\n",
              "      <td>0.527979</td>\n",
              "      <td>0.85365</td>\n",
              "      <td>4</td>\n",
              "      <td>Adam</td>\n",
              "    </tr>\n",
              "  </tbody>\n",
              "</table>\n",
              "</div>"
            ],
            "text/plain": [
              "       loss  accuracy  val_loss  val_accuracy  epoch Optimizer\n",
              "0  0.691574  0.789563  0.577673       0.82865      0      Adam\n",
              "1  0.548662  0.834888  0.547457       0.83860      1      Adam\n",
              "2  0.509606  0.849050  0.552406       0.83790      2      Adam\n",
              "3  0.480626  0.857962  0.508966       0.85280      3      Adam\n",
              "4  0.462712  0.864788  0.527979       0.85365      4      Adam"
            ]
          },
          "metadata": {
            "tags": []
          },
          "execution_count": 32
        }
      ]
    },
    {
      "cell_type": "code",
      "metadata": {
        "id": "kAjhesML6lur",
        "outputId": "683323cb-9945-4104-8be5-710b51b85263",
        "colab": {
          "base_uri": "https://localhost:8080/",
          "height": 286
        }
      },
      "source": [
        "sns.lineplot(x='epoch', y='val_accuracy', hue='Optimizer', data=df);"
      ],
      "execution_count": 33,
      "outputs": [
        {
          "output_type": "display_data",
          "data": {
            "image/png": "[encoded data removed]",
            "text/plain": [
              "<Figure size 432x288 with 1 Axes>"
            ]
          },
          "metadata": {
            "tags": [],
            "needs_background": "light"
          }
        }
      ]
    },
    {
      "cell_type": "code",
      "metadata": {
        "id": "YLkjimqxYImI",
        "outputId": "58efdc64-1457-4247-e5e2-5a1682f4b3fd",
        "colab": {
          "base_uri": "https://localhost:8080/",
          "height": 441
        }
      },
      "source": [
        "sns.lineplot(x='Optimizer', y='val_accuracy', data=df, c='b')\n",
        "sns.lineplot(x='Optimizer', y='accuracy', data=df, c='g');"
      ],
      "execution_count": 34,
      "outputs": [
        {
          "output_type": "stream",
          "text": [
            "/usr/local/lib/python3.6/dist-packages/seaborn/relational.py:507: MatplotlibDeprecationWarning: Saw kwargs ['c', 'color'] which are all aliases for 'color'.  Kept value from 'color'.  Passing multiple aliases for the same property will raise a TypeError in 3.3.\n",
            "  line, = ax.plot([], [], **kws)\n",
            "/usr/local/lib/python3.6/dist-packages/seaborn/relational.py:522: MatplotlibDeprecationWarning: Saw kwargs ['c', 'color'] which are all aliases for 'color'.  Kept value from 'color'.  Passing multiple aliases for the same property will raise a TypeError in 3.3.\n",
            "  line, = ax.plot(x, y, **kws)\n",
            "/usr/local/lib/python3.6/dist-packages/seaborn/relational.py:507: MatplotlibDeprecationWarning: Saw kwargs ['c', 'color'] which are all aliases for 'color'.  Kept value from 'color'.  Passing multiple aliases for the same property will raise a TypeError in 3.3.\n",
            "  line, = ax.plot([], [], **kws)\n",
            "/usr/local/lib/python3.6/dist-packages/seaborn/relational.py:522: MatplotlibDeprecationWarning: Saw kwargs ['c', 'color'] which are all aliases for 'color'.  Kept value from 'color'.  Passing multiple aliases for the same property will raise a TypeError in 3.3.\n",
            "  line, = ax.plot(x, y, **kws)\n"
          ],
          "name": "stderr"
        },
        {
          "output_type": "display_data",
          "data": {
            "image/png": "[encoded data removed]",
            "text/plain": [
              "<Figure size 432x288 with 1 Axes>"
            ]
          },
          "metadata": {
            "tags": [],
            "needs_background": "light"
          }
        }
      ]
    },
    {
      "cell_type": "markdown",
      "metadata": {
        "id": "ydAqeY9S8uHA"
      },
      "source": [
        "### Additional Written Tasks\n",
        "\n",
        "1. Describe the process of backpropagation in your own words: \n",
        "    \n",
        "  ```An algorithm used when training a feedforward neural network using gradient descent. This method calculates the gradient of an error function using the neural network's weights.```\n",
        "\n",
        "\n",
        "\n"
      ]
    },
    {
      "cell_type": "markdown",
      "metadata": {
        "id": "FwlRJSfBlCvy"
      },
      "source": [
        "## Stretch Goals: \n",
        "\n",
        "- Implement GridSearch on anyone of the experiments\n",
        "- On the learning rate experiments, implement [EarlyStopping](https://www.tensorflow.org/api_docs/python/tf/keras/callbacks/EarlyStopping)\n",
        "- Review material on the math behind gradient descent: \n",
        "\n",
        "  - Gradient Descent\n",
        "    - Gradient Descent, Step-by-Step  by StatQuest w/ Josh Starmer. This will help you understand the gradient descent based optimization that happens underneath the hood of neural networks. It uses a non-neural network example, which I believe is a gentler introduction. You will hear me refer to this technique as \"vanilla\" gradient descent. \n",
        "    - Stochastic Gradient Descent, Clearly Explained!!! by StatQuest w/ Josh Starmer. This builds on the techniques in the previous video.  This technique is the one that is actually implemented inside modern 'nets. \n",
        "These are great resources to help you understand tomorrow's material at a deeper level. I highly recommend watching these ahead of tomorrow.\n",
        "\n",
        "  - Background Math\n",
        "    - Dot products and duality by 3Blue1Brown. Explains the core linear algebra operation happening in today's perceptron.\n",
        "The paradox of the derivative by 3Blue1Brown. Does a great job explaining a derivative. \n",
        "    - Visualizing the chain rule and product rule by 3Blue1Brown. Explains the black magic that happens within Stochastic Gradient Descent. \n",
        "These math resources are very much optional. They can be very heady, but I encourage you to explore. Your understanding of neural networks will greatly increase if you understand this math background.\n",
        "\n",
        "\n"
      ]
    }
  ]
}