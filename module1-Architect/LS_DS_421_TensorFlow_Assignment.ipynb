{
  "nbformat": 4,
  "nbformat_minor": 0,
  "metadata": {
    "colab": {
      "name": "LS_DS_432_TensorFlow_Assignment",
      "provenance": [],
      "collapsed_sections": []
    },
    "kernelspec": {
      "name": "python3",
      "display_name": "Python 3"
    },
    "accelerator": "GPU"
  },
  "cells": [
    {
      "cell_type": "markdown",
      "metadata": {
        "id": "ObyHCH8HvHSf"
      },
      "source": [
        "<img align=\"left\" src=\"https://lever-client-logos.s3.amazonaws.com/864372b1-534c-480e-acd5-9711f850815c-1524247202159.png\" width=200>\n",
        "<br></br>\n",
        "<br></br>\n",
        "\n",
        "# *Data Science Unit 4 Sprint 2 Assignment 1*\n",
        "\n",
        "Use TensorFlow Keras & a sample of the [Quickdraw dataset](https://github.com/googlecreativelab/quickdraw-dataset) to build a sketch classification model. The dataset has been sampled to only 10 classes and 10000 observations per class. Please build a baseline classification model then run a few experiments with different optimizers and learning rates. \n",
        "\n",
        "*Don't forgot to switch to GPU on Colab!*"
      ]
    },
    {
      "cell_type": "markdown",
      "metadata": {
        "id": "s-Tc3ovEyQ9b"
      },
      "source": [
        "## Load Your Data"
      ]
    },
    {
      "cell_type": "code",
      "metadata": {
        "id": "CkU0pAYCvU8o",
        "outputId": "b8308ce5-816c-4e2f-e2d4-5827c9430528",
        "colab": {
          "base_uri": "https://localhost:8080/"
        }
      },
      "source": [
        "import numpy as np\n",
        "import tensorflow as tf \n",
        "\n",
        "data = np.load('quickdraw10.npz')\n",
        "X = data['arr_0']\n",
        "y = data['arr_1']\n",
        "\n",
        "print(X.shape)\n",
        "print(y.shape)"
      ],
      "execution_count": 35,
      "outputs": [
        {
          "output_type": "stream",
          "text": [
            "(100000, 784)\n",
            "(100000,)\n"
          ],
          "name": "stdout"
        }
      ]
    },
    {
      "cell_type": "code",
      "metadata": {
        "id": "c8qsDqdqvHDd"
      },
      "source": [
        "class_names = ['apple',\n",
        " 'anvil',\n",
        " 'airplane',\n",
        " 'banana',\n",
        " 'The Eiffel Tower',\n",
        " 'The Mona Lisa',\n",
        " 'The Great Wall of China',\n",
        " 'alarm clock',\n",
        " 'ant',\n",
        " 'asparagus']"
      ],
      "execution_count": 22,
      "outputs": []
    },
    {
      "cell_type": "code",
      "metadata": {
        "id": "Owbm1EbxvA5A",
        "outputId": "53386873-944c-4491-bd02-bda2238169d5",
        "colab": {
          "base_uri": "https://localhost:8080/",
          "height": 289
        }
      },
      "source": [
        "import matplotlib.pyplot as plt\n",
        "plt.figure(figsize=(10,5))\n",
        "start = 0\n",
        "\n",
        "for num, name in enumerate(class_names):\n",
        "    plt.subplot(2,5, num+1)\n",
        "    plt.xticks([])\n",
        "    plt.yticks([])\n",
        "    plt.grid(False)\n",
        "    plt.imshow(X[start].reshape(28,28), cmap=plt.cm.binary)\n",
        "    plt.xlabel(name)\n",
        "    start += 10000\n",
        "plt.show()"
      ],
      "execution_count": 23,
      "outputs": [
        {
          "output_type": "display_data",
          "data": {
            "image/png": "[encoded data removed]",
            "text/plain": [
              "<Figure size 720x360 with 10 Axes>"
            ]
          },
          "metadata": {
            "tags": []
          }
        }
      ]
    },
    {
      "cell_type": "code",
      "metadata": {
        "id": "c97_M1WNvTNY"
      },
      "source": [
        "# Need this line to randomly shuffle both the X & y at the same time.\n",
        "\n",
        "from sklearn.utils import shuffle\n",
        "X, y = shuffle(X, y)"
      ],
      "execution_count": 24,
      "outputs": []
    },
    {
      "cell_type": "code",
      "metadata": {
        "id": "NRMUuSdl3NBQ",
        "outputId": "608a58bb-4ab2-4b92-b74d-2ea3b9a125a9",
        "colab": {
          "base_uri": "https://localhost:8080/"
        }
      },
      "source": [
        "print(X.shape, y.shape)"
      ],
      "execution_count": 25,
      "outputs": [
        {
          "output_type": "stream",
          "text": [
            "(100000, 784) (100000,)\n"
          ],
          "name": "stdout"
        }
      ]
    },
    {
      "cell_type": "code",
      "metadata": {
        "id": "ZvYXA8Qz32Q9",
        "outputId": "30aad888-1db8-4502-8c86-3e2d9ca84e56",
        "colab": {
          "base_uri": "https://localhost:8080/"
        }
      },
      "source": [
        "X[3]"
      ],
      "execution_count": 26,
      "outputs": [
        {
          "output_type": "execute_result",
          "data": {
            "text/plain": [
              "array([  0,   0,   0,   0,   0,   0,   0,   0,   0,   0,   0,   0,   0,\n",
              "         0,   0,   0,   0,   0,   0,   0,   0,   0,   0,   0,   0,   0,\n",
              "         0,   0,   0,   0,   0,   0,   0,   0,   0,   0,   0,   0,   0,\n",
              "         0,   0,   0,   0,  11, 101,   4,   0,   0,   0,   0,   0,   0,\n",
              "         0,   0,   0,   0,   0,   0,   0,   0,   0,   0,   0,   0,   0,\n",
              "         0,   0,   0,   0,   0,   0, 158, 255,  99,   0,   0,   0,   0,\n",
              "         0,   0,   0,   0,   0,   0,   0,   0,   0,   0,   0,   0,   0,\n",
              "         0,   0,   0,   0,   0,   0,   0,  80, 255, 241, 221,   5,   0,\n",
              "         0,   0,   0,   0,   0,   0,   0,   0,   0,   0,   0,   0,   0,\n",
              "         0,   0,   0,   0,   0,   0,   0,   0,  21, 232, 197,  70, 255,\n",
              "        99,   0,   0,   0,   0,   0,   0,   0,   0,   0,   0,   0,   0,\n",
              "         0,   0,   0,   0,   0,   0,   0,   0,   0,   0, 179, 244,  37,\n",
              "         0, 198, 224,   6,   0,   0,   0,   0,   0,   0,   0,   0,   0,\n",
              "         0,   0,   0,   0,   0,   0,   0,   0,   0,   0,   0, 102, 255,\n",
              "       206, 204, 235, 255, 255, 245, 153,   0,   0,   0,   0,   0,   0,\n",
              "         0,   0,   0,   0,   0,   0,   0,   0,   0,   0,   0,   0,  33,\n",
              "       242, 183, 147, 221, 255, 220, 228, 241,  70,   0,   0,   0,   0,\n",
              "         0,   0,   0,   0,   0,   0,   0,   0,   0,   0,   0,   0,   0,\n",
              "         3, 196, 234,  23,  82, 255, 201,   1,  67, 255,  85,   0,   0,\n",
              "         0,   0,   0,   0,   0,   0,   0,   0,   0,   0,   0,   0,   0,\n",
              "         0,   0, 122, 255,  84,  35, 237, 252, 144,   0,   1, 226, 166,\n",
              "         0,   0,   0,   0,   0,   0,   0,   0,   0,   0,   0,   0,   0,\n",
              "         0,   0,   0,  48, 249, 158,   3, 197, 233, 186, 237,  21,   0,\n",
              "       148, 240,   6,   0,   0,   0,   0,   0,   0,   0,   0,   0,   0,\n",
              "         0,   0,   0,   0,   7, 210, 223,  14, 117, 255,  84,  36, 247,\n",
              "       159,   0,  69, 255,  70,   0,   0,   0,   0,   0,   0,   0,   0,\n",
              "         0,   0,   0,   0,   0,   0, 141, 253,  63,  40, 246, 165,   0,\n",
              "         0, 126, 254,  74,   5, 239, 154,   0,   0,   0,   0,   0,   0,\n",
              "         0,   0,   0,   0,   0,   0,   0,  61, 253, 146,  89, 234, 251,\n",
              "       218, 223, 238, 248, 255, 255,  55, 150, 243,  15,   0,   0,   0,\n",
              "         0,   0,   0,   0,   0,   0,   0,   0,  15, 224, 218, 248, 255,\n",
              "       255, 201, 161, 153, 136, 128, 155, 255, 104,  42, 254, 109,   0,\n",
              "         0,   0,   0,   0,   0,   0,   0,   0,   0,   0, 161, 248,  49,\n",
              "       117, 249, 163,   0,   0,   0,   0,   0,   0, 200, 207,   0, 191,\n",
              "       215,   1,   0,   0,   0,   0,   0,   0,   0,   0,   0,  48, 255,\n",
              "       175, 109, 197, 244,  92,  68,  58,  55,  85, 121, 156, 216, 255,\n",
              "       247, 107, 255,  68,   0,   0,   0,   0,   0,   0,   0,   0,   0,\n",
              "       158, 240, 240, 255, 255, 255, 255, 255, 255, 255, 255, 253, 224,\n",
              "       195, 255, 173,   9, 228, 174,   0,   0,   0,   0,   0,   0,   0,\n",
              "         0,  20, 246, 142,   0, 129, 253,  63,  77, 173, 231, 242, 241,\n",
              "       235, 141,   6, 211, 178,   0, 127, 251,  29,   0,   0,   0,   0,\n",
              "         0,   0,   0, 112, 253,  35,   1, 227, 177,  74, 245, 238, 168,\n",
              "       153, 153, 168, 253, 154, 141, 244,   7,  25, 250, 132,   0,   0,\n",
              "         0,   0,   0,   0,   3, 198, 208,   0,   5, 255, 117, 181, 218,\n",
              "        18,   0,   0,   0,   0, 148, 243,  78, 255,  64,  14, 193, 244,\n",
              "       155,   5,   0,   0,   0,  65, 227, 255, 255, 222, 149, 254, 128,\n",
              "       222, 158,   0,   0,   0,   0,   0,  89, 255, 117, 252, 232, 252,\n",
              "       255, 255, 210,   7,   0,   0,   0,  80, 201, 255, 133, 169, 239,\n",
              "       255, 251, 255, 212,  49,   0,   0,   0,   0,  81, 255, 255, 244,\n",
              "       197, 120,  61, 211, 189,   0,   0,   0,   8, 196, 241, 255, 201,\n",
              "       118,  58, 231, 208, 255, 215,  67,   0,   0,   0,   0,  73, 255,\n",
              "        83,   1,   0,   0,   0, 155, 221,   0,   0,   0,   3, 141, 159,\n",
              "       151, 196, 253, 255, 255, 255, 241,  19,   0,   0,   0,   0,   0,\n",
              "        95, 255,  49,   8,   7,  64, 129, 222, 232,   0,   0,   0,   0,\n",
              "         0,   0,   0,   0,  24,  73,  85,  88,  48,   0,   0,   0,   0,\n",
              "         0,   0, 117, 255, 255, 255, 255, 255, 249, 195, 102,   0,   0,\n",
              "         0,   0,   0,   0,   0,   0,   0,   0,   0,   0,   0,   0,   0,\n",
              "         0,   0,   0,   0,   2,  72, 102, 117, 117,  70,  11,   0,   0,\n",
              "         0,   0,   0,   0,   0,   0,   0,   0,   0,   0,   0,   0,   0,\n",
              "         0,   0,   0,   0,   0,   0,   0,   0,   0,   0,   0,   0,   0,\n",
              "         0,   0,   0,   0], dtype=uint8)"
            ]
          },
          "metadata": {
            "tags": []
          },
          "execution_count": 26
        }
      ]
    },
    {
      "cell_type": "code",
      "metadata": {
        "id": "jQyvTPoORUZl",
        "outputId": "62b798ee-7477-461d-c8c0-24f26d8d2d8e",
        "colab": {
          "base_uri": "https://localhost:8080/"
        }
      },
      "source": [
        "y[3]"
      ],
      "execution_count": 34,
      "outputs": [
        {
          "output_type": "execute_result",
          "data": {
            "text/plain": [
              "0"
            ]
          },
          "metadata": {
            "tags": []
          },
          "execution_count": 34
        }
      ]
    },
    {
      "cell_type": "code",
      "metadata": {
        "id": "JLm52YQi4FTJ",
        "outputId": "6ce1c7e2-768c-427a-d0ad-d14508bd0a78",
        "colab": {
          "base_uri": "https://localhost:8080/"
        }
      },
      "source": [
        "# # Flatten to turn all numbers into 0 thru 1 to normalize\n",
        "# X = X.astype('float32') /255\n",
        "# y = y.astype('float32') /255\n",
        "# X[3]"
      ],
      "execution_count": 7,
      "outputs": [
        {
          "output_type": "execute_result",
          "data": {
            "text/plain": [
              "array([0.        , 0.        , 0.        , 0.        , 0.        ,\n",
              "       0.        , 0.        , 0.        , 0.        , 0.        ,\n",
              "       0.        , 0.        , 0.        , 0.        , 0.        ,\n",
              "       0.        , 0.        , 0.        , 0.        , 0.        ,\n",
              "       0.        , 0.        , 0.        , 0.        , 0.        ,\n",
              "       0.        , 0.        , 0.        , 0.        , 0.        ,\n",
              "       0.        , 0.        , 0.        , 0.        , 0.        ,\n",
              "       0.        , 0.        , 0.        , 0.        , 0.        ,\n",
              "       0.        , 0.        , 0.        , 0.        , 0.        ,\n",
              "       0.        , 0.        , 0.        , 0.        , 0.        ,\n",
              "       0.        , 0.        , 0.        , 0.        , 0.        ,\n",
              "       0.        , 0.        , 0.        , 0.        , 0.        ,\n",
              "       0.        , 0.        , 0.        , 0.        , 0.        ,\n",
              "       0.        , 0.        , 0.        , 0.        , 0.        ,\n",
              "       0.        , 0.        , 0.        , 0.        , 0.        ,\n",
              "       0.        , 0.        , 0.        , 0.        , 0.        ,\n",
              "       0.        , 0.        , 0.        , 0.        , 0.        ,\n",
              "       0.        , 0.        , 0.        , 0.        , 0.        ,\n",
              "       0.        , 0.        , 0.        , 0.        , 0.        ,\n",
              "       0.        , 0.        , 0.        , 0.        , 0.        ,\n",
              "       0.        , 0.        , 0.        , 0.        , 0.        ,\n",
              "       0.        , 0.        , 0.        , 0.        , 0.        ,\n",
              "       0.        , 0.        , 0.        , 0.        , 0.        ,\n",
              "       0.        , 0.        , 0.        , 0.        , 0.        ,\n",
              "       0.        , 0.        , 0.        , 0.        , 0.        ,\n",
              "       0.        , 0.        , 0.        , 0.        , 0.        ,\n",
              "       0.        , 0.        , 0.        , 0.        , 0.        ,\n",
              "       0.        , 0.        , 0.        , 0.        , 0.        ,\n",
              "       0.        , 0.        , 0.1882353 , 0.7294118 , 0.73333335,\n",
              "       0.5568628 , 0.38431373, 0.20392157, 0.03921569, 0.        ,\n",
              "       0.        , 0.        , 0.        , 0.        , 0.        ,\n",
              "       0.        , 0.        , 0.        , 0.        , 0.        ,\n",
              "       0.        , 0.        , 0.        , 0.        , 0.        ,\n",
              "       0.        , 0.        , 0.        , 0.        , 0.        ,\n",
              "       0.60784316, 0.94509804, 0.7647059 , 0.9372549 , 1.        ,\n",
              "       1.        , 0.9882353 , 0.85490197, 0.6745098 , 0.49803922,\n",
              "       0.26666668, 0.03529412, 0.        , 0.        , 0.        ,\n",
              "       0.        , 0.        , 0.        , 0.        , 0.        ,\n",
              "       0.        , 0.        , 0.        , 0.        , 0.        ,\n",
              "       0.        , 0.        , 0.03529412, 0.8392157 , 0.9607843 ,\n",
              "       0.14509805, 0.        , 0.11764706, 0.29411766, 0.47058824,\n",
              "       0.64705884, 0.8235294 , 0.98039216, 1.        , 0.96862745,\n",
              "       0.74509805, 0.48235294, 0.22352941, 0.01568628, 0.        ,\n",
              "       0.        , 0.        , 0.        , 0.        , 0.        ,\n",
              "       0.        , 0.        , 0.        , 0.        , 0.        ,\n",
              "       0.42352942, 1.        , 1.        , 0.9882353 , 0.8745098 ,\n",
              "       0.8666667 , 0.9137255 , 0.92941177, 0.92941177, 0.7411765 ,\n",
              "       0.4509804 , 0.3529412 , 0.52156866, 0.78431374, 0.9882353 ,\n",
              "       1.        , 0.9490196 , 0.7647059 , 0.6745098 , 0.5803922 ,\n",
              "       0.49411765, 0.40392157, 0.30980393, 0.22745098, 0.07843138,\n",
              "       0.        , 0.        , 0.        , 0.48235294, 1.        ,\n",
              "       0.8980392 , 0.47058824, 0.7529412 , 0.9647059 , 1.        ,\n",
              "       0.8980392 , 1.        , 0.83137256, 0.99607843, 1.        ,\n",
              "       0.80784315, 0.5411765 , 0.41960785, 0.5176471 , 0.8627451 ,\n",
              "       0.972549  , 0.87058824, 0.9254902 , 0.9843137 , 1.        ,\n",
              "       1.        , 1.        , 0.9411765 , 0.16862746, 0.        ,\n",
              "       0.        , 0.45882353, 1.        , 0.99607843, 0.13725491,\n",
              "       0.8352941 , 1.        , 0.5882353 , 0.15294118, 1.        ,\n",
              "       0.9843137 , 0.27450982, 0.42352942, 0.7294118 , 0.98039216,\n",
              "       1.        , 1.        , 1.        , 1.        , 1.        ,\n",
              "       1.        , 1.        , 1.        , 1.        , 0.99607843,\n",
              "       1.        , 0.34901962, 0.        , 0.        , 0.33333334,\n",
              "       1.        , 1.        , 0.8980392 , 0.96862745, 1.        ,\n",
              "       0.56078434, 0.9019608 , 0.99607843, 0.88235295, 0.02745098,\n",
              "       0.        , 0.14901961, 0.99607843, 1.        , 0.8156863 ,\n",
              "       0.3647059 , 0.99215686, 0.50980395, 0.2       , 0.2       ,\n",
              "       0.16470589, 0.43137255, 1.        , 0.8901961 , 0.01960784,\n",
              "       0.        , 0.        , 0.1882353 , 1.        , 0.99607843,\n",
              "       0.93333334, 0.2901961 , 0.99215686, 1.        , 0.75686276,\n",
              "       0.5921569 , 0.98039216, 0.09411765, 0.5019608 , 0.9764706 ,\n",
              "       1.        , 0.654902  , 0.00392157, 0.01960784, 0.89411765,\n",
              "       0.6431373 , 0.        , 0.        , 0.        , 0.5254902 ,\n",
              "       0.98039216, 0.2901961 , 0.        , 0.        , 0.        ,\n",
              "       0.10196079, 1.        , 0.9137255 , 0.7294118 , 0.90588236,\n",
              "       0.9843137 , 0.8156863 , 0.00392157, 0.21176471, 1.        ,\n",
              "       0.91764706, 0.99215686, 0.63529414, 0.89411765, 0.6509804 ,\n",
              "       0.39215687, 0.87058824, 1.        , 0.90588236, 0.3764706 ,\n",
              "       0.74509805, 0.23137255, 0.72156864, 0.7764706 , 0.        ,\n",
              "       0.        , 0.        , 0.        , 0.08235294, 1.        ,\n",
              "       0.8784314 , 0.99607843, 0.827451  , 0.6431373 , 0.92156863,\n",
              "       0.14117648, 0.7176471 , 1.        , 0.9254902 , 0.21176471,\n",
              "       0.01960784, 0.7490196 , 0.99215686, 1.        , 0.7764706 ,\n",
              "       0.7647059 , 1.        , 1.        , 0.79607844, 0.15294118,\n",
              "       0.91764706, 0.5764706 , 0.        , 0.        , 0.        ,\n",
              "       0.        , 0.05882353, 1.        , 0.99607843, 0.99607843,\n",
              "       0.08627451, 0.40784314, 1.        , 0.972549  , 0.93333334,\n",
              "       0.76862746, 0.9411765 , 0.40784314, 0.87058824, 1.        ,\n",
              "       1.        , 0.78431374, 0.96862745, 0.9882353 , 1.        ,\n",
              "       0.52156866, 0.        , 0.12156863, 1.        , 0.38039216,\n",
              "       0.        , 0.        , 0.        , 0.        , 0.03137255,\n",
              "       1.        , 0.89411765, 1.        , 0.4862745 , 0.89411765,\n",
              "       1.        , 0.7529412 , 0.08235294, 0.22745098, 1.        ,\n",
              "       1.        , 0.75686276, 0.45882353, 0.99607843, 0.9764706 ,\n",
              "       0.56078434, 0.12941177, 0.8980392 , 0.6117647 , 0.        ,\n",
              "       0.3137255 , 1.        , 0.1882353 , 0.        , 0.        ,\n",
              "       0.        , 0.        , 0.00392157, 0.9647059 , 0.5921569 ,\n",
              "       0.9764706 , 1.        , 0.80784315, 0.93333334, 0.67058825,\n",
              "       0.02745098, 0.6901961 , 1.        , 0.8627451 , 0.43529412,\n",
              "       0.9843137 , 0.9372549 , 0.8784314 , 0.        , 0.        ,\n",
              "       0.64705884, 0.8862745 , 0.01176471, 0.43137255, 1.        ,\n",
              "       0.04705882, 0.        , 0.        , 0.        , 0.        ,\n",
              "       0.        , 0.8117647 , 0.7529412 , 0.9529412 , 0.9764706 ,\n",
              "       0.05882353, 0.49411765, 0.9882353 , 0.4745098 , 0.9882353 ,\n",
              "       0.6627451 , 0.99215686, 1.        , 0.64705884, 0.39607844,\n",
              "       1.        , 0.16470589, 0.        , 0.28235295, 1.        ,\n",
              "       0.31764707, 0.5058824 , 0.972549  , 0.        , 0.        ,\n",
              "       0.        , 0.        , 0.        , 0.        , 0.6627451 ,\n",
              "       0.83137256, 0.20784314, 1.        , 0.38431373, 0.07058824,\n",
              "       0.95686275, 0.59607846, 0.14509805, 0.07450981, 0.92156863,\n",
              "       0.78039217, 0.        , 0.07450981, 0.89411765, 0.23137255,\n",
              "       0.        , 0.00392157, 0.6509804 , 0.2784314 , 0.5803922 ,\n",
              "       0.8980392 , 0.        , 0.        , 0.        , 0.        ,\n",
              "       0.        , 0.        , 0.5019608 , 0.9647059 , 0.        ,\n",
              "       0.7607843 , 0.92156863, 0.04705882, 0.5568628 , 0.8       ,\n",
              "       0.        , 0.        , 0.36078432, 0.972549  , 0.06666667,\n",
              "       0.        , 0.        , 0.        , 0.        , 0.        ,\n",
              "       0.        , 0.        , 0.64705884, 0.827451  , 0.        ,\n",
              "       0.        , 0.        , 0.        , 0.        , 0.        ,\n",
              "       0.09803922, 0.32941177, 0.        , 0.11764706, 0.5529412 ,\n",
              "       0.02352941, 0.00392157, 0.02745098, 0.        , 0.        ,\n",
              "       0.        , 0.02745098, 0.        , 0.        , 0.        ,\n",
              "       0.        , 0.        , 0.        , 0.        , 0.        ,\n",
              "       0.8       , 0.75686276, 0.        , 0.        , 0.        ,\n",
              "       0.        , 0.        , 0.        , 0.        , 0.        ,\n",
              "       0.        , 0.        , 0.        , 0.        , 0.        ,\n",
              "       0.        , 0.        , 0.        , 0.        , 0.        ,\n",
              "       0.        , 0.        , 0.        , 0.        , 0.        ,\n",
              "       0.        , 0.        , 0.00392157, 0.7176471 , 0.4       ,\n",
              "       0.        , 0.        , 0.        , 0.        , 0.        ,\n",
              "       0.        , 0.        , 0.        , 0.        , 0.        ,\n",
              "       0.        , 0.        , 0.        , 0.        , 0.        ,\n",
              "       0.        , 0.        , 0.        , 0.        , 0.        ,\n",
              "       0.        , 0.        , 0.        , 0.        , 0.        ,\n",
              "       0.        , 0.        , 0.        , 0.        , 0.        ,\n",
              "       0.        , 0.        , 0.        , 0.        , 0.        ,\n",
              "       0.        , 0.        , 0.        , 0.        , 0.        ,\n",
              "       0.        , 0.        , 0.        , 0.        , 0.        ,\n",
              "       0.        , 0.        , 0.        , 0.        , 0.        ,\n",
              "       0.        , 0.        , 0.        , 0.        , 0.        ,\n",
              "       0.        , 0.        , 0.        , 0.        , 0.        ,\n",
              "       0.        , 0.        , 0.        , 0.        , 0.        ,\n",
              "       0.        , 0.        , 0.        , 0.        , 0.        ,\n",
              "       0.        , 0.        , 0.        , 0.        , 0.        ,\n",
              "       0.        , 0.        , 0.        , 0.        , 0.        ,\n",
              "       0.        , 0.        , 0.        , 0.        , 0.        ,\n",
              "       0.        , 0.        , 0.        , 0.        , 0.        ,\n",
              "       0.        , 0.        , 0.        , 0.        , 0.        ,\n",
              "       0.        , 0.        , 0.        , 0.        , 0.        ,\n",
              "       0.        , 0.        , 0.        , 0.        , 0.        ,\n",
              "       0.        , 0.        , 0.        , 0.        , 0.        ,\n",
              "       0.        , 0.        , 0.        , 0.        , 0.        ,\n",
              "       0.        , 0.        , 0.        , 0.        , 0.        ,\n",
              "       0.        , 0.        , 0.        , 0.        , 0.        ,\n",
              "       0.        , 0.        , 0.        , 0.        , 0.        ,\n",
              "       0.        , 0.        , 0.        , 0.        , 0.        ,\n",
              "       0.        , 0.        , 0.        , 0.        , 0.        ,\n",
              "       0.        , 0.        , 0.        , 0.        ], dtype=float32)"
            ]
          },
          "metadata": {
            "tags": []
          },
          "execution_count": 7
        }
      ]
    },
    {
      "cell_type": "markdown",
      "metadata": {
        "id": "jb70CbLVyK65"
      },
      "source": [
        "## Build Your Baseline Model\n",
        "Some Hints:\n",
        "\n",
        "\n",
        "*  Model should have 784 input values (like mnist)\n",
        "*  Use `sparse_categorical_crossentropy` as your loss function.\n",
        "* You need 10 neurons in your last layer for output\n",
        "* You can add as many hidden layers with as many neurons in them as you like. \n",
        "* Limit your model epochs to 30 each time you fit.\n",
        "* You can use the `validation_split` command to automatically create a training / validation dataset.  Specify a percentage such as .2 in your fit statement. \n",
        "\n"
      ]
    },
    {
      "cell_type": "code",
      "metadata": {
        "id": "zHWblzsMyNkU"
      },
      "source": [
        "import tensorflow as tf\n",
        "from tensorflow.keras.models import Sequential\n",
        "from tensorflow.keras.layers import Dense, Flatten"
      ],
      "execution_count": 27,
      "outputs": []
    },
    {
      "cell_type": "code",
      "metadata": {
        "id": "tZjUVDIu4FF5",
        "outputId": "b4c70764-f59c-4a0a-82f1-457390cde077",
        "colab": {
          "base_uri": "https://localhost:8080/"
        }
      },
      "source": [
        "# Instantiate the model\n",
        "model = Sequential([\n",
        "                    Flatten(input_shape=(28, 28)),\n",
        "                    Dense(64, activation='relu'),\n",
        "                    Dense(32, activation='relu'),\n",
        "                    Dense(10, activation='softmax')\n",
        "])\n",
        "\n",
        "model.compile(loss='sparse_categorical_crossentropy',\n",
        "              optimizer='sgd',\n",
        "              metrics=['accuracy'])\n",
        "\n",
        "model.summary()"
      ],
      "execution_count": 28,
      "outputs": [
        {
          "output_type": "stream",
          "text": [
            "Model: \"sequential_2\"\n",
            "_________________________________________________________________\n",
            "Layer (type)                 Output Shape              Param #   \n",
            "=================================================================\n",
            "flatten_1 (Flatten)          (None, 784)               0         \n",
            "_________________________________________________________________\n",
            "dense_3 (Dense)              (None, 64)                50240     \n",
            "_________________________________________________________________\n",
            "dense_4 (Dense)              (None, 32)                2080      \n",
            "_________________________________________________________________\n",
            "dense_5 (Dense)              (None, 10)                330       \n",
            "=================================================================\n",
            "Total params: 52,650\n",
            "Trainable params: 52,650\n",
            "Non-trainable params: 0\n",
            "_________________________________________________________________\n"
          ],
          "name": "stdout"
        }
      ]
    },
    {
      "cell_type": "code",
      "metadata": {
        "id": "TjEdTwjwAfvN",
        "outputId": "457c85f2-8c42-4990-f79d-edce190ed2e2",
        "colab": {
          "base_uri": "https://localhost:8080/"
        }
      },
      "source": [
        "baseline = model.fit(X, y,\n",
        "                     epochs=30,\n",
        "                     validation_split=0.2,\n",
        "                     validation_data=(X, y))"
      ],
      "execution_count": 29,
      "outputs": [
        {
          "output_type": "stream",
          "text": [
            "Epoch 1/30\n",
            "WARNING:tensorflow:Model was constructed with shape (None, 28, 28) for input Tensor(\"flatten_1_input:0\", shape=(None, 28, 28), dtype=float32), but it was called on an input with incompatible shape (32, 784).\n",
            "WARNING:tensorflow:Model was constructed with shape (None, 28, 28) for input Tensor(\"flatten_1_input:0\", shape=(None, 28, 28), dtype=float32), but it was called on an input with incompatible shape (32, 784).\n",
            "2495/2500 [============================>.] - ETA: 0s - loss: 9.7991 - accuracy: 0.0997WARNING:tensorflow:Model was constructed with shape (None, 28, 28) for input Tensor(\"flatten_1_input:0\", shape=(None, 28, 28), dtype=float32), but it was called on an input with incompatible shape (32, 784).\n",
            "2500/2500 [==============================] - 5s 2ms/step - loss: 9.7841 - accuracy: 0.0998 - val_loss: 2.3081 - val_accuracy: 0.0990\n",
            "Epoch 2/30\n",
            "2500/2500 [==============================] - 5s 2ms/step - loss: 2.3122 - accuracy: 0.0985 - val_loss: 2.3039 - val_accuracy: 0.0984\n",
            "Epoch 3/30\n",
            "2500/2500 [==============================] - 5s 2ms/step - loss: 2.3034 - accuracy: 0.0984 - val_loss: 2.3041 - val_accuracy: 0.0984\n",
            "Epoch 4/30\n",
            "2500/2500 [==============================] - 5s 2ms/step - loss: 2.3030 - accuracy: 0.0992 - val_loss: 2.3041 - val_accuracy: 0.0983\n",
            "Epoch 5/30\n",
            "2500/2500 [==============================] - 5s 2ms/step - loss: 2.3028 - accuracy: 0.1006 - val_loss: 2.3041 - val_accuracy: 0.0970\n",
            "Epoch 6/30\n",
            "2500/2500 [==============================] - 5s 2ms/step - loss: 2.3120 - accuracy: 0.1001 - val_loss: 2.3040 - val_accuracy: 0.0990\n",
            "Epoch 7/30\n",
            "2500/2500 [==============================] - 5s 2ms/step - loss: 2.3025 - accuracy: 0.0992 - val_loss: 2.3040 - val_accuracy: 0.0990\n",
            "Epoch 8/30\n",
            "2500/2500 [==============================] - 5s 2ms/step - loss: 2.3025 - accuracy: 0.0985 - val_loss: 2.3040 - val_accuracy: 0.0990\n",
            "Epoch 9/30\n",
            "2500/2500 [==============================] - 5s 2ms/step - loss: 2.3025 - accuracy: 0.0996 - val_loss: 2.3042 - val_accuracy: 0.0983\n",
            "Epoch 10/30\n",
            "2500/2500 [==============================] - 5s 2ms/step - loss: 2.3025 - accuracy: 0.0988 - val_loss: 2.3041 - val_accuracy: 0.0970\n",
            "Epoch 11/30\n",
            "2500/2500 [==============================] - 5s 2ms/step - loss: 2.3025 - accuracy: 0.1004 - val_loss: 2.3041 - val_accuracy: 0.0984\n",
            "Epoch 12/30\n",
            "2500/2500 [==============================] - 5s 2ms/step - loss: 2.3025 - accuracy: 0.1006 - val_loss: 2.3040 - val_accuracy: 0.0979\n",
            "Epoch 13/30\n",
            "2500/2500 [==============================] - 5s 2ms/step - loss: 2.3025 - accuracy: 0.1005 - val_loss: 2.3042 - val_accuracy: 0.0970\n",
            "Epoch 14/30\n",
            "2500/2500 [==============================] - 5s 2ms/step - loss: 2.3025 - accuracy: 0.0996 - val_loss: 2.3042 - val_accuracy: 0.0979\n",
            "Epoch 15/30\n",
            "2500/2500 [==============================] - 5s 2ms/step - loss: 2.3025 - accuracy: 0.0995 - val_loss: 2.3040 - val_accuracy: 0.0970\n",
            "Epoch 16/30\n",
            "2500/2500 [==============================] - 5s 2ms/step - loss: 2.3025 - accuracy: 0.0997 - val_loss: 2.3040 - val_accuracy: 0.0970\n",
            "Epoch 17/30\n",
            "2500/2500 [==============================] - 5s 2ms/step - loss: 2.3025 - accuracy: 0.0972 - val_loss: 2.3040 - val_accuracy: 0.0970\n",
            "Epoch 18/30\n",
            "2500/2500 [==============================] - 5s 2ms/step - loss: 2.3025 - accuracy: 0.1008 - val_loss: 2.3041 - val_accuracy: 0.0999\n",
            "Epoch 19/30\n",
            "2500/2500 [==============================] - 5s 2ms/step - loss: 2.3025 - accuracy: 0.0997 - val_loss: 2.3040 - val_accuracy: 0.0984\n",
            "Epoch 20/30\n",
            "2500/2500 [==============================] - 5s 2ms/step - loss: 2.3025 - accuracy: 0.0981 - val_loss: 2.3039 - val_accuracy: 0.1035\n",
            "Epoch 21/30\n",
            "2500/2500 [==============================] - 5s 2ms/step - loss: 2.3025 - accuracy: 0.0987 - val_loss: 2.3041 - val_accuracy: 0.0984\n",
            "Epoch 22/30\n",
            "2500/2500 [==============================] - 5s 2ms/step - loss: 2.3025 - accuracy: 0.0989 - val_loss: 2.3041 - val_accuracy: 0.0984\n",
            "Epoch 23/30\n",
            "2500/2500 [==============================] - 5s 2ms/step - loss: 2.3025 - accuracy: 0.0990 - val_loss: 2.3040 - val_accuracy: 0.1021\n",
            "Epoch 24/30\n",
            "2500/2500 [==============================] - 5s 2ms/step - loss: 2.3025 - accuracy: 0.0983 - val_loss: 2.3040 - val_accuracy: 0.0970\n",
            "Epoch 25/30\n",
            "2500/2500 [==============================] - 5s 2ms/step - loss: 2.3025 - accuracy: 0.0993 - val_loss: 2.3041 - val_accuracy: 0.0984\n",
            "Epoch 26/30\n",
            "2500/2500 [==============================] - 5s 2ms/step - loss: 2.3025 - accuracy: 0.1008 - val_loss: 2.3040 - val_accuracy: 0.0984\n",
            "Epoch 27/30\n",
            "2500/2500 [==============================] - 5s 2ms/step - loss: 2.3025 - accuracy: 0.0989 - val_loss: 2.3041 - val_accuracy: 0.0970\n",
            "Epoch 28/30\n",
            "2500/2500 [==============================] - 5s 2ms/step - loss: 2.3025 - accuracy: 0.0996 - val_loss: 2.3039 - val_accuracy: 0.1019\n",
            "Epoch 29/30\n",
            "2500/2500 [==============================] - 5s 2ms/step - loss: 2.3025 - accuracy: 0.0976 - val_loss: 2.3040 - val_accuracy: 0.0984\n",
            "Epoch 30/30\n",
            "2500/2500 [==============================] - 5s 2ms/step - loss: 2.3025 - accuracy: 0.0998 - val_loss: 2.3040 - val_accuracy: 0.0990\n"
          ],
          "name": "stdout"
        }
      ]
    },
    {
      "cell_type": "markdown",
      "metadata": {
        "id": "b0QJURWh-9uv"
      },
      "source": [
        "### Visualize the results\n",
        "\n",
        "Create charts for both loss and accuracy by epoch. Use line graphs for both charts. Analyze the results. \n",
        "\n",
        "At what point should we have stopped training the model and why? "
      ]
    },
    {
      "cell_type": "code",
      "metadata": {
        "id": "KONJtU5wqlXf",
        "outputId": "c16ebe73-bc52-48dc-f950-e315f4dc6f61",
        "colab": {
          "base_uri": "https://localhost:8080/"
        }
      },
      "source": [
        "baseline.history"
      ],
      "execution_count": 30,
      "outputs": [
        {
          "output_type": "execute_result",
          "data": {
            "text/plain": [
              "{'accuracy': [0.09976249933242798,\n",
              "  0.0984874963760376,\n",
              "  0.09838750213384628,\n",
              "  0.09917499870061874,\n",
              "  0.10061249881982803,\n",
              "  0.10008750110864639,\n",
              "  0.09923750162124634,\n",
              "  0.09849999845027924,\n",
              "  0.09956250339746475,\n",
              "  0.09884999692440033,\n",
              "  0.10043749958276749,\n",
              "  0.10063750296831131,\n",
              "  0.10045000165700912,\n",
              "  0.09960000216960907,\n",
              "  0.09947499632835388,\n",
              "  0.09969999641180038,\n",
              "  0.09721250087022781,\n",
              "  0.10077500343322754,\n",
              "  0.09965000301599503,\n",
              "  0.09811250120401382,\n",
              "  0.09866250306367874,\n",
              "  0.09889999777078629,\n",
              "  0.09898749738931656,\n",
              "  0.09827499836683273,\n",
              "  0.09934999793767929,\n",
              "  0.10077500343322754,\n",
              "  0.09886249899864197,\n",
              "  0.09963750094175339,\n",
              "  0.09757500141859055,\n",
              "  0.09981250017881393],\n",
              " 'loss': [9.784072875976562,\n",
              "  2.3121800422668457,\n",
              "  2.3034160137176514,\n",
              "  2.3029844760894775,\n",
              "  2.302762508392334,\n",
              "  2.3119895458221436,\n",
              "  2.302495002746582,\n",
              "  2.3025221824645996,\n",
              "  2.3025076389312744,\n",
              "  2.302518129348755,\n",
              "  2.3025050163269043,\n",
              "  2.302499294281006,\n",
              "  2.3025004863739014,\n",
              "  2.3025059700012207,\n",
              "  2.3025107383728027,\n",
              "  2.302506923675537,\n",
              "  2.3025074005126953,\n",
              "  2.3024864196777344,\n",
              "  2.302520990371704,\n",
              "  2.302476644515991,\n",
              "  2.302502155303955,\n",
              "  2.30251145362854,\n",
              "  2.302502393722534,\n",
              "  2.302511692047119,\n",
              "  2.302504301071167,\n",
              "  2.3025062084198,\n",
              "  2.3024981021881104,\n",
              "  2.3025083541870117,\n",
              "  2.302520275115967,\n",
              "  2.302485942840576],\n",
              " 'val_accuracy': [0.0989999994635582,\n",
              "  0.09839999675750732,\n",
              "  0.09839999675750732,\n",
              "  0.09830000251531601,\n",
              "  0.09700000286102295,\n",
              "  0.0989999994635582,\n",
              "  0.0989999994635582,\n",
              "  0.0989999994635582,\n",
              "  0.09830000251531601,\n",
              "  0.09700000286102295,\n",
              "  0.09839999675750732,\n",
              "  0.097850002348423,\n",
              "  0.09700000286102295,\n",
              "  0.097850002348423,\n",
              "  0.09700000286102295,\n",
              "  0.09700000286102295,\n",
              "  0.09700000286102295,\n",
              "  0.09989999979734421,\n",
              "  0.09839999675750732,\n",
              "  0.10350000113248825,\n",
              "  0.09839999675750732,\n",
              "  0.09839999675750732,\n",
              "  0.10209999978542328,\n",
              "  0.09700000286102295,\n",
              "  0.09839999675750732,\n",
              "  0.09839999675750732,\n",
              "  0.09700000286102295,\n",
              "  0.10189999639987946,\n",
              "  0.09839999675750732,\n",
              "  0.0989999994635582],\n",
              " 'val_loss': [2.3080508708953857,\n",
              "  2.303922176361084,\n",
              "  2.3041024208068848,\n",
              "  2.3040640354156494,\n",
              "  2.3040645122528076,\n",
              "  2.3039989471435547,\n",
              "  2.3040387630462646,\n",
              "  2.303988218307495,\n",
              "  2.304152727127075,\n",
              "  2.304126262664795,\n",
              "  2.3040895462036133,\n",
              "  2.303999423980713,\n",
              "  2.304185628890991,\n",
              "  2.30420184135437,\n",
              "  2.3040432929992676,\n",
              "  2.3040270805358887,\n",
              "  2.3040475845336914,\n",
              "  2.3040618896484375,\n",
              "  2.3039896488189697,\n",
              "  2.3038628101348877,\n",
              "  2.304070472717285,\n",
              "  2.304077386856079,\n",
              "  2.303999900817871,\n",
              "  2.304018020629883,\n",
              "  2.30407452583313,\n",
              "  2.3040080070495605,\n",
              "  2.3040876388549805,\n",
              "  2.303907871246338,\n",
              "  2.304007053375244,\n",
              "  2.303966522216797]}"
            ]
          },
          "metadata": {
            "tags": []
          },
          "execution_count": 30
        }
      ]
    },
    {
      "cell_type": "code",
      "metadata": {
        "id": "ijAlzfYKAFaY",
        "outputId": "5f9b2205-cea1-416c-c4ee-935fecbea31e",
        "colab": {
          "base_uri": "https://localhost:8080/",
          "height": 279
        }
      },
      "source": [
        "import seaborn as sns\n",
        "import pandas as pd\n",
        "\n",
        "df = pd.DataFrame.from_records(baseline.history)\n",
        "df['epoch'] = [i for i in range(df.shape[0])]\n",
        "\n",
        "ax = sns.lineplot(x='epoch', y='val_loss', data=df)\n",
        "ax = sns.lineplot(x='epoch', y='loss', data=df);"
      ],
      "execution_count": 31,
      "outputs": [
        {
          "output_type": "display_data",
          "data": {
            "image/png": "[encoded data removed]",
            "text/plain": [
              "<Figure size 432x288 with 1 Axes>"
            ]
          },
          "metadata": {
            "tags": [],
            "needs_background": "light"
          }
        }
      ]
    },
    {
      "cell_type": "code",
      "metadata": {
        "id": "-FjPCymyJBvW"
      },
      "source": [
        "%load_ext tensorboard\n",
        "\n",
        "import os\n",
        "import datetime\n",
        "import tensorflow as tf\n",
        "\n",
        "logdir = os.path.join(\"logs\", datetime.datetime.now().strftime(\"%Y%m%d-%H%M%S\"))\n",
        "tensorboard_callback = tf.keras.callbacks.TensorBoard(logdir, histogram_freq=1)"
      ],
      "execution_count": null,
      "outputs": []
    },
    {
      "cell_type": "markdown",
      "metadata": {
        "id": "MAhBrcE4yOZe"
      },
      "source": [
        "## Change Optimizers\n",
        "Try using the keras `adam` optimizer instead of `sgd` in your model. Visualize the difference in validation loss between the models with different optimizers. "
      ]
    },
    {
      "cell_type": "code",
      "metadata": {
        "id": "jIW_spOZ0cxy",
        "outputId": "4f31009f-df50-4634-f3ef-67c84532fcb5",
        "colab": {
          "base_uri": "https://localhost:8080/"
        }
      },
      "source": [
        "from tensorflow.keras.optimizers import Adam\n",
        "\n",
        "adam = Adam()\n",
        "\n",
        "# Instantiate the model\n",
        "model = Sequential([\n",
        "                    Flatten(input_shape=(28, 28)),\n",
        "                    Dense(128, activation='sigmoid'),\n",
        "                    Dense(64, activation='sigmoid'),\n",
        "                    Dense(32, activation='sigmoid'),\n",
        "                    Dense(10, activation='softmax')\n",
        "])\n",
        "\n",
        "model.compile(loss='sparse_categorical_crossentropy',\n",
        "              optimizer=adam,\n",
        "              metrics=['accuracy'])\n",
        "\n",
        "model.summary()"
      ],
      "execution_count": 38,
      "outputs": [
        {
          "output_type": "stream",
          "text": [
            "Model: \"sequential_3\"\n",
            "_________________________________________________________________\n",
            "Layer (type)                 Output Shape              Param #   \n",
            "=================================================================\n",
            "flatten_2 (Flatten)          (None, 784)               0         \n",
            "_________________________________________________________________\n",
            "dense_6 (Dense)              (None, 128)               100480    \n",
            "_________________________________________________________________\n",
            "dense_7 (Dense)              (None, 64)                8256      \n",
            "_________________________________________________________________\n",
            "dense_8 (Dense)              (None, 32)                2080      \n",
            "_________________________________________________________________\n",
            "dense_9 (Dense)              (None, 10)                330       \n",
            "=================================================================\n",
            "Total params: 111,146\n",
            "Trainable params: 111,146\n",
            "Non-trainable params: 0\n",
            "_________________________________________________________________\n"
          ],
          "name": "stdout"
        }
      ]
    },
    {
      "cell_type": "code",
      "metadata": {
        "id": "lg8Aa_vvAcjZ",
        "outputId": "6ebe7c5c-8924-46ce-c2d2-1c4ba4e4be16",
        "colab": {
          "base_uri": "https://localhost:8080/"
        }
      },
      "source": [
        "baseline = model.fit(X, y, \n",
        "                     epochs=30,\n",
        "                     validation_split=0.2,\n",
        "                     validation_data=(X, y))"
      ],
      "execution_count": 39,
      "outputs": [
        {
          "output_type": "stream",
          "text": [
            "Epoch 1/30\n",
            "WARNING:tensorflow:Model was constructed with shape (None, 28, 28) for input Tensor(\"flatten_2_input:0\", shape=(None, 28, 28), dtype=float32), but it was called on an input with incompatible shape (32, 784).\n",
            "WARNING:tensorflow:Model was constructed with shape (None, 28, 28) for input Tensor(\"flatten_2_input:0\", shape=(None, 28, 28), dtype=float32), but it was called on an input with incompatible shape (32, 784).\n",
            "2497/2500 [============================>.] - ETA: 0s - loss: 0.9550 - accuracy: 0.7058WARNING:tensorflow:Model was constructed with shape (None, 28, 28) for input Tensor(\"flatten_2_input:0\", shape=(None, 28, 28), dtype=float32), but it was called on an input with incompatible shape (32, 784).\n",
            "2500/2500 [==============================] - 5s 2ms/step - loss: 0.9545 - accuracy: 0.7060 - val_loss: 8.1625 - val_accuracy: 0.0000e+00\n",
            "Epoch 2/30\n",
            "2500/2500 [==============================] - 6s 2ms/step - loss: 0.6734 - accuracy: 0.7883 - val_loss: 9.6229 - val_accuracy: 0.0000e+00\n",
            "Epoch 3/30\n",
            "2500/2500 [==============================] - 5s 2ms/step - loss: 0.6195 - accuracy: 0.8037 - val_loss: 10.6969 - val_accuracy: 0.0000e+00\n",
            "Epoch 4/30\n",
            "2500/2500 [==============================] - 5s 2ms/step - loss: 0.5958 - accuracy: 0.8097 - val_loss: 11.9740 - val_accuracy: 0.0000e+00\n",
            "Epoch 5/30\n",
            "2500/2500 [==============================] - 5s 2ms/step - loss: 0.5752 - accuracy: 0.8167 - val_loss: 13.0910 - val_accuracy: 0.0000e+00\n",
            "Epoch 6/30\n",
            "2500/2500 [==============================] - 5s 2ms/step - loss: 0.5540 - accuracy: 0.8242 - val_loss: 14.5205 - val_accuracy: 0.0000e+00\n",
            "Epoch 7/30\n",
            "2500/2500 [==============================] - 5s 2ms/step - loss: 0.5483 - accuracy: 0.8248 - val_loss: 15.6116 - val_accuracy: 0.0000e+00\n",
            "Epoch 8/30\n",
            "2500/2500 [==============================] - 5s 2ms/step - loss: 0.5302 - accuracy: 0.8294 - val_loss: 16.8888 - val_accuracy: 0.0000e+00\n",
            "Epoch 9/30\n",
            "2500/2500 [==============================] - 6s 2ms/step - loss: 0.5133 - accuracy: 0.8355 - val_loss: 17.7166 - val_accuracy: 0.0000e+00\n",
            "Epoch 10/30\n",
            "2500/2500 [==============================] - 6s 2ms/step - loss: 0.5101 - accuracy: 0.8375 - val_loss: 18.5988 - val_accuracy: 0.0000e+00\n",
            "Epoch 11/30\n",
            "2500/2500 [==============================] - 5s 2ms/step - loss: 0.5029 - accuracy: 0.8395 - val_loss: 19.4832 - val_accuracy: 0.0000e+00\n",
            "Epoch 12/30\n",
            "2500/2500 [==============================] - 5s 2ms/step - loss: 0.4865 - accuracy: 0.8449 - val_loss: 19.9236 - val_accuracy: 0.0000e+00\n",
            "Epoch 13/30\n",
            "2500/2500 [==============================] - 5s 2ms/step - loss: 0.4801 - accuracy: 0.8474 - val_loss: 20.0091 - val_accuracy: 0.0000e+00\n",
            "Epoch 14/30\n",
            "2500/2500 [==============================] - 5s 2ms/step - loss: 0.4775 - accuracy: 0.8485 - val_loss: 20.2992 - val_accuracy: 0.0000e+00\n",
            "Epoch 15/30\n",
            "2500/2500 [==============================] - 5s 2ms/step - loss: 0.4750 - accuracy: 0.8479 - val_loss: 20.2620 - val_accuracy: 0.0000e+00\n",
            "Epoch 16/30\n",
            "2500/2500 [==============================] - 6s 2ms/step - loss: 0.4760 - accuracy: 0.8487 - val_loss: 20.0900 - val_accuracy: 0.0000e+00\n",
            "Epoch 17/30\n",
            "2500/2500 [==============================] - 5s 2ms/step - loss: 0.4605 - accuracy: 0.8546 - val_loss: 20.6299 - val_accuracy: 0.0000e+00\n",
            "Epoch 18/30\n",
            "2500/2500 [==============================] - 5s 2ms/step - loss: 0.4603 - accuracy: 0.8542 - val_loss: 20.6148 - val_accuracy: 0.0000e+00\n",
            "Epoch 19/30\n",
            "2500/2500 [==============================] - 6s 2ms/step - loss: 0.4507 - accuracy: 0.8576 - val_loss: 21.0049 - val_accuracy: 0.0000e+00\n",
            "Epoch 20/30\n",
            "2500/2500 [==============================] - 5s 2ms/step - loss: 0.4489 - accuracy: 0.8578 - val_loss: 20.9260 - val_accuracy: 0.0000e+00\n",
            "Epoch 21/30\n",
            "2500/2500 [==============================] - 5s 2ms/step - loss: 0.4460 - accuracy: 0.8585 - val_loss: 21.1980 - val_accuracy: 0.0000e+00\n",
            "Epoch 22/30\n",
            "2500/2500 [==============================] - 5s 2ms/step - loss: 0.4380 - accuracy: 0.8614 - val_loss: 20.8554 - val_accuracy: 0.0000e+00\n",
            "Epoch 23/30\n",
            "2500/2500 [==============================] - 5s 2ms/step - loss: 0.4362 - accuracy: 0.8623 - val_loss: 21.0280 - val_accuracy: 0.0000e+00\n",
            "Epoch 24/30\n",
            "2500/2500 [==============================] - 5s 2ms/step - loss: 0.4344 - accuracy: 0.8624 - val_loss: 21.3029 - val_accuracy: 0.0000e+00\n",
            "Epoch 25/30\n",
            "2500/2500 [==============================] - 5s 2ms/step - loss: 0.4378 - accuracy: 0.8603 - val_loss: 21.1038 - val_accuracy: 0.0000e+00\n",
            "Epoch 26/30\n",
            "2500/2500 [==============================] - 5s 2ms/step - loss: 0.4360 - accuracy: 0.8618 - val_loss: 21.1604 - val_accuracy: 0.0000e+00\n",
            "Epoch 27/30\n",
            "2500/2500 [==============================] - 5s 2ms/step - loss: 0.4350 - accuracy: 0.8620 - val_loss: 21.6621 - val_accuracy: 0.0000e+00\n",
            "Epoch 28/30\n",
            "2500/2500 [==============================] - 5s 2ms/step - loss: 0.4341 - accuracy: 0.8628 - val_loss: 21.6069 - val_accuracy: 0.0000e+00\n",
            "Epoch 29/30\n",
            "2500/2500 [==============================] - 5s 2ms/step - loss: 0.4310 - accuracy: 0.8641 - val_loss: 21.7513 - val_accuracy: 0.0000e+00\n",
            "Epoch 30/30\n",
            "2500/2500 [==============================] - 5s 2ms/step - loss: 0.4255 - accuracy: 0.8644 - val_loss: 21.6914 - val_accuracy: 0.0000e+00\n"
          ],
          "name": "stdout"
        }
      ]
    },
    {
      "cell_type": "code",
      "metadata": {
        "id": "fLpSFgwkbDNh",
        "outputId": "9463db99-da5e-40ea-93fb-1e4fc2404b47",
        "colab": {
          "base_uri": "https://localhost:8080/",
          "height": 279
        }
      },
      "source": [
        "df = pd.DataFrame.from_records(baseline.history)\n",
        "df['epoch'] = [i for i in range(df.shape[0])]\n",
        "\n",
        "ax = sns.lineplot(x='epoch', y='val_loss', data=df)\n",
        "ax = sns.lineplot(x='epoch', y='loss', data=df);"
      ],
      "execution_count": 40,
      "outputs": [
        {
          "output_type": "display_data",
          "data": {
            "image/png": "[encoded data removed]",
            "text/plain": [
              "<Figure size 432x288 with 1 Axes>"
            ]
          },
          "metadata": {
            "tags": [],
            "needs_background": "light"
          }
        }
      ]
    },
    {
      "cell_type": "markdown",
      "metadata": {
        "id": "EJrbh3qryi4w"
      },
      "source": [
        "### Additional Written Tasks:\n",
        "In this section, you will need to search for resources: \n",
        "1. Investigate the various [loss functions](https://www.tensorflow.org/api_docs/python/tf/keras/losses). Which is best suited for the task at hand (predicting 1 / 0) and why? \n",
        "2. What is the difference between a loss function and a metric? Why might we need both in Keras? \n",
        "3. Investigate the various [optimizers](https://www.tensorflow.org/api_docs/python/tf/keras/optimizers). Stochastic Gradient Descent (`sgd`) is not the learning algorithm dejour anyone. Why is that? What do newer optimizers such as `adam` have to offer? "
      ]
    },
    {
      "cell_type": "markdown",
      "metadata": {
        "id": "Gzs4fd-RynDd"
      },
      "source": [
        "## Stretch Goals: \n",
        "\n",
        "- Research convolutional neural networks and try including convolution layers in your network.\n",
        "- Pick two classes and make QuickDraw a binary classification problem, how does your model architecture change?\n",
        "- Implement Cross Validation model evaluation on your Quickdraw implementation \n",
        "\n",
        "Watch some more videos on Gradient Descent:\n",
        "- [Gradient Descent, Step-by-Step](https://www.youtube.com/watch?v=sDv4f4s2SB8)  by StatQuest w/ Josh Starmer. This will help you understand the gradient descent based optimization that happens underneath the hood of neural networks. It uses a non-neural network example, which I believe is a gentler introduction. You will hear me refer to this technique as \"vanilla\" gradient descent. \n",
        "- [Stochastic Gradient Descent, Clearly Explained!!!](https://www.youtube.com/watch?v=vMh0zPT0tLI) by StatQuest w/ Josh Starmer. This builds on the techniques in the previous video.  This technique is the one that is actually implemented inside modern 'nets. \n",
        "- [Siraj Raval the evolution of gradient descent](https://www.youtube.com/watch?v=nhqo0u1a6fw)"
      ]
    }
  ]
}
