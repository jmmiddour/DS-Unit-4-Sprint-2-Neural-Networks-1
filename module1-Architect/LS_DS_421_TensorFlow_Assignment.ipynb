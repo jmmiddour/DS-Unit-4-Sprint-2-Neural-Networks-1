{
  "nbformat": 4,
  "nbformat_minor": 0,
  "metadata": {
    "colab": {
      "name": "LS_DS_432_TensorFlow_Assignment",
      "provenance": [],
      "collapsed_sections": []
    },
    "kernelspec": {
      "name": "python3",
      "display_name": "Python 3"
    },
    "accelerator": "GPU"
  },
  "cells": [
    {
      "cell_type": "markdown",
      "metadata": {
        "id": "ObyHCH8HvHSf"
      },
      "source": [
        "<img align=\"left\" src=\"https://lever-client-logos.s3.amazonaws.com/864372b1-534c-480e-acd5-9711f850815c-1524247202159.png\" width=200>\n",
        "<br></br>\n",
        "<br></br>\n",
        "\n",
        "# *Data Science Unit 4 Sprint 2 Assignment 1*\n",
        "\n",
        "Use TensorFlow Keras & a sample of the [Quickdraw dataset](https://github.com/googlecreativelab/quickdraw-dataset) to build a sketch classification model. The dataset has been sampled to only 10 classes and 10000 observations per class. Please build a baseline classification model then run a few experiments with different optimizers and learning rates. \n",
        "\n",
        "*Don't forgot to switch to GPU on Colab!*"
      ]
    },
    {
      "cell_type": "markdown",
      "metadata": {
        "id": "s-Tc3ovEyQ9b"
      },
      "source": [
        "## Load Your Data"
      ]
    },
    {
      "cell_type": "code",
      "metadata": {
        "id": "CkU0pAYCvU8o",
        "outputId": "13b22a20-6511-4db9-d308-f23c1caeea7f",
        "colab": {
          "base_uri": "https://localhost:8080/"
        }
      },
      "source": [
        "import io\n",
        "import requests\n",
        "import numpy as np\n",
        "import tensorflow as tf \n",
        "\n",
        "response = requests.get('https://github.com/lukiepookieofficial/DS-Unit-4-Sprint-2-Neural-Networks/blob/main/quickdraw10.npz?raw=true')\n",
        "response.raise_for_status()\n",
        "data = np.load(io.BytesIO(response.content))\n",
        "\n",
        "X = data['arr_0']\n",
        "y = data['arr_1']\n",
        "\n",
        "print(X.shape)\n",
        "print(y.shape)"
      ],
      "execution_count": 1,
      "outputs": [
        {
          "output_type": "stream",
          "text": [
            "(100000, 784)\n",
            "(100000,)\n"
          ],
          "name": "stdout"
        }
      ]
    },
    {
      "cell_type": "code",
      "metadata": {
        "id": "c8qsDqdqvHDd"
      },
      "source": [
        "class_names = ['apple',\n",
        " 'anvil',\n",
        " 'airplane',\n",
        " 'banana',\n",
        " 'The Eiffel Tower',\n",
        " 'The Mona Lisa',\n",
        " 'The Great Wall of China',\n",
        " 'alarm clock',\n",
        " 'ant',\n",
        " 'asparagus']"
      ],
      "execution_count": 2,
      "outputs": []
    },
    {
      "cell_type": "code",
      "metadata": {
        "id": "Owbm1EbxvA5A",
        "outputId": "b90f1ffe-d3db-4aac-b173-1e690d164478",
        "colab": {
          "base_uri": "https://localhost:8080/",
          "height": 289
        }
      },
      "source": [
        "import matplotlib.pyplot as plt\n",
        "plt.figure(figsize=(10,5))\n",
        "start = 0\n",
        "\n",
        "for num, name in enumerate(class_names):\n",
        "    plt.subplot(2,5, num+1)\n",
        "    plt.xticks([])\n",
        "    plt.yticks([])\n",
        "    plt.grid(False)\n",
        "    plt.imshow(X[start].reshape(28,28), cmap=plt.cm.binary)\n",
        "    plt.xlabel(name)\n",
        "    start += 10000\n",
        "plt.show()"
      ],
      "execution_count": 3,
      "outputs": [
        {
          "output_type": "display_data",
          "data": {
            "image/png": "[encoded data removed]",
            "text/plain": [
              "<Figure size 720x360 with 10 Axes>"
            ]
          },
          "metadata": {
            "tags": []
          }
        }
      ]
    },
    {
      "cell_type": "code",
      "metadata": {
        "id": "c97_M1WNvTNY"
      },
      "source": [
        "# Need this line to randomly shuffle both the X & y at the same time.\n",
        "\n",
        "from sklearn.utils import shuffle\n",
        "X, y = shuffle(X, y)"
      ],
      "execution_count": 4,
      "outputs": []
    },
    {
      "cell_type": "code",
      "metadata": {
        "id": "NRMUuSdl3NBQ",
        "outputId": "57119fd7-a5b1-4848-bfa7-e05c229d27dc",
        "colab": {
          "base_uri": "https://localhost:8080/"
        }
      },
      "source": [
        "print(X.shape, y.shape)"
      ],
      "execution_count": 5,
      "outputs": [
        {
          "output_type": "stream",
          "text": [
            "(100000, 784) (100000,)\n"
          ],
          "name": "stdout"
        }
      ]
    },
    {
      "cell_type": "code",
      "metadata": {
        "id": "ZvYXA8Qz32Q9",
        "outputId": "f5b36856-99be-4724-efb8-0ab75561b323",
        "colab": {
          "base_uri": "https://localhost:8080/"
        }
      },
      "source": [
        "X[3]"
      ],
      "execution_count": 6,
      "outputs": [
        {
          "output_type": "execute_result",
          "data": {
            "text/plain": [
              "array([  0,   0,   0,   0,   0,   0,   0,   0,   0,   0,   0,   0,   0,\n",
              "         0,   0,   0,   0,   0,   0,   0,   0,   0,   0,   0,   0,   0,\n",
              "         0,   0,   0,   0,   0,   0,   0,   0,   0,   0,   0,   0,   0,\n",
              "         0,   0,   0,   0,   0,   0,   7,  27,  48,  71,  92, 112,  55,\n",
              "         0,   0,   0,   0,   0,   0,   0, 179, 134,   0,   0,   0,   0,\n",
              "         0,   0,   3,  37,  84, 129, 174, 220, 253, 255, 255, 255, 255,\n",
              "       255, 181,   0,   0,   0,   0,   0,   0,   0, 221, 154,   0,  20,\n",
              "        66, 111, 156, 203, 245, 255, 255, 249, 208, 163, 119,  94,  74,\n",
              "        53,  30, 197, 183,   0,   0,   0,   0,   0,   0,   0, 236, 230,\n",
              "       230, 255, 255, 255, 225, 180, 135,  89,  44,   5,   0,   0,   0,\n",
              "         0,   0,   0,   0, 193, 183,   0,   0,   0,   0,   0,   0,   0,\n",
              "       250, 219, 152, 106,  62,  16,   0,   0,   0,   0,   0,   0,   0,\n",
              "         0,   0,   0,   0,   0,   0, 193, 183,   0,   0,   0,   0,   0,\n",
              "         0,   0, 241, 136,   0,   0,   0,   0,   0,   0,   0,   0,   0,\n",
              "         0,   0,   0,   0,   0,   0,   0,   0, 193, 183,   0,   0,   0,\n",
              "         0,   0,   0,   0, 212, 165,   0,   0,   0,   0,   0,   0,   0,\n",
              "         0,   0,   0,   0,   0,   0,   0,   0,   0,   0, 188, 189,   0,\n",
              "         0,   0,   0,   0,   0,   0, 183, 194,   0,   0,   0,   0,   0,\n",
              "         0,   0,   0,   0,   0,   0,   0,   0,   0,   0,   0,   0, 166,\n",
              "       211,   0,   0,   0,   0,   0,   0,   0, 162, 215,   0,   0,   0,\n",
              "         0,   0,   0,   0,   0,   0,   0,   0,   0,   0,   0,   0,   0,\n",
              "         0, 143, 235,   0,   0,   0,   0,   0,   0,   0, 155, 222,   0,\n",
              "         0,   0,   0,   0,  24,  84,  85,  82,  18,   0,   0,   0,   0,\n",
              "         0,   0,   0, 120, 254,   5,   0,   0,   0,   0,   0,   0, 149,\n",
              "       228,   0,   0,   0,   0, 109, 246, 255, 255, 255, 237,  22,   0,\n",
              "         0,   0,   0,   0,   0,  96, 255,  27,   0,   0,   0,   0,   0,\n",
              "         0, 142, 235,   0,   0,   0,  22, 245, 181,  45,  34,  99, 255,\n",
              "       212,   0,   0,   0,   0,   0,   0,  72, 255,  50,   0,   0,   0,\n",
              "         0,   0,   0, 135, 241,   0,   0,   0, 111, 254,  33,   0,   0,\n",
              "        83, 255, 248,   0,   0,   0,   0,   0,   0,  49, 255,  74,   0,\n",
              "         0,   0,   0,   0,   0, 129, 248,   0,   0,   0, 134, 242,   0,\n",
              "         0,   0, 109, 255, 254,  10,   0,   0,   0,   0,   0,  25, 255,\n",
              "        97,   0,   0,   0,   0,   0,   0, 123, 254,   1,   0,   0, 131,\n",
              "       250,  73,   0,  63, 248, 255, 255,  55,   0,   0,   0,   0,   0,\n",
              "         4, 253, 121,   0,   0,   0,   0,   0,   0, 116, 255,   6,   0,\n",
              "         0,  18, 212, 255, 255, 255, 254, 255, 255, 110,   0,   0,   0,\n",
              "         0,   0,   0, 234, 144,   0,   0,   0,   0,   0,   0, 109, 255,\n",
              "        12,   0,   0,   0,   4,  88, 119, 102, 250, 255, 255, 177,   0,\n",
              "         0,   0,   0,   0,   0, 210, 168,   0,   0,   0,   0,   0,   0,\n",
              "       103, 255,  19,   0,   0,   0,   0,   0,   0,   0, 250, 255, 255,\n",
              "       216,   0,   0,   0,   0,   0,   0, 186, 191,   0,   0,   0,   0,\n",
              "         0,   0,  96, 255,  26,   0,   0,   0,   0,   0,   0,   0, 250,\n",
              "       255, 255, 207,   0,   0,   0,   0,   0,   0, 163, 215,   0,   0,\n",
              "         0,   0,   0,   0,  77, 255,  45,   0,   0,   0,   0,   0,   0,\n",
              "         0, 249, 255, 255, 104,   0,   0,   0,   0,   0,   0, 143, 234,\n",
              "         0,   0,   0,   0,   0,   0,  49, 255,  73,   0,   0,   0,   0,\n",
              "         0,   0,   0, 239, 239, 180,  56,   0,   0,   0,   0,   0,   0,\n",
              "       136, 240,   0,   0,   0,   0,   0,   0,  21, 255, 102,   0,   0,\n",
              "         0,   0,   0,   0,   0,  33,   8,   0,   0,   0,   0,   0,   0,\n",
              "         0,   0, 130, 246,   0,   0,   0,   0,   0,   0,   1, 247, 130,\n",
              "         0,   0,   0,   0,   0,   0,   0,   0,   0,   0,   0,   0,   0,\n",
              "         0,   0,   0,   0, 124, 252,   0,   0,   0,   0,   0,   0,   0,\n",
              "       219, 226, 175, 149, 127, 105,  79,  58,  33,  10,   0,   0,   0,\n",
              "         0,   0,  21,  53,  85, 123, 214, 233,   0,   0,   0,   0,   0,\n",
              "         0,   0, 100, 180, 204, 228, 249, 255, 255, 255, 255, 255, 255,\n",
              "       255, 255, 255, 255, 255, 255, 255, 252, 199,  75,   0,   0,   0,\n",
              "         0,   0,   0,   0,   0,   0,   0,   0,   0,  20,  42,  65,  90,\n",
              "       112, 119, 119, 119, 119, 119, 102,  70,  39,   7,   0,   0,   0,\n",
              "         0,   0,   0,   0,   0,   0,   0,   0,   0,   0,   0,   0,   0,\n",
              "         0,   0,   0,   0,   0,   0,   0,   0,   0,   0,   0,   0,   0,\n",
              "         0,   0,   0,   0], dtype=uint8)"
            ]
          },
          "metadata": {
            "tags": []
          },
          "execution_count": 6
        }
      ]
    },
    {
      "cell_type": "code",
      "metadata": {
        "id": "JLm52YQi4FTJ",
        "outputId": "0fc326eb-5f5d-4633-b655-39078302352c",
        "colab": {
          "base_uri": "https://localhost:8080/"
        }
      },
      "source": [
        "# # Flatten to turn all numbers into 0 thru 1 to normalize\n",
        "X = X.astype('float32') /255\n",
        "X[3]"
      ],
      "execution_count": 7,
      "outputs": [
        {
          "output_type": "execute_result",
          "data": {
            "text/plain": [
              "array([0.        , 0.        , 0.        , 0.        , 0.        ,\n",
              "       0.        , 0.        , 0.        , 0.        , 0.        ,\n",
              "       0.        , 0.        , 0.        , 0.        , 0.        ,\n",
              "       0.        , 0.        , 0.        , 0.        , 0.        ,\n",
              "       0.        , 0.        , 0.        , 0.        , 0.        ,\n",
              "       0.        , 0.        , 0.        , 0.        , 0.        ,\n",
              "       0.        , 0.        , 0.        , 0.        , 0.        ,\n",
              "       0.        , 0.        , 0.        , 0.        , 0.        ,\n",
              "       0.        , 0.        , 0.        , 0.        , 0.        ,\n",
              "       0.02745098, 0.10588235, 0.1882353 , 0.2784314 , 0.36078432,\n",
              "       0.4392157 , 0.21568628, 0.        , 0.        , 0.        ,\n",
              "       0.        , 0.        , 0.        , 0.        , 0.7019608 ,\n",
              "       0.5254902 , 0.        , 0.        , 0.        , 0.        ,\n",
              "       0.        , 0.        , 0.01176471, 0.14509805, 0.32941177,\n",
              "       0.5058824 , 0.68235296, 0.8627451 , 0.99215686, 1.        ,\n",
              "       1.        , 1.        , 1.        , 1.        , 0.70980394,\n",
              "       0.        , 0.        , 0.        , 0.        , 0.        ,\n",
              "       0.        , 0.        , 0.8666667 , 0.6039216 , 0.        ,\n",
              "       0.07843138, 0.25882354, 0.43529412, 0.6117647 , 0.79607844,\n",
              "       0.9607843 , 1.        , 1.        , 0.9764706 , 0.8156863 ,\n",
              "       0.6392157 , 0.46666667, 0.36862746, 0.2901961 , 0.20784314,\n",
              "       0.11764706, 0.77254903, 0.7176471 , 0.        , 0.        ,\n",
              "       0.        , 0.        , 0.        , 0.        , 0.        ,\n",
              "       0.9254902 , 0.9019608 , 0.9019608 , 1.        , 1.        ,\n",
              "       1.        , 0.88235295, 0.7058824 , 0.5294118 , 0.34901962,\n",
              "       0.17254902, 0.01960784, 0.        , 0.        , 0.        ,\n",
              "       0.        , 0.        , 0.        , 0.        , 0.75686276,\n",
              "       0.7176471 , 0.        , 0.        , 0.        , 0.        ,\n",
              "       0.        , 0.        , 0.        , 0.98039216, 0.85882354,\n",
              "       0.59607846, 0.41568628, 0.24313726, 0.0627451 , 0.        ,\n",
              "       0.        , 0.        , 0.        , 0.        , 0.        ,\n",
              "       0.        , 0.        , 0.        , 0.        , 0.        ,\n",
              "       0.        , 0.        , 0.75686276, 0.7176471 , 0.        ,\n",
              "       0.        , 0.        , 0.        , 0.        , 0.        ,\n",
              "       0.        , 0.94509804, 0.53333336, 0.        , 0.        ,\n",
              "       0.        , 0.        , 0.        , 0.        , 0.        ,\n",
              "       0.        , 0.        , 0.        , 0.        , 0.        ,\n",
              "       0.        , 0.        , 0.        , 0.        , 0.        ,\n",
              "       0.75686276, 0.7176471 , 0.        , 0.        , 0.        ,\n",
              "       0.        , 0.        , 0.        , 0.        , 0.83137256,\n",
              "       0.64705884, 0.        , 0.        , 0.        , 0.        ,\n",
              "       0.        , 0.        , 0.        , 0.        , 0.        ,\n",
              "       0.        , 0.        , 0.        , 0.        , 0.        ,\n",
              "       0.        , 0.        , 0.        , 0.7372549 , 0.7411765 ,\n",
              "       0.        , 0.        , 0.        , 0.        , 0.        ,\n",
              "       0.        , 0.        , 0.7176471 , 0.7607843 , 0.        ,\n",
              "       0.        , 0.        , 0.        , 0.        , 0.        ,\n",
              "       0.        , 0.        , 0.        , 0.        , 0.        ,\n",
              "       0.        , 0.        , 0.        , 0.        , 0.        ,\n",
              "       0.        , 0.6509804 , 0.827451  , 0.        , 0.        ,\n",
              "       0.        , 0.        , 0.        , 0.        , 0.        ,\n",
              "       0.63529414, 0.84313726, 0.        , 0.        , 0.        ,\n",
              "       0.        , 0.        , 0.        , 0.        , 0.        ,\n",
              "       0.        , 0.        , 0.        , 0.        , 0.        ,\n",
              "       0.        , 0.        , 0.        , 0.        , 0.56078434,\n",
              "       0.92156863, 0.        , 0.        , 0.        , 0.        ,\n",
              "       0.        , 0.        , 0.        , 0.60784316, 0.87058824,\n",
              "       0.        , 0.        , 0.        , 0.        , 0.        ,\n",
              "       0.09411765, 0.32941177, 0.33333334, 0.32156864, 0.07058824,\n",
              "       0.        , 0.        , 0.        , 0.        , 0.        ,\n",
              "       0.        , 0.        , 0.47058824, 0.99607843, 0.01960784,\n",
              "       0.        , 0.        , 0.        , 0.        , 0.        ,\n",
              "       0.        , 0.58431375, 0.89411765, 0.        , 0.        ,\n",
              "       0.        , 0.        , 0.42745098, 0.9647059 , 1.        ,\n",
              "       1.        , 1.        , 0.92941177, 0.08627451, 0.        ,\n",
              "       0.        , 0.        , 0.        , 0.        , 0.        ,\n",
              "       0.3764706 , 1.        , 0.10588235, 0.        , 0.        ,\n",
              "       0.        , 0.        , 0.        , 0.        , 0.5568628 ,\n",
              "       0.92156863, 0.        , 0.        , 0.        , 0.08627451,\n",
              "       0.9607843 , 0.70980394, 0.1764706 , 0.13333334, 0.3882353 ,\n",
              "       1.        , 0.83137256, 0.        , 0.        , 0.        ,\n",
              "       0.        , 0.        , 0.        , 0.28235295, 1.        ,\n",
              "       0.19607843, 0.        , 0.        , 0.        , 0.        ,\n",
              "       0.        , 0.        , 0.5294118 , 0.94509804, 0.        ,\n",
              "       0.        , 0.        , 0.43529412, 0.99607843, 0.12941177,\n",
              "       0.        , 0.        , 0.3254902 , 1.        , 0.972549  ,\n",
              "       0.        , 0.        , 0.        , 0.        , 0.        ,\n",
              "       0.        , 0.19215687, 1.        , 0.2901961 , 0.        ,\n",
              "       0.        , 0.        , 0.        , 0.        , 0.        ,\n",
              "       0.5058824 , 0.972549  , 0.        , 0.        , 0.        ,\n",
              "       0.5254902 , 0.9490196 , 0.        , 0.        , 0.        ,\n",
              "       0.42745098, 1.        , 0.99607843, 0.03921569, 0.        ,\n",
              "       0.        , 0.        , 0.        , 0.        , 0.09803922,\n",
              "       1.        , 0.38039216, 0.        , 0.        , 0.        ,\n",
              "       0.        , 0.        , 0.        , 0.48235294, 0.99607843,\n",
              "       0.00392157, 0.        , 0.        , 0.5137255 , 0.98039216,\n",
              "       0.28627452, 0.        , 0.24705882, 0.972549  , 1.        ,\n",
              "       1.        , 0.21568628, 0.        , 0.        , 0.        ,\n",
              "       0.        , 0.        , 0.01568628, 0.99215686, 0.4745098 ,\n",
              "       0.        , 0.        , 0.        , 0.        , 0.        ,\n",
              "       0.        , 0.45490196, 1.        , 0.02352941, 0.        ,\n",
              "       0.        , 0.07058824, 0.83137256, 1.        , 1.        ,\n",
              "       1.        , 0.99607843, 1.        , 1.        , 0.43137255,\n",
              "       0.        , 0.        , 0.        , 0.        , 0.        ,\n",
              "       0.        , 0.91764706, 0.5647059 , 0.        , 0.        ,\n",
              "       0.        , 0.        , 0.        , 0.        , 0.42745098,\n",
              "       1.        , 0.04705882, 0.        , 0.        , 0.        ,\n",
              "       0.01568628, 0.34509805, 0.46666667, 0.4       , 0.98039216,\n",
              "       1.        , 1.        , 0.69411767, 0.        , 0.        ,\n",
              "       0.        , 0.        , 0.        , 0.        , 0.8235294 ,\n",
              "       0.65882355, 0.        , 0.        , 0.        , 0.        ,\n",
              "       0.        , 0.        , 0.40392157, 1.        , 0.07450981,\n",
              "       0.        , 0.        , 0.        , 0.        , 0.        ,\n",
              "       0.        , 0.        , 0.98039216, 1.        , 1.        ,\n",
              "       0.84705883, 0.        , 0.        , 0.        , 0.        ,\n",
              "       0.        , 0.        , 0.7294118 , 0.7490196 , 0.        ,\n",
              "       0.        , 0.        , 0.        , 0.        , 0.        ,\n",
              "       0.3764706 , 1.        , 0.10196079, 0.        , 0.        ,\n",
              "       0.        , 0.        , 0.        , 0.        , 0.        ,\n",
              "       0.98039216, 1.        , 1.        , 0.8117647 , 0.        ,\n",
              "       0.        , 0.        , 0.        , 0.        , 0.        ,\n",
              "       0.6392157 , 0.84313726, 0.        , 0.        , 0.        ,\n",
              "       0.        , 0.        , 0.        , 0.3019608 , 1.        ,\n",
              "       0.1764706 , 0.        , 0.        , 0.        , 0.        ,\n",
              "       0.        , 0.        , 0.        , 0.9764706 , 1.        ,\n",
              "       1.        , 0.40784314, 0.        , 0.        , 0.        ,\n",
              "       0.        , 0.        , 0.        , 0.56078434, 0.91764706,\n",
              "       0.        , 0.        , 0.        , 0.        , 0.        ,\n",
              "       0.        , 0.19215687, 1.        , 0.28627452, 0.        ,\n",
              "       0.        , 0.        , 0.        , 0.        , 0.        ,\n",
              "       0.        , 0.9372549 , 0.9372549 , 0.7058824 , 0.21960784,\n",
              "       0.        , 0.        , 0.        , 0.        , 0.        ,\n",
              "       0.        , 0.53333336, 0.9411765 , 0.        , 0.        ,\n",
              "       0.        , 0.        , 0.        , 0.        , 0.08235294,\n",
              "       1.        , 0.4       , 0.        , 0.        , 0.        ,\n",
              "       0.        , 0.        , 0.        , 0.        , 0.12941177,\n",
              "       0.03137255, 0.        , 0.        , 0.        , 0.        ,\n",
              "       0.        , 0.        , 0.        , 0.        , 0.50980395,\n",
              "       0.9647059 , 0.        , 0.        , 0.        , 0.        ,\n",
              "       0.        , 0.        , 0.00392157, 0.96862745, 0.50980395,\n",
              "       0.        , 0.        , 0.        , 0.        , 0.        ,\n",
              "       0.        , 0.        , 0.        , 0.        , 0.        ,\n",
              "       0.        , 0.        , 0.        , 0.        , 0.        ,\n",
              "       0.        , 0.        , 0.4862745 , 0.9882353 , 0.        ,\n",
              "       0.        , 0.        , 0.        , 0.        , 0.        ,\n",
              "       0.        , 0.85882354, 0.8862745 , 0.6862745 , 0.58431375,\n",
              "       0.49803922, 0.4117647 , 0.30980393, 0.22745098, 0.12941177,\n",
              "       0.03921569, 0.        , 0.        , 0.        , 0.        ,\n",
              "       0.        , 0.08235294, 0.20784314, 0.33333334, 0.48235294,\n",
              "       0.8392157 , 0.9137255 , 0.        , 0.        , 0.        ,\n",
              "       0.        , 0.        , 0.        , 0.        , 0.39215687,\n",
              "       0.7058824 , 0.8       , 0.89411765, 0.9764706 , 1.        ,\n",
              "       1.        , 1.        , 1.        , 1.        , 1.        ,\n",
              "       1.        , 1.        , 1.        , 1.        , 1.        ,\n",
              "       1.        , 1.        , 0.9882353 , 0.78039217, 0.29411766,\n",
              "       0.        , 0.        , 0.        , 0.        , 0.        ,\n",
              "       0.        , 0.        , 0.        , 0.        , 0.        ,\n",
              "       0.        , 0.        , 0.07843138, 0.16470589, 0.25490198,\n",
              "       0.3529412 , 0.4392157 , 0.46666667, 0.46666667, 0.46666667,\n",
              "       0.46666667, 0.46666667, 0.4       , 0.27450982, 0.15294118,\n",
              "       0.02745098, 0.        , 0.        , 0.        , 0.        ,\n",
              "       0.        , 0.        , 0.        , 0.        , 0.        ,\n",
              "       0.        , 0.        , 0.        , 0.        , 0.        ,\n",
              "       0.        , 0.        , 0.        , 0.        , 0.        ,\n",
              "       0.        , 0.        , 0.        , 0.        , 0.        ,\n",
              "       0.        , 0.        , 0.        , 0.        , 0.        ,\n",
              "       0.        , 0.        , 0.        , 0.        ], dtype=float32)"
            ]
          },
          "metadata": {
            "tags": []
          },
          "execution_count": 7
        }
      ]
    },
    {
      "cell_type": "markdown",
      "metadata": {
        "id": "jb70CbLVyK65"
      },
      "source": [
        "## Build Your Baseline Model\n",
        "Some Hints:\n",
        "\n",
        "\n",
        "*  Model should have 784 input values (like mnist)\n",
        "*  Use `sparse_categorical_crossentropy` as your loss function.\n",
        "* You need 10 neurons in your last layer for output\n",
        "* You can add as many hidden layers with as many neurons in them as you like. \n",
        "* Limit your model epochs to 30 each time you fit.\n",
        "* You can use the `validation_split` command to automatically create a training / validation dataset.  Specify a percentage such as .2 in your fit statement. \n",
        "\n"
      ]
    },
    {
      "cell_type": "code",
      "metadata": {
        "id": "zHWblzsMyNkU"
      },
      "source": [
        "import tensorflow as tf\n",
        "from tensorflow.keras.models import Sequential\n",
        "from tensorflow.keras.layers import Dense"
      ],
      "execution_count": 8,
      "outputs": []
    },
    {
      "cell_type": "code",
      "metadata": {
        "id": "tZjUVDIu4FF5",
        "outputId": "4bd16ca7-6e87-42ea-98b2-e5dbed94ddfb",
        "colab": {
          "base_uri": "https://localhost:8080/"
        }
      },
      "source": [
        "# Instantiate the model\n",
        "model = Sequential([\n",
        "                    Dense(64, activation='relu', input_dim=784),\n",
        "                    Dense(32, activation='relu'),\n",
        "                    Dense(10, activation='softmax')\n",
        "])\n",
        "\n",
        "model.compile(loss='sparse_categorical_crossentropy',\n",
        "              optimizer='sgd',\n",
        "              metrics=['accuracy'])\n",
        "\n",
        "model.summary()"
      ],
      "execution_count": 9,
      "outputs": [
        {
          "output_type": "stream",
          "text": [
            "Model: \"sequential\"\n",
            "_________________________________________________________________\n",
            "Layer (type)                 Output Shape              Param #   \n",
            "=================================================================\n",
            "dense (Dense)                (None, 64)                50240     \n",
            "_________________________________________________________________\n",
            "dense_1 (Dense)              (None, 32)                2080      \n",
            "_________________________________________________________________\n",
            "dense_2 (Dense)              (None, 10)                330       \n",
            "=================================================================\n",
            "Total params: 52,650\n",
            "Trainable params: 52,650\n",
            "Non-trainable params: 0\n",
            "_________________________________________________________________\n"
          ],
          "name": "stdout"
        }
      ]
    },
    {
      "cell_type": "code",
      "metadata": {
        "id": "TjEdTwjwAfvN",
        "outputId": "c1a49273-9ea3-4596-aa84-91d0698b947a",
        "colab": {
          "base_uri": "https://localhost:8080/"
        }
      },
      "source": [
        "baseline = model.fit(X, y,\n",
        "                     epochs=30,\n",
        "                     validation_split=0.2)"
      ],
      "execution_count": 10,
      "outputs": [
        {
          "output_type": "stream",
          "text": [
            "Epoch 1/30\n",
            "   1/2500 [..............................] - ETA: 1s - loss: 2.3008 - accuracy: 0.0938WARNING:tensorflow:Callbacks method `on_train_batch_end` is slow compared to the batch time (batch time: 0.0016s vs `on_train_batch_end` time: 0.0039s). Check your callbacks.\n",
            "2500/2500 [==============================] - 5s 2ms/step - loss: 1.1329 - accuracy: 0.6555 - val_loss: 0.8522 - val_accuracy: 0.7544\n",
            "Epoch 2/30\n",
            "2500/2500 [==============================] - 5s 2ms/step - loss: 0.7847 - accuracy: 0.7720 - val_loss: 0.7421 - val_accuracy: 0.7851\n",
            "Epoch 3/30\n",
            "2500/2500 [==============================] - 5s 2ms/step - loss: 0.6954 - accuracy: 0.7964 - val_loss: 0.6833 - val_accuracy: 0.7972\n",
            "Epoch 4/30\n",
            "2500/2500 [==============================] - 5s 2ms/step - loss: 0.6394 - accuracy: 0.8128 - val_loss: 0.6331 - val_accuracy: 0.8146\n",
            "Epoch 5/30\n",
            "2500/2500 [==============================] - 5s 2ms/step - loss: 0.6016 - accuracy: 0.8234 - val_loss: 0.6069 - val_accuracy: 0.8223\n",
            "Epoch 6/30\n",
            "2500/2500 [==============================] - 5s 2ms/step - loss: 0.5721 - accuracy: 0.8302 - val_loss: 0.5879 - val_accuracy: 0.8269\n",
            "Epoch 7/30\n",
            "2500/2500 [==============================] - 5s 2ms/step - loss: 0.5486 - accuracy: 0.8372 - val_loss: 0.5728 - val_accuracy: 0.8303\n",
            "Epoch 8/30\n",
            "2500/2500 [==============================] - 5s 2ms/step - loss: 0.5284 - accuracy: 0.8432 - val_loss: 0.5569 - val_accuracy: 0.8361\n",
            "Epoch 9/30\n",
            "2500/2500 [==============================] - 5s 2ms/step - loss: 0.5104 - accuracy: 0.8484 - val_loss: 0.5427 - val_accuracy: 0.8396\n",
            "Epoch 10/30\n",
            "2500/2500 [==============================] - 5s 2ms/step - loss: 0.4940 - accuracy: 0.8534 - val_loss: 0.5345 - val_accuracy: 0.8425\n",
            "Epoch 11/30\n",
            "2500/2500 [==============================] - 5s 2ms/step - loss: 0.4792 - accuracy: 0.8577 - val_loss: 0.5225 - val_accuracy: 0.8467\n",
            "Epoch 12/30\n",
            "2500/2500 [==============================] - 5s 2ms/step - loss: 0.4652 - accuracy: 0.8622 - val_loss: 0.5169 - val_accuracy: 0.8486\n",
            "Epoch 13/30\n",
            "2500/2500 [==============================] - 5s 2ms/step - loss: 0.4526 - accuracy: 0.8667 - val_loss: 0.5163 - val_accuracy: 0.8478\n",
            "Epoch 14/30\n",
            "2500/2500 [==============================] - 5s 2ms/step - loss: 0.4409 - accuracy: 0.8699 - val_loss: 0.5026 - val_accuracy: 0.8528\n",
            "Epoch 15/30\n",
            "2500/2500 [==============================] - 5s 2ms/step - loss: 0.4303 - accuracy: 0.8728 - val_loss: 0.4966 - val_accuracy: 0.8551\n",
            "Epoch 16/30\n",
            "2500/2500 [==============================] - 5s 2ms/step - loss: 0.4210 - accuracy: 0.8766 - val_loss: 0.4975 - val_accuracy: 0.8530\n",
            "Epoch 17/30\n",
            "2500/2500 [==============================] - 5s 2ms/step - loss: 0.4112 - accuracy: 0.8792 - val_loss: 0.4911 - val_accuracy: 0.8564\n",
            "Epoch 18/30\n",
            "2500/2500 [==============================] - 5s 2ms/step - loss: 0.4032 - accuracy: 0.8816 - val_loss: 0.4885 - val_accuracy: 0.8573\n",
            "Epoch 19/30\n",
            "2500/2500 [==============================] - 5s 2ms/step - loss: 0.3954 - accuracy: 0.8829 - val_loss: 0.4904 - val_accuracy: 0.8565\n",
            "Epoch 20/30\n",
            "2500/2500 [==============================] - 5s 2ms/step - loss: 0.3878 - accuracy: 0.8860 - val_loss: 0.4911 - val_accuracy: 0.8564\n",
            "Epoch 21/30\n",
            "2500/2500 [==============================] - 5s 2ms/step - loss: 0.3813 - accuracy: 0.8876 - val_loss: 0.4860 - val_accuracy: 0.8575\n",
            "Epoch 22/30\n",
            "2500/2500 [==============================] - 5s 2ms/step - loss: 0.3752 - accuracy: 0.8899 - val_loss: 0.4856 - val_accuracy: 0.8580\n",
            "Epoch 23/30\n",
            "2500/2500 [==============================] - 5s 2ms/step - loss: 0.3697 - accuracy: 0.8909 - val_loss: 0.4900 - val_accuracy: 0.8566\n",
            "Epoch 24/30\n",
            "2500/2500 [==============================] - 5s 2ms/step - loss: 0.3638 - accuracy: 0.8925 - val_loss: 0.4850 - val_accuracy: 0.8593\n",
            "Epoch 25/30\n",
            "2500/2500 [==============================] - 5s 2ms/step - loss: 0.3584 - accuracy: 0.8942 - val_loss: 0.4900 - val_accuracy: 0.8579\n",
            "Epoch 26/30\n",
            "2500/2500 [==============================] - 5s 2ms/step - loss: 0.3531 - accuracy: 0.8961 - val_loss: 0.4904 - val_accuracy: 0.8564\n",
            "Epoch 27/30\n",
            "2500/2500 [==============================] - 5s 2ms/step - loss: 0.3487 - accuracy: 0.8970 - val_loss: 0.4863 - val_accuracy: 0.8572\n",
            "Epoch 28/30\n",
            "2500/2500 [==============================] - 5s 2ms/step - loss: 0.3441 - accuracy: 0.8991 - val_loss: 0.5025 - val_accuracy: 0.8541\n",
            "Epoch 29/30\n",
            "2500/2500 [==============================] - 5s 2ms/step - loss: 0.3394 - accuracy: 0.9007 - val_loss: 0.4925 - val_accuracy: 0.8570\n",
            "Epoch 30/30\n",
            "2500/2500 [==============================] - 5s 2ms/step - loss: 0.3355 - accuracy: 0.9015 - val_loss: 0.4913 - val_accuracy: 0.8575\n"
          ],
          "name": "stdout"
        }
      ]
    },
    {
      "cell_type": "markdown",
      "metadata": {
        "id": "b0QJURWh-9uv"
      },
      "source": [
        "### Visualize the results\n",
        "\n",
        "Create charts for both loss and accuracy by epoch. Use line graphs for both charts. Analyze the results. \n",
        "\n",
        "At what point should we have stopped training the model and why? "
      ]
    },
    {
      "cell_type": "code",
      "metadata": {
        "id": "KONJtU5wqlXf",
        "outputId": "7f917f65-d6ad-4766-9673-fdeb16d8efdb",
        "colab": {
          "base_uri": "https://localhost:8080/"
        }
      },
      "source": [
        "baseline.history"
      ],
      "execution_count": 11,
      "outputs": [
        {
          "output_type": "execute_result",
          "data": {
            "text/plain": [
              "{'accuracy': [0.6554874777793884,\n",
              "  0.77201247215271,\n",
              "  0.7963625192642212,\n",
              "  0.8128125071525574,\n",
              "  0.8233875036239624,\n",
              "  0.83017498254776,\n",
              "  0.8371999859809875,\n",
              "  0.8432124853134155,\n",
              "  0.8484249711036682,\n",
              "  0.8533874750137329,\n",
              "  0.8577374815940857,\n",
              "  0.8621624708175659,\n",
              "  0.8667374849319458,\n",
              "  0.8698750138282776,\n",
              "  0.8727625012397766,\n",
              "  0.8766124844551086,\n",
              "  0.879212498664856,\n",
              "  0.8816375136375427,\n",
              "  0.8829249739646912,\n",
              "  0.8859750032424927,\n",
              "  0.887624979019165,\n",
              "  0.8899499773979187,\n",
              "  0.8909124732017517,\n",
              "  0.8924624919891357,\n",
              "  0.8941624760627747,\n",
              "  0.8961125016212463,\n",
              "  0.89701247215271,\n",
              "  0.8990749716758728,\n",
              "  0.9007375240325928,\n",
              "  0.9015250205993652],\n",
              " 'loss': [1.1329113245010376,\n",
              "  0.7846825122833252,\n",
              "  0.6954333186149597,\n",
              "  0.6393576264381409,\n",
              "  0.6015580892562866,\n",
              "  0.5721497535705566,\n",
              "  0.5486173629760742,\n",
              "  0.5283852219581604,\n",
              "  0.5104231238365173,\n",
              "  0.4939943850040436,\n",
              "  0.4791770875453949,\n",
              "  0.46515190601348877,\n",
              "  0.45259082317352295,\n",
              "  0.44094565510749817,\n",
              "  0.430302232503891,\n",
              "  0.42099452018737793,\n",
              "  0.41115111112594604,\n",
              "  0.4031866788864136,\n",
              "  0.39537522196769714,\n",
              "  0.3878078758716583,\n",
              "  0.38129258155822754,\n",
              "  0.3751750588417053,\n",
              "  0.3697105348110199,\n",
              "  0.3638145625591278,\n",
              "  0.3583625853061676,\n",
              "  0.3530903458595276,\n",
              "  0.34867680072784424,\n",
              "  0.3441331386566162,\n",
              "  0.33935561776161194,\n",
              "  0.3354857265949249],\n",
              " 'val_accuracy': [0.7543500065803528,\n",
              "  0.785099983215332,\n",
              "  0.797249972820282,\n",
              "  0.8145999908447266,\n",
              "  0.8222500085830688,\n",
              "  0.8269000053405762,\n",
              "  0.8302500247955322,\n",
              "  0.8361499905586243,\n",
              "  0.8395500183105469,\n",
              "  0.8424500226974487,\n",
              "  0.8466500043869019,\n",
              "  0.8485999703407288,\n",
              "  0.8478000164031982,\n",
              "  0.8528000116348267,\n",
              "  0.8550999760627747,\n",
              "  0.8530499935150146,\n",
              "  0.8564000129699707,\n",
              "  0.8572999835014343,\n",
              "  0.8565000295639038,\n",
              "  0.8564000129699707,\n",
              "  0.857450008392334,\n",
              "  0.8580499887466431,\n",
              "  0.8566499948501587,\n",
              "  0.859250009059906,\n",
              "  0.8578500151634216,\n",
              "  0.8564000129699707,\n",
              "  0.8572499752044678,\n",
              "  0.8540999889373779,\n",
              "  0.8569999933242798,\n",
              "  0.8575000166893005],\n",
              " 'val_loss': [0.8521676063537598,\n",
              "  0.7421498894691467,\n",
              "  0.6832704544067383,\n",
              "  0.6330867409706116,\n",
              "  0.6068660020828247,\n",
              "  0.587881863117218,\n",
              "  0.5727968215942383,\n",
              "  0.5569473505020142,\n",
              "  0.5427255630493164,\n",
              "  0.5344846248626709,\n",
              "  0.5224590301513672,\n",
              "  0.5168522000312805,\n",
              "  0.516290545463562,\n",
              "  0.5025967359542847,\n",
              "  0.4965939521789551,\n",
              "  0.49748465418815613,\n",
              "  0.4911326766014099,\n",
              "  0.48845335841178894,\n",
              "  0.49043306708335876,\n",
              "  0.491146981716156,\n",
              "  0.4860149919986725,\n",
              "  0.48556432127952576,\n",
              "  0.4900301694869995,\n",
              "  0.4849616289138794,\n",
              "  0.4899652898311615,\n",
              "  0.49040487408638,\n",
              "  0.48625877499580383,\n",
              "  0.5025034546852112,\n",
              "  0.4925127327442169,\n",
              "  0.49134400486946106]}"
            ]
          },
          "metadata": {
            "tags": []
          },
          "execution_count": 11
        }
      ]
    },
    {
      "cell_type": "code",
      "metadata": {
        "id": "ijAlzfYKAFaY",
        "outputId": "06e27ea0-f306-45d4-9807-c9bf9caba771",
        "colab": {
          "base_uri": "https://localhost:8080/",
          "height": 279
        }
      },
      "source": [
        "import seaborn as sns\n",
        "import pandas as pd\n",
        "\n",
        "df = pd.DataFrame.from_records(baseline.history)\n",
        "df['epoch'] = [i for i in range(df.shape[0])]\n",
        "\n",
        "ax = sns.lineplot(x='epoch', y='val_loss', data=df)\n",
        "ax = sns.lineplot(x='epoch', y='loss', data=df);"
      ],
      "execution_count": 12,
      "outputs": [
        {
          "output_type": "display_data",
          "data": {
            "image/png": "[encoded data removed]",
            "text/plain": [
              "<Figure size 432x288 with 1 Axes>"
            ]
          },
          "metadata": {
            "tags": [],
            "needs_background": "light"
          }
        }
      ]
    },
    {
      "cell_type": "code",
      "metadata": {
        "id": "-FjPCymyJBvW"
      },
      "source": [
        "%load_ext tensorboard\n",
        "\n",
        "import os\n",
        "import datetime\n",
        "import tensorflow as tf\n",
        "\n",
        "logdir = os.path.join(\"logs\", datetime.datetime.now().strftime(\"%Y%m%d-%H%M%S\"))\n",
        "tensorboard_callback = tf.keras.callbacks.TensorBoard(logdir, histogram_freq=1)"
      ],
      "execution_count": 13,
      "outputs": []
    },
    {
      "cell_type": "markdown",
      "metadata": {
        "id": "MAhBrcE4yOZe"
      },
      "source": [
        "## Change Optimizers\n",
        "Try using the keras `adam` optimizer instead of `sgd` in your model. Visualize the difference in validation loss between the models with different optimizers. "
      ]
    },
    {
      "cell_type": "code",
      "metadata": {
        "id": "jIW_spOZ0cxy",
        "outputId": "8497ff62-c5a2-4f2a-dbad-f23ed5345295",
        "colab": {
          "base_uri": "https://localhost:8080/"
        }
      },
      "source": [
        "from tensorflow.keras.optimizers import Adam\n",
        "\n",
        "adam = Adam()\n",
        "\n",
        "# Instantiate the model\n",
        "model = Sequential([\n",
        "                    Dense(128, activation='sigmoid', input_dim=784),\n",
        "                    Dense(64, activation='sigmoid'),\n",
        "                    Dense(32, activation='sigmoid'),\n",
        "                    Dense(10, activation='softmax')\n",
        "])\n",
        "\n",
        "model.compile(loss='sparse_categorical_crossentropy',\n",
        "              optimizer=adam,\n",
        "              metrics=['accuracy'])\n",
        "\n",
        "model.summary()"
      ],
      "execution_count": 14,
      "outputs": [
        {
          "output_type": "stream",
          "text": [
            "Model: \"sequential_1\"\n",
            "_________________________________________________________________\n",
            "Layer (type)                 Output Shape              Param #   \n",
            "=================================================================\n",
            "dense_3 (Dense)              (None, 128)               100480    \n",
            "_________________________________________________________________\n",
            "dense_4 (Dense)              (None, 64)                8256      \n",
            "_________________________________________________________________\n",
            "dense_5 (Dense)              (None, 32)                2080      \n",
            "_________________________________________________________________\n",
            "dense_6 (Dense)              (None, 10)                330       \n",
            "=================================================================\n",
            "Total params: 111,146\n",
            "Trainable params: 111,146\n",
            "Non-trainable params: 0\n",
            "_________________________________________________________________\n"
          ],
          "name": "stdout"
        }
      ]
    },
    {
      "cell_type": "code",
      "metadata": {
        "id": "lg8Aa_vvAcjZ",
        "outputId": "1a851838-32f4-4502-98e9-9a6b7cf62323",
        "colab": {
          "base_uri": "https://localhost:8080/"
        }
      },
      "source": [
        "baseline = model.fit(X, y, \n",
        "                     epochs=30,\n",
        "                     validation_split=0.2)"
      ],
      "execution_count": 16,
      "outputs": [
        {
          "output_type": "stream",
          "text": [
            "Epoch 1/30\n",
            "2500/2500 [==============================] - 7s 3ms/step - loss: 0.6274 - accuracy: 0.8142 - val_loss: 0.5685 - val_accuracy: 0.8333\n",
            "Epoch 2/30\n",
            "2500/2500 [==============================] - 7s 3ms/step - loss: 0.5126 - accuracy: 0.8467 - val_loss: 0.5132 - val_accuracy: 0.8493\n",
            "Epoch 3/30\n",
            "2500/2500 [==============================] - 7s 3ms/step - loss: 0.4554 - accuracy: 0.8651 - val_loss: 0.4957 - val_accuracy: 0.8546\n",
            "Epoch 4/30\n",
            "2500/2500 [==============================] - 7s 3ms/step - loss: 0.4152 - accuracy: 0.8778 - val_loss: 0.4736 - val_accuracy: 0.8606\n",
            "Epoch 5/30\n",
            "2500/2500 [==============================] - 7s 3ms/step - loss: 0.3847 - accuracy: 0.8862 - val_loss: 0.4641 - val_accuracy: 0.8648\n",
            "Epoch 6/30\n",
            "2500/2500 [==============================] - 7s 3ms/step - loss: 0.3585 - accuracy: 0.8953 - val_loss: 0.4824 - val_accuracy: 0.8568\n",
            "Epoch 7/30\n",
            "2500/2500 [==============================] - 7s 3ms/step - loss: 0.3370 - accuracy: 0.9024 - val_loss: 0.4766 - val_accuracy: 0.8618\n",
            "Epoch 8/30\n",
            "2500/2500 [==============================] - 7s 3ms/step - loss: 0.3155 - accuracy: 0.9072 - val_loss: 0.4748 - val_accuracy: 0.8627\n",
            "Epoch 9/30\n",
            "2500/2500 [==============================] - 7s 3ms/step - loss: 0.2982 - accuracy: 0.9135 - val_loss: 0.4878 - val_accuracy: 0.8605\n",
            "Epoch 10/30\n",
            "2500/2500 [==============================] - 7s 3ms/step - loss: 0.2814 - accuracy: 0.9182 - val_loss: 0.4700 - val_accuracy: 0.8662\n",
            "Epoch 11/30\n",
            "2500/2500 [==============================] - 7s 3ms/step - loss: 0.2663 - accuracy: 0.9229 - val_loss: 0.4927 - val_accuracy: 0.8625\n",
            "Epoch 12/30\n",
            "2500/2500 [==============================] - 7s 3ms/step - loss: 0.2517 - accuracy: 0.9283 - val_loss: 0.5066 - val_accuracy: 0.8614\n",
            "Epoch 13/30\n",
            "2500/2500 [==============================] - 7s 3ms/step - loss: 0.2387 - accuracy: 0.9316 - val_loss: 0.5035 - val_accuracy: 0.8637\n",
            "Epoch 14/30\n",
            "2500/2500 [==============================] - 7s 3ms/step - loss: 0.2274 - accuracy: 0.9349 - val_loss: 0.5235 - val_accuracy: 0.8589\n",
            "Epoch 15/30\n",
            "2500/2500 [==============================] - 7s 3ms/step - loss: 0.2149 - accuracy: 0.9385 - val_loss: 0.5362 - val_accuracy: 0.8585\n",
            "Epoch 16/30\n",
            "2500/2500 [==============================] - 6s 3ms/step - loss: 0.2047 - accuracy: 0.9414 - val_loss: 0.5252 - val_accuracy: 0.8609\n",
            "Epoch 17/30\n",
            "2500/2500 [==============================] - 7s 3ms/step - loss: 0.1955 - accuracy: 0.9441 - val_loss: 0.5431 - val_accuracy: 0.8626\n",
            "Epoch 18/30\n",
            "2500/2500 [==============================] - 7s 3ms/step - loss: 0.1861 - accuracy: 0.9473 - val_loss: 0.5529 - val_accuracy: 0.8617\n",
            "Epoch 19/30\n",
            "2500/2500 [==============================] - 7s 3ms/step - loss: 0.1772 - accuracy: 0.9498 - val_loss: 0.5846 - val_accuracy: 0.8552\n",
            "Epoch 20/30\n",
            "2500/2500 [==============================] - 7s 3ms/step - loss: 0.1681 - accuracy: 0.9530 - val_loss: 0.5792 - val_accuracy: 0.8605\n",
            "Epoch 21/30\n",
            "2500/2500 [==============================] - 7s 3ms/step - loss: 0.1632 - accuracy: 0.9538 - val_loss: 0.5979 - val_accuracy: 0.8576\n",
            "Epoch 22/30\n",
            "2500/2500 [==============================] - 7s 3ms/step - loss: 0.1544 - accuracy: 0.9569 - val_loss: 0.6295 - val_accuracy: 0.8544\n",
            "Epoch 23/30\n",
            "2500/2500 [==============================] - 7s 3ms/step - loss: 0.1479 - accuracy: 0.9578 - val_loss: 0.6338 - val_accuracy: 0.8551\n",
            "Epoch 24/30\n",
            "2500/2500 [==============================] - 7s 3ms/step - loss: 0.1417 - accuracy: 0.9602 - val_loss: 0.6418 - val_accuracy: 0.8554\n",
            "Epoch 25/30\n",
            "2500/2500 [==============================] - 7s 3ms/step - loss: 0.1353 - accuracy: 0.9617 - val_loss: 0.6628 - val_accuracy: 0.8561\n",
            "Epoch 26/30\n",
            "2500/2500 [==============================] - 7s 3ms/step - loss: 0.1302 - accuracy: 0.9634 - val_loss: 0.6719 - val_accuracy: 0.8555\n",
            "Epoch 27/30\n",
            "2500/2500 [==============================] - 7s 3ms/step - loss: 0.1241 - accuracy: 0.9653 - val_loss: 0.6874 - val_accuracy: 0.8568\n",
            "Epoch 28/30\n",
            "2500/2500 [==============================] - 7s 3ms/step - loss: 0.1207 - accuracy: 0.9657 - val_loss: 0.6949 - val_accuracy: 0.8547\n",
            "Epoch 29/30\n",
            "2500/2500 [==============================] - 7s 3ms/step - loss: 0.1165 - accuracy: 0.9672 - val_loss: 0.7183 - val_accuracy: 0.8542\n",
            "Epoch 30/30\n",
            "2500/2500 [==============================] - 7s 3ms/step - loss: 0.1114 - accuracy: 0.9688 - val_loss: 0.7145 - val_accuracy: 0.8523\n"
          ],
          "name": "stdout"
        }
      ]
    },
    {
      "cell_type": "code",
      "metadata": {
        "id": "fLpSFgwkbDNh",
        "outputId": "aa3e9761-6a7c-42eb-8780-7946daa9e0ae",
        "colab": {
          "base_uri": "https://localhost:8080/",
          "height": 279
        }
      },
      "source": [
        "df = pd.DataFrame.from_records(baseline.history)\n",
        "df['epoch'] = [i for i in range(df.shape[0])]\n",
        "\n",
        "ax = sns.lineplot(x='epoch', y='val_loss', data=df)\n",
        "ax = sns.lineplot(x='epoch', y='loss', data=df);"
      ],
      "execution_count": 17,
      "outputs": [
        {
          "output_type": "display_data",
          "data": {
            "image/png": "[encoded data removed]",
            "text/plain": [
              "<Figure size 432x288 with 1 Axes>"
            ]
          },
          "metadata": {
            "tags": [],
            "needs_background": "light"
          }
        }
      ]
    },
    {
      "cell_type": "markdown",
      "metadata": {
        "id": "EJrbh3qryi4w"
      },
      "source": [
        "### Additional Written Tasks:\n",
        "In this section, you will need to search for resources: \n",
        "1. Investigate the various [loss functions](https://www.tensorflow.org/api_docs/python/tf/keras/losses). Which is best suited for the task at hand (predicting 1 / 0) and why? \n",
        "2. What is the difference between a loss function and a metric? Why might we need both in Keras? \n",
        "3. Investigate the various [optimizers](https://www.tensorflow.org/api_docs/python/tf/keras/optimizers). Stochastic Gradient Descent (`sgd`) is not the learning algorithm dejour anyone. Why is that? What do newer optimizers such as `adam` have to offer? "
      ]
    },
    {
      "cell_type": "markdown",
      "metadata": {
        "id": "Gzs4fd-RynDd"
      },
      "source": [
        "## Stretch Goals: \n",
        "\n",
        "- Research convolutional neural networks and try including convolution layers in your network.\n",
        "- Pick two classes and make QuickDraw a binary classification problem, how does your model architecture change?\n",
        "- Implement Cross Validation model evaluation on your Quickdraw implementation \n",
        "\n",
        "Watch some more videos on Gradient Descent:\n",
        "- [Gradient Descent, Step-by-Step](https://www.youtube.com/watch?v=sDv4f4s2SB8)  by StatQuest w/ Josh Starmer. This will help you understand the gradient descent based optimization that happens underneath the hood of neural networks. It uses a non-neural network example, which I believe is a gentler introduction. You will hear me refer to this technique as \"vanilla\" gradient descent. \n",
        "- [Stochastic Gradient Descent, Clearly Explained!!!](https://www.youtube.com/watch?v=vMh0zPT0tLI) by StatQuest w/ Josh Starmer. This builds on the techniques in the previous video.  This technique is the one that is actually implemented inside modern 'nets. \n",
        "- [Siraj Raval the evolution of gradient descent](https://www.youtube.com/watch?v=nhqo0u1a6fw)"
      ]
    }
  ]
}